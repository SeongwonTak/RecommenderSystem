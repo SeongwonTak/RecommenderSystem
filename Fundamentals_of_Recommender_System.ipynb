{
  "nbformat": 4,
  "nbformat_minor": 0,
  "metadata": {
    "colab": {
      "name": "Fundamentals of Recommender System.ipynb",
      "provenance": [],
      "collapsed_sections": [],
      "toc_visible": true,
      "authorship_tag": "ABX9TyM6LAKOTUsb8mDB+kLrCOm3",
      "include_colab_link": true
    },
    "kernelspec": {
      "name": "python3",
      "display_name": "Python 3"
    }
  },
  "cells": [
    {
      "cell_type": "markdown",
      "metadata": {
        "id": "view-in-github",
        "colab_type": "text"
      },
      "source": [
        "<a href=\"https://colab.research.google.com/github/SeongwonTak/RecommenderSystem/blob/main/Fundamentals_of_Recommender_System.ipynb\" target=\"_parent\"><img src=\"https://colab.research.google.com/assets/colab-badge.svg\" alt=\"Open In Colab\"/></a>"
      ]
    },
    {
      "cell_type": "markdown",
      "metadata": {
        "id": "wOkUPXXCqNE_"
      },
      "source": [
        "\r\n",
        "#추천 시스템의 개요\r\n",
        "\r\n",
        "한달 전에 유튜브를 통해 추천시스템에 대해서 공부해보았는데, 조금 더 자세히 관련 내용 및 일부 논문을 찾아보며 내용에 대해 보강하고자 한다.\r\n",
        "\r\n",
        "(사실 내용 수정이 어느정도 필요하기에 다시 처음부터 공부하였다..)\r\n",
        "\r\n",
        "참고자료\r\n",
        "\r\n",
        "[1] Toward the Next Generation of Recommender Systems: A survey of the State-of-the-Art and Possible Extensions\r\n",
        "\r\n",
        "[2] Matrix Factorization techniques for recommender Systems (Yehuda Koren, Robert Bell and Chris Volinsky)\r\n"
      ]
    },
    {
      "cell_type": "markdown",
      "metadata": {
        "id": "lzI5XrODrOoo"
      },
      "source": [
        "크게 추천 시스템은\r\n",
        "- **content_based filtering** : 비슷한 아이템에 대해\r\n",
        "- **collaborative filtering** : 비슷한 유저의 과거 행동/성향 기반\r\n",
        "\r\n",
        "으로 나눌 수 있다.\r\n",
        "\r\n",
        "그리고 이 둘을 혼합한\r\n",
        "**hybrid filtering**이 존재한다.\r\n"
      ]
    },
    {
      "cell_type": "markdown",
      "metadata": {
        "id": "gCk-kXBffnh5"
      },
      "source": [
        "### formal notations\r\n",
        "조금 더 formal하게 쓰자면\r\n",
        "- C : user set\r\n",
        "- S : items set\r\n",
        "- R : rating set (totally ordered..)\r\n",
        "\r\n",
        "그러면 이 경우, 우리가 풀고 싶은 문제는 함수\r\n",
        "$$u : C \\times S \\rightarrow R $$\r\n",
        "이 주어질 때, user $c$에 대해, 다음과 같은 $s'$를 찾는것이다.\r\n",
        "$$s'_{c} = argmax_{s \\in S} u(c,s) $$\r\n",
        "\r\n",
        "하지만 rating이라는 것이, 굉장히 sparse하게 주어질 것이기에, 우리는 확장(extrapolated to the whole space)가 필요하다.\r\n",
        "\r\n",
        "이러한 확장을 위해서는\r\n",
        "- specifying heuristics\r\n",
        "- estimating the utility ftn. that optimizes permormance criterion."
      ]
    },
    {
      "cell_type": "markdown",
      "metadata": {
        "id": "eC-dz3iqqpDl"
      },
      "source": [
        "##content_based filtering\r\n",
        "- 사용자가 특정 아이템에 대해 선호할 경우, 그 아이템과 유사한 아이템을 보여주는 전통적인 방식의 추천 모델\r\n",
        "- [1] Text-based item에서 많이 사용하게 된다."
      ]
    },
    {
      "cell_type": "markdown",
      "metadata": {
        "id": "QdQyIieXkSV_"
      },
      "source": [
        "### Text-based item recommendations\r\n",
        "먼저 기호를 정의한다.\r\n",
        "- 문서번호 : $d_{j}$\r\n",
        "- 단어번호 : $k_{j}$\r\n",
        "- weighting measure $w_{ij}$\r\n",
        "\r\n",
        "weighting measure을 잡는 다양한 방법들이 있는데 [1]에서는 **TF-IDF** 소개.\r\n",
        "\r\n",
        "term frequency/inverse document frequency(TF-IDF)\r\n",
        "\r\n",
        "- $N$ : total num of docs.\r\n",
        "- $n_{i}$ : num. of docs that appears of keyword $k_{j}$\r\n",
        "- $f_{i,j}$ : num. of keyword k_{i} appears in doc. $d_{j}$\r\n",
        "\r\n",
        "그러면 \r\n",
        "- TF : the term freq. of keyword $k_{i}$ in doc. $d_{j}$\r\n",
        "$$TF_{i,j}=\\frac{f{i,j}}{max_{z}f_{z,j}} $$\r\n",
        "\r\n",
        "하지만, 이 TF만 사용할 경우에는 실질적으로 문서들간의 차이를 구분지을 수있는 특이한 단어들(즉, 문법적 요소가 아닌 단어들)을 강조하기는 어렵다.\r\n",
        "\r\n",
        "그렇게 도입한 것이 IDF이다\r\n",
        "\r\n",
        "- IDF : The inverse doc. freq. for keyword $k_{i}$\r\n",
        "$$ IDF_{i} = log \\frac{N}{n_{i}}$$"
      ]
    },
    {
      "cell_type": "markdown",
      "metadata": {
        "id": "_-g1GBy3Y1Bh"
      },
      "source": [
        "### similar item 고르기\r\n",
        "- Rocchio algorithm을 사용하면 ContentBasedProfile의 평균을 계산하다.\r\n",
        "- Bayesian classfier을 활용하여, 특정 아이템을 좋아할 확률을 계산한다.\r\n",
        "- feature가 많을 경우에는 Winnow Algorithm을 쓰게 된다."
      ]
    },
    {
      "cell_type": "markdown",
      "metadata": {
        "id": "GZ9kZ1peksdr"
      },
      "source": [
        "cosine measure를 통해, 유사성이 높은 다른 아이템을 추천받을 수 있다.\r\n",
        "(cosine 값을 구하여, 유사한 방향을 가지고 있다면 유사성이 높을 것이다)\r\n",
        "\r\n",
        "질문) 이 경우, 별점테러범이, 원하지 않는 분야의 아이템만 추천받는..\r\n",
        "(물론 특이한 상황이지만. 낮은 평점 위주로 주는 사람이 만족할만한 추천을 받을 수 있는 지표인지 의문이 된다)"
      ]
    },
    {
      "cell_type": "markdown",
      "metadata": {
        "id": "JzCrP_WKlI4y"
      },
      "source": [
        "### Bayesian classifiers의 활용\r\n",
        "Naive Bayes classifier를 활용하여 content-based 모델을 구성할 수 있다.\r\n",
        "Web-page인 경우를 예를 들면 Naive Bayes Classifier는 unrated된 page가 유저가 높은 rate를 준 page들과 relevent한가를 판단할 수 있을 것이다.\r\n",
        "\r\n",
        "구체적으로는 다음 확률에 기반을 두게 될 것이다.\r\n",
        "\r\n",
        "페이지 $p_{j}$가 class $C_{i}$에 속할 확률은,\r\n",
        "$$P(C_{i}|k_{1,j}, k_{2,j},...,k_{n,j}  ) $$\r\n",
        "(특정 단어가 포함되는가로 스팸 필터링 문제와 동일해진다.)\r\n",
        "\r\n",
        "따라서, Naive Bayes를 적용하기 위해 우리는 각 keyword들이 '독립적'이라고 가정할 것이다.\r\n"
      ]
    },
    {
      "cell_type": "markdown",
      "metadata": {
        "id": "46WUc4vAlQPY"
      },
      "source": [
        "### Limitations\r\n",
        "[1]에서 언급한 content based filtering의 한계들"
      ]
    },
    {
      "cell_type": "markdown",
      "metadata": {
        "id": "QzfhGs9gllJg"
      },
      "source": [
        "#### feature가 불충분하먼 곤란.\r\n",
        "- feature가 불충분할 경우, 두개의 서로 다른 아이템이 같은 feature 집합을 가질 경우 두 아이템을 구분할 수 없다.\r\n",
        "- 이를 위해 충분한 feature를 추출해내야 하는데, 그림이나 음성 데이터 등에서는 이에 대한 추출이 아! 매우 어려움!"
      ]
    },
    {
      "cell_type": "markdown",
      "metadata": {
        "id": "JEKxuJIdl4VA"
      },
      "source": [
        "#### Overspecialization\r\n",
        "추천의 다양성을 어떻게 확보할 수 있을지가 관건.\r\n",
        "\r\n",
        "- 유저가 전혀 경험하지, 혹은 평가를 매기지 않은 영역에 대해서는 추천 받기 어렵다.\r\n",
        "- 또한, 너무 비슷한(유사한) 아이템을 추천받는 것도 곤란할 수 있다.\r\n",
        "뉴스의 예를 들면, 이미 본 내용과 똑같은 내용의 다른 기사를 보는게 의미가 있을까?"
      ]
    },
    {
      "cell_type": "markdown",
      "metadata": {
        "id": "bGKU6XBll9pJ"
      },
      "source": [
        "#### New User Problem\r\n",
        "실제 User의 preference를 알기 위해서는 초기 충분한 양의 rate 평가가 이루어져야 한다. 즉, 극초기에는 충분히 좋은 추천을 받기가 어려울 것이다.\r\n",
        "(Cold Start)"
      ]
    },
    {
      "cell_type": "markdown",
      "metadata": {
        "id": "3-9uJ-LDqr2V"
      },
      "source": [
        "##collaborative filtering\r\n",
        "- 비슷한 유저의 과거 행동에 의존한다.\r\n",
        "  - 즉 과거의 구매 이력이나 평점 이력을 통해 유저들에게 새로운 것을 추천한다.\r\n",
        "  - collaborative filtering 방법도 **\"Cold Start\"** 문제를 겪게 된다. 최초 새로 user 프로필이나 신규 아이템의 경우는 데이터가 없기에 유의미한 추천을 하기 어렵다.\r\n",
        "    - 이러한 경우에 대해서는 \"Content-based\" 모델이 더 낫다.\r\n",
        "\r\n",
        "- Collaborative filtering은 크게 다음 두가지로 나뉜다.\r\n",
        "  - neighborhood methods\r\n",
        "  - latent factor models\r\n",
        "\r\n",
        "- [1]에서는 다른 방식으로 나누었다.\r\n",
        "  - Heuristic-based (Memory-based)\r\n",
        "  - Model-based"
      ]
    },
    {
      "cell_type": "markdown",
      "metadata": {
        "id": "25_b9bVBthJE"
      },
      "source": [
        "### neighborhood methods란?\r\n",
        "- 매긴 rating을 바탕으로 user들과 비교, 유사한 user를 추천한다.\r\n",
        "- row가 user, column이 item인 형태의 행렬을 만들어야 한다.\r\n",
        "\r\n",
        "[1]에서는 **Memory-based model**이라는 명칭을 사용한다.\r\n",
        "기본적으로 Unknown한 rating을 추론하기 위해, 이미 다른 유저들이 평가한 rating을 바탕으로 결과값을 얻는다.\r\n",
        "\r\n",
        "이를 위해서는 '이웃'에 대해서 고려해야 한다.\r\n"
      ]
    },
    {
      "cell_type": "markdown",
      "metadata": {
        "id": "3HkcvN2IvfF4"
      },
      "source": [
        "#### Aggregation Functions\r\n",
        "간단하게 memory-based model을 식으로 표현하자.\r\n",
        "\r\n",
        "- 풀고자 하는 바\r\n",
        "\r\n",
        "문제를 식으로 정의하면 다음과 같다.\r\n",
        "$$ r_{c,s} = aggr_{c\\ \\in \\hat{C}} \\; r_{c', s}$$\r\n",
        "\r\n",
        "여기서, $\\hat{C}$는 c와 유사한 유저들 중 item $s$에 평점을 매긴 사람들의 집합이다.\r\n",
        "\r\n",
        "즉, 이 문제는 어떻게 aggr을 표현할 것인가와 연관된다."
      ]
    },
    {
      "cell_type": "markdown",
      "metadata": {
        "id": "mC55KU6Rtmv9"
      },
      "source": [
        "### latent factor models란?\r\n",
        "- user-item에 평점이 기록된 matrix를 user-latent factor * latent factor-item 행렬로 나눈다.\r\n",
        "- 이를 위해서는 Matrix Factorization이 사용된다.\r\n",
        "\r\n",
        "\r\n",
        "Remark. Explicit feedback & Implicit feedback\r\n",
        "- Explicit feedback : 평점 데이터 등 user들이 item에 남긴 명백한 기록, 흥미들. 실저로 많은 평점을 남기지는 않을거기에 sparse matrix를 얻게 된다.\r\n",
        "- Implicit feedback : 직접적인 의견으로는 연결되지 않는 유저의 행동(검색 이력, 마우스 이동 등), 이것이 반영될 경우 matrix가 densely-filled matrix를 얻게 된다."
      ]
    }
  ]
}