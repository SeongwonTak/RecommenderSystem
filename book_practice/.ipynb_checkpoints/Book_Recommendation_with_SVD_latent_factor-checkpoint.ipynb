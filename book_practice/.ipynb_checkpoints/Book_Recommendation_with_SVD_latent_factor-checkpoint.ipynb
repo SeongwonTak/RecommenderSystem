{
 "cells": [
  {
   "cell_type": "markdown",
   "metadata": {
    "id": "KDTssoKuMBNB"
   },
   "source": [
    "# 도서 데이터를 통한 SVD(Latent Factor ver)\n",
    "Kaggle의 도서 데이터를 바탕으로 유저에게 새로운 도서를 추천하는 추천 시스템을 만들어보고자 한다."
   ]
  },
  {
   "cell_type": "code",
   "execution_count": 1,
   "metadata": {
    "id": "jc5hElWYNGsK"
   },
   "outputs": [],
   "source": [
    "import pandas as pd"
   ]
  },
  {
   "cell_type": "code",
   "execution_count": 2,
   "metadata": {
    "colab": {
     "base_uri": "https://localhost:8080/"
    },
    "id": "MwwRJLrVNM42",
    "outputId": "5b49f68c-29b2-4b38-a5a4-c1421c91242f"
   },
   "outputs": [
    {
     "name": "stderr",
     "output_type": "stream",
     "text": [
      "C:\\Users\\USER\\anaconda3\\lib\\site-packages\\IPython\\core\\interactiveshell.py:3165: DtypeWarning: Columns (3) have mixed types.Specify dtype option on import or set low_memory=False.\n",
      "  has_raised = await self.run_ast_nodes(code_ast.body, cell_name,\n"
     ]
    }
   ],
   "source": [
    "books = pd.read_csv('C:/Users/USER/Desktop/RecommenderSystem/book_practice/books.csv')\n",
    "ratings = pd.read_csv('C:/Users/USER/Desktop/RecommenderSystem/book_practice/ratings.csv')\n",
    "users = pd.read_csv('C:/Users/USER/Desktop/RecommenderSystem/book_practice/users.csv')"
   ]
  },
  {
   "cell_type": "code",
   "execution_count": 3,
   "metadata": {
    "colab": {
     "base_uri": "https://localhost:8080/",
     "height": 419
    },
    "id": "YnjcI_5KOAdb",
    "outputId": "260c1774-79aa-44ea-816c-a094d0bf572c"
   },
   "outputs": [
    {
     "data": {
      "text/html": [
       "<div>\n",
       "<style scoped>\n",
       "    .dataframe tbody tr th:only-of-type {\n",
       "        vertical-align: middle;\n",
       "    }\n",
       "\n",
       "    .dataframe tbody tr th {\n",
       "        vertical-align: top;\n",
       "    }\n",
       "\n",
       "    .dataframe thead th {\n",
       "        text-align: right;\n",
       "    }\n",
       "</style>\n",
       "<table border=\"1\" class=\"dataframe\">\n",
       "  <thead>\n",
       "    <tr style=\"text-align: right;\">\n",
       "      <th></th>\n",
       "      <th>User-ID</th>\n",
       "      <th>Location</th>\n",
       "      <th>Age</th>\n",
       "    </tr>\n",
       "  </thead>\n",
       "  <tbody>\n",
       "    <tr>\n",
       "      <th>0</th>\n",
       "      <td>1</td>\n",
       "      <td>nyc, new york, usa</td>\n",
       "      <td>NaN</td>\n",
       "    </tr>\n",
       "    <tr>\n",
       "      <th>1</th>\n",
       "      <td>2</td>\n",
       "      <td>stockton, california, usa</td>\n",
       "      <td>18.0</td>\n",
       "    </tr>\n",
       "    <tr>\n",
       "      <th>2</th>\n",
       "      <td>3</td>\n",
       "      <td>moscow, yukon territory, russia</td>\n",
       "      <td>NaN</td>\n",
       "    </tr>\n",
       "    <tr>\n",
       "      <th>3</th>\n",
       "      <td>4</td>\n",
       "      <td>porto, v.n.gaia, portugal</td>\n",
       "      <td>17.0</td>\n",
       "    </tr>\n",
       "    <tr>\n",
       "      <th>4</th>\n",
       "      <td>5</td>\n",
       "      <td>farnborough, hants, united kingdom</td>\n",
       "      <td>NaN</td>\n",
       "    </tr>\n",
       "    <tr>\n",
       "      <th>...</th>\n",
       "      <td>...</td>\n",
       "      <td>...</td>\n",
       "      <td>...</td>\n",
       "    </tr>\n",
       "    <tr>\n",
       "      <th>278853</th>\n",
       "      <td>278854</td>\n",
       "      <td>portland, oregon, usa</td>\n",
       "      <td>NaN</td>\n",
       "    </tr>\n",
       "    <tr>\n",
       "      <th>278854</th>\n",
       "      <td>278855</td>\n",
       "      <td>tacoma, washington, united kingdom</td>\n",
       "      <td>50.0</td>\n",
       "    </tr>\n",
       "    <tr>\n",
       "      <th>278855</th>\n",
       "      <td>278856</td>\n",
       "      <td>brampton, ontario, canada</td>\n",
       "      <td>NaN</td>\n",
       "    </tr>\n",
       "    <tr>\n",
       "      <th>278856</th>\n",
       "      <td>278857</td>\n",
       "      <td>knoxville, tennessee, usa</td>\n",
       "      <td>NaN</td>\n",
       "    </tr>\n",
       "    <tr>\n",
       "      <th>278857</th>\n",
       "      <td>278858</td>\n",
       "      <td>dublin, n/a, ireland</td>\n",
       "      <td>NaN</td>\n",
       "    </tr>\n",
       "  </tbody>\n",
       "</table>\n",
       "<p>278858 rows × 3 columns</p>\n",
       "</div>"
      ],
      "text/plain": [
       "        User-ID                            Location   Age\n",
       "0             1                  nyc, new york, usa   NaN\n",
       "1             2           stockton, california, usa  18.0\n",
       "2             3     moscow, yukon territory, russia   NaN\n",
       "3             4           porto, v.n.gaia, portugal  17.0\n",
       "4             5  farnborough, hants, united kingdom   NaN\n",
       "...         ...                                 ...   ...\n",
       "278853   278854               portland, oregon, usa   NaN\n",
       "278854   278855  tacoma, washington, united kingdom  50.0\n",
       "278855   278856           brampton, ontario, canada   NaN\n",
       "278856   278857           knoxville, tennessee, usa   NaN\n",
       "278857   278858                dublin, n/a, ireland   NaN\n",
       "\n",
       "[278858 rows x 3 columns]"
      ]
     },
     "execution_count": 3,
     "metadata": {},
     "output_type": "execute_result"
    }
   ],
   "source": [
    "users"
   ]
  },
  {
   "cell_type": "markdown",
   "metadata": {
    "id": "57SoqoYbPCGR"
   },
   "source": [
    "## Data_처리"
   ]
  },
  {
   "cell_type": "code",
   "execution_count": 4,
   "metadata": {
    "colab": {
     "base_uri": "https://localhost:8080/",
     "height": 881
    },
    "id": "2UT_F6S3OQkQ",
    "outputId": "3856a4c9-9678-4065-e199-1b1891e0652d"
   },
   "outputs": [
    {
     "data": {
      "text/html": [
       "<div>\n",
       "<style scoped>\n",
       "    .dataframe tbody tr th:only-of-type {\n",
       "        vertical-align: middle;\n",
       "    }\n",
       "\n",
       "    .dataframe tbody tr th {\n",
       "        vertical-align: top;\n",
       "    }\n",
       "\n",
       "    .dataframe thead th {\n",
       "        text-align: right;\n",
       "    }\n",
       "</style>\n",
       "<table border=\"1\" class=\"dataframe\">\n",
       "  <thead>\n",
       "    <tr style=\"text-align: right;\">\n",
       "      <th></th>\n",
       "      <th>ISBN</th>\n",
       "      <th>Book-Title</th>\n",
       "      <th>Book-Author</th>\n",
       "      <th>Year-Of-Publication</th>\n",
       "      <th>Publisher</th>\n",
       "      <th>Image-URL-S</th>\n",
       "      <th>Image-URL-M</th>\n",
       "      <th>Image-URL-L</th>\n",
       "    </tr>\n",
       "  </thead>\n",
       "  <tbody>\n",
       "    <tr>\n",
       "      <th>0</th>\n",
       "      <td>0195153448</td>\n",
       "      <td>Classical Mythology</td>\n",
       "      <td>Mark P. O. Morford</td>\n",
       "      <td>2002</td>\n",
       "      <td>Oxford University Press</td>\n",
       "      <td>http://images.amazon.com/images/P/0195153448.0...</td>\n",
       "      <td>http://images.amazon.com/images/P/0195153448.0...</td>\n",
       "      <td>http://images.amazon.com/images/P/0195153448.0...</td>\n",
       "    </tr>\n",
       "    <tr>\n",
       "      <th>1</th>\n",
       "      <td>0002005018</td>\n",
       "      <td>Clara Callan</td>\n",
       "      <td>Richard Bruce Wright</td>\n",
       "      <td>2001</td>\n",
       "      <td>HarperFlamingo Canada</td>\n",
       "      <td>http://images.amazon.com/images/P/0002005018.0...</td>\n",
       "      <td>http://images.amazon.com/images/P/0002005018.0...</td>\n",
       "      <td>http://images.amazon.com/images/P/0002005018.0...</td>\n",
       "    </tr>\n",
       "    <tr>\n",
       "      <th>2</th>\n",
       "      <td>0060973129</td>\n",
       "      <td>Decision in Normandy</td>\n",
       "      <td>Carlo D'Este</td>\n",
       "      <td>1991</td>\n",
       "      <td>HarperPerennial</td>\n",
       "      <td>http://images.amazon.com/images/P/0060973129.0...</td>\n",
       "      <td>http://images.amazon.com/images/P/0060973129.0...</td>\n",
       "      <td>http://images.amazon.com/images/P/0060973129.0...</td>\n",
       "    </tr>\n",
       "    <tr>\n",
       "      <th>3</th>\n",
       "      <td>0374157065</td>\n",
       "      <td>Flu: The Story of the Great Influenza Pandemic...</td>\n",
       "      <td>Gina Bari Kolata</td>\n",
       "      <td>1999</td>\n",
       "      <td>Farrar Straus Giroux</td>\n",
       "      <td>http://images.amazon.com/images/P/0374157065.0...</td>\n",
       "      <td>http://images.amazon.com/images/P/0374157065.0...</td>\n",
       "      <td>http://images.amazon.com/images/P/0374157065.0...</td>\n",
       "    </tr>\n",
       "    <tr>\n",
       "      <th>4</th>\n",
       "      <td>0393045218</td>\n",
       "      <td>The Mummies of Urumchi</td>\n",
       "      <td>E. J. W. Barber</td>\n",
       "      <td>1999</td>\n",
       "      <td>W. W. Norton &amp;amp; Company</td>\n",
       "      <td>http://images.amazon.com/images/P/0393045218.0...</td>\n",
       "      <td>http://images.amazon.com/images/P/0393045218.0...</td>\n",
       "      <td>http://images.amazon.com/images/P/0393045218.0...</td>\n",
       "    </tr>\n",
       "    <tr>\n",
       "      <th>...</th>\n",
       "      <td>...</td>\n",
       "      <td>...</td>\n",
       "      <td>...</td>\n",
       "      <td>...</td>\n",
       "      <td>...</td>\n",
       "      <td>...</td>\n",
       "      <td>...</td>\n",
       "      <td>...</td>\n",
       "    </tr>\n",
       "    <tr>\n",
       "      <th>271355</th>\n",
       "      <td>0440400988</td>\n",
       "      <td>There's a Bat in Bunk Five</td>\n",
       "      <td>Paula Danziger</td>\n",
       "      <td>1988</td>\n",
       "      <td>Random House Childrens Pub (Mm)</td>\n",
       "      <td>http://images.amazon.com/images/P/0440400988.0...</td>\n",
       "      <td>http://images.amazon.com/images/P/0440400988.0...</td>\n",
       "      <td>http://images.amazon.com/images/P/0440400988.0...</td>\n",
       "    </tr>\n",
       "    <tr>\n",
       "      <th>271356</th>\n",
       "      <td>0525447644</td>\n",
       "      <td>From One to One Hundred</td>\n",
       "      <td>Teri Sloat</td>\n",
       "      <td>1991</td>\n",
       "      <td>Dutton Books</td>\n",
       "      <td>http://images.amazon.com/images/P/0525447644.0...</td>\n",
       "      <td>http://images.amazon.com/images/P/0525447644.0...</td>\n",
       "      <td>http://images.amazon.com/images/P/0525447644.0...</td>\n",
       "    </tr>\n",
       "    <tr>\n",
       "      <th>271357</th>\n",
       "      <td>006008667X</td>\n",
       "      <td>Lily Dale : The True Story of the Town that Ta...</td>\n",
       "      <td>Christine Wicker</td>\n",
       "      <td>2004</td>\n",
       "      <td>HarperSanFrancisco</td>\n",
       "      <td>http://images.amazon.com/images/P/006008667X.0...</td>\n",
       "      <td>http://images.amazon.com/images/P/006008667X.0...</td>\n",
       "      <td>http://images.amazon.com/images/P/006008667X.0...</td>\n",
       "    </tr>\n",
       "    <tr>\n",
       "      <th>271358</th>\n",
       "      <td>0192126040</td>\n",
       "      <td>Republic (World's Classics)</td>\n",
       "      <td>Plato</td>\n",
       "      <td>1996</td>\n",
       "      <td>Oxford University Press</td>\n",
       "      <td>http://images.amazon.com/images/P/0192126040.0...</td>\n",
       "      <td>http://images.amazon.com/images/P/0192126040.0...</td>\n",
       "      <td>http://images.amazon.com/images/P/0192126040.0...</td>\n",
       "    </tr>\n",
       "    <tr>\n",
       "      <th>271359</th>\n",
       "      <td>0767409752</td>\n",
       "      <td>A Guided Tour of Rene Descartes' Meditations o...</td>\n",
       "      <td>Christopher  Biffle</td>\n",
       "      <td>2000</td>\n",
       "      <td>McGraw-Hill Humanities/Social Sciences/Languages</td>\n",
       "      <td>http://images.amazon.com/images/P/0767409752.0...</td>\n",
       "      <td>http://images.amazon.com/images/P/0767409752.0...</td>\n",
       "      <td>http://images.amazon.com/images/P/0767409752.0...</td>\n",
       "    </tr>\n",
       "  </tbody>\n",
       "</table>\n",
       "<p>271360 rows × 8 columns</p>\n",
       "</div>"
      ],
      "text/plain": [
       "              ISBN                                         Book-Title  \\\n",
       "0       0195153448                                Classical Mythology   \n",
       "1       0002005018                                       Clara Callan   \n",
       "2       0060973129                               Decision in Normandy   \n",
       "3       0374157065  Flu: The Story of the Great Influenza Pandemic...   \n",
       "4       0393045218                             The Mummies of Urumchi   \n",
       "...            ...                                                ...   \n",
       "271355  0440400988                         There's a Bat in Bunk Five   \n",
       "271356  0525447644                            From One to One Hundred   \n",
       "271357  006008667X  Lily Dale : The True Story of the Town that Ta...   \n",
       "271358  0192126040                        Republic (World's Classics)   \n",
       "271359  0767409752  A Guided Tour of Rene Descartes' Meditations o...   \n",
       "\n",
       "                 Book-Author Year-Of-Publication  \\\n",
       "0         Mark P. O. Morford                2002   \n",
       "1       Richard Bruce Wright                2001   \n",
       "2               Carlo D'Este                1991   \n",
       "3           Gina Bari Kolata                1999   \n",
       "4            E. J. W. Barber                1999   \n",
       "...                      ...                 ...   \n",
       "271355        Paula Danziger                1988   \n",
       "271356            Teri Sloat                1991   \n",
       "271357      Christine Wicker                2004   \n",
       "271358                 Plato                1996   \n",
       "271359   Christopher  Biffle                2000   \n",
       "\n",
       "                                               Publisher  \\\n",
       "0                                Oxford University Press   \n",
       "1                                  HarperFlamingo Canada   \n",
       "2                                        HarperPerennial   \n",
       "3                                   Farrar Straus Giroux   \n",
       "4                             W. W. Norton &amp; Company   \n",
       "...                                                  ...   \n",
       "271355                   Random House Childrens Pub (Mm)   \n",
       "271356                                      Dutton Books   \n",
       "271357                                HarperSanFrancisco   \n",
       "271358                           Oxford University Press   \n",
       "271359  McGraw-Hill Humanities/Social Sciences/Languages   \n",
       "\n",
       "                                              Image-URL-S  \\\n",
       "0       http://images.amazon.com/images/P/0195153448.0...   \n",
       "1       http://images.amazon.com/images/P/0002005018.0...   \n",
       "2       http://images.amazon.com/images/P/0060973129.0...   \n",
       "3       http://images.amazon.com/images/P/0374157065.0...   \n",
       "4       http://images.amazon.com/images/P/0393045218.0...   \n",
       "...                                                   ...   \n",
       "271355  http://images.amazon.com/images/P/0440400988.0...   \n",
       "271356  http://images.amazon.com/images/P/0525447644.0...   \n",
       "271357  http://images.amazon.com/images/P/006008667X.0...   \n",
       "271358  http://images.amazon.com/images/P/0192126040.0...   \n",
       "271359  http://images.amazon.com/images/P/0767409752.0...   \n",
       "\n",
       "                                              Image-URL-M  \\\n",
       "0       http://images.amazon.com/images/P/0195153448.0...   \n",
       "1       http://images.amazon.com/images/P/0002005018.0...   \n",
       "2       http://images.amazon.com/images/P/0060973129.0...   \n",
       "3       http://images.amazon.com/images/P/0374157065.0...   \n",
       "4       http://images.amazon.com/images/P/0393045218.0...   \n",
       "...                                                   ...   \n",
       "271355  http://images.amazon.com/images/P/0440400988.0...   \n",
       "271356  http://images.amazon.com/images/P/0525447644.0...   \n",
       "271357  http://images.amazon.com/images/P/006008667X.0...   \n",
       "271358  http://images.amazon.com/images/P/0192126040.0...   \n",
       "271359  http://images.amazon.com/images/P/0767409752.0...   \n",
       "\n",
       "                                              Image-URL-L  \n",
       "0       http://images.amazon.com/images/P/0195153448.0...  \n",
       "1       http://images.amazon.com/images/P/0002005018.0...  \n",
       "2       http://images.amazon.com/images/P/0060973129.0...  \n",
       "3       http://images.amazon.com/images/P/0374157065.0...  \n",
       "4       http://images.amazon.com/images/P/0393045218.0...  \n",
       "...                                                   ...  \n",
       "271355  http://images.amazon.com/images/P/0440400988.0...  \n",
       "271356  http://images.amazon.com/images/P/0525447644.0...  \n",
       "271357  http://images.amazon.com/images/P/006008667X.0...  \n",
       "271358  http://images.amazon.com/images/P/0192126040.0...  \n",
       "271359  http://images.amazon.com/images/P/0767409752.0...  \n",
       "\n",
       "[271360 rows x 8 columns]"
      ]
     },
     "execution_count": 4,
     "metadata": {},
     "output_type": "execute_result"
    }
   ],
   "source": [
    "books"
   ]
  },
  {
   "cell_type": "code",
   "execution_count": 5,
   "metadata": {
    "id": "Hit0NhnJO_Om"
   },
   "outputs": [],
   "source": [
    "# isbn, 책 제목, 저자, 년도, 출판사 정보만 남긴다.\n",
    "books = books.iloc[:,0:4]"
   ]
  },
  {
   "cell_type": "code",
   "execution_count": 6,
   "metadata": {
    "id": "KnEdWQSEPaXo"
   },
   "outputs": [],
   "source": [
    "# 컬럼명을 편하게 변경\n",
    "books.columns = ['ISBN', 'title', 'author', 'pub_year']"
   ]
  },
  {
   "cell_type": "code",
   "execution_count": 7,
   "metadata": {
    "colab": {
     "base_uri": "https://localhost:8080/"
    },
    "id": "_1EGKBby3N59",
    "outputId": "c4eec7bf-29ff-413f-ce75-a3bf35ef0254"
   },
   "outputs": [
    {
     "data": {
      "text/plain": [
       "ISBN        0\n",
       "title       0\n",
       "author      1\n",
       "pub_year    0\n",
       "dtype: int64"
      ]
     },
     "execution_count": 7,
     "metadata": {},
     "output_type": "execute_result"
    }
   ],
   "source": [
    "books.isna().sum()"
   ]
  },
  {
   "cell_type": "code",
   "execution_count": 8,
   "metadata": {
    "colab": {
     "base_uri": "https://localhost:8080/",
     "height": 419
    },
    "id": "M0if5abi129l",
    "outputId": "64e300c5-81c7-46b5-b24f-e50320d7c76c"
   },
   "outputs": [
    {
     "data": {
      "text/html": [
       "<div>\n",
       "<style scoped>\n",
       "    .dataframe tbody tr th:only-of-type {\n",
       "        vertical-align: middle;\n",
       "    }\n",
       "\n",
       "    .dataframe tbody tr th {\n",
       "        vertical-align: top;\n",
       "    }\n",
       "\n",
       "    .dataframe thead th {\n",
       "        text-align: right;\n",
       "    }\n",
       "</style>\n",
       "<table border=\"1\" class=\"dataframe\">\n",
       "  <thead>\n",
       "    <tr style=\"text-align: right;\">\n",
       "      <th></th>\n",
       "      <th>User-ID</th>\n",
       "      <th>Location</th>\n",
       "      <th>Age</th>\n",
       "    </tr>\n",
       "  </thead>\n",
       "  <tbody>\n",
       "    <tr>\n",
       "      <th>0</th>\n",
       "      <td>1</td>\n",
       "      <td>nyc, new york, usa</td>\n",
       "      <td>NaN</td>\n",
       "    </tr>\n",
       "    <tr>\n",
       "      <th>1</th>\n",
       "      <td>2</td>\n",
       "      <td>stockton, california, usa</td>\n",
       "      <td>18.0</td>\n",
       "    </tr>\n",
       "    <tr>\n",
       "      <th>2</th>\n",
       "      <td>3</td>\n",
       "      <td>moscow, yukon territory, russia</td>\n",
       "      <td>NaN</td>\n",
       "    </tr>\n",
       "    <tr>\n",
       "      <th>3</th>\n",
       "      <td>4</td>\n",
       "      <td>porto, v.n.gaia, portugal</td>\n",
       "      <td>17.0</td>\n",
       "    </tr>\n",
       "    <tr>\n",
       "      <th>4</th>\n",
       "      <td>5</td>\n",
       "      <td>farnborough, hants, united kingdom</td>\n",
       "      <td>NaN</td>\n",
       "    </tr>\n",
       "    <tr>\n",
       "      <th>...</th>\n",
       "      <td>...</td>\n",
       "      <td>...</td>\n",
       "      <td>...</td>\n",
       "    </tr>\n",
       "    <tr>\n",
       "      <th>278853</th>\n",
       "      <td>278854</td>\n",
       "      <td>portland, oregon, usa</td>\n",
       "      <td>NaN</td>\n",
       "    </tr>\n",
       "    <tr>\n",
       "      <th>278854</th>\n",
       "      <td>278855</td>\n",
       "      <td>tacoma, washington, united kingdom</td>\n",
       "      <td>50.0</td>\n",
       "    </tr>\n",
       "    <tr>\n",
       "      <th>278855</th>\n",
       "      <td>278856</td>\n",
       "      <td>brampton, ontario, canada</td>\n",
       "      <td>NaN</td>\n",
       "    </tr>\n",
       "    <tr>\n",
       "      <th>278856</th>\n",
       "      <td>278857</td>\n",
       "      <td>knoxville, tennessee, usa</td>\n",
       "      <td>NaN</td>\n",
       "    </tr>\n",
       "    <tr>\n",
       "      <th>278857</th>\n",
       "      <td>278858</td>\n",
       "      <td>dublin, n/a, ireland</td>\n",
       "      <td>NaN</td>\n",
       "    </tr>\n",
       "  </tbody>\n",
       "</table>\n",
       "<p>278858 rows × 3 columns</p>\n",
       "</div>"
      ],
      "text/plain": [
       "        User-ID                            Location   Age\n",
       "0             1                  nyc, new york, usa   NaN\n",
       "1             2           stockton, california, usa  18.0\n",
       "2             3     moscow, yukon territory, russia   NaN\n",
       "3             4           porto, v.n.gaia, portugal  17.0\n",
       "4             5  farnborough, hants, united kingdom   NaN\n",
       "...         ...                                 ...   ...\n",
       "278853   278854               portland, oregon, usa   NaN\n",
       "278854   278855  tacoma, washington, united kingdom  50.0\n",
       "278855   278856           brampton, ontario, canada   NaN\n",
       "278856   278857           knoxville, tennessee, usa   NaN\n",
       "278857   278858                dublin, n/a, ireland   NaN\n",
       "\n",
       "[278858 rows x 3 columns]"
      ]
     },
     "execution_count": 8,
     "metadata": {},
     "output_type": "execute_result"
    }
   ],
   "source": [
    "users"
   ]
  },
  {
   "cell_type": "code",
   "execution_count": 9,
   "metadata": {
    "colab": {
     "base_uri": "https://localhost:8080/"
    },
    "id": "vt9rSbk128Na",
    "outputId": "33f7fc20-cc6e-4e38-e866-a03d29d61811"
   },
   "outputs": [
    {
     "data": {
      "text/plain": [
       "User-ID          0\n",
       "Location         0\n",
       "Age         110762\n",
       "dtype: int64"
      ]
     },
     "execution_count": 9,
     "metadata": {},
     "output_type": "execute_result"
    }
   ],
   "source": [
    "# user 나이에 Nan이 많이 보인다. 연령대별로 어떤 책을 좋아하는지도 볼 수 있으니 나이를 쓸 수 있을지를 확인해보자.\n",
    "users.isna().sum()"
   ]
  },
  {
   "cell_type": "code",
   "execution_count": 10,
   "metadata": {
    "id": "pkiVTNwC3KtW"
   },
   "outputs": [],
   "source": [
    "# location의 경우 마지막의 국가만 활용해보려고 한다.\n",
    "def cut_loc(loc):\n",
    "    loc_cut_list = list(loc.split(', '))\n",
    "    return loc_cut_list[-1]"
   ]
  },
  {
   "cell_type": "code",
   "execution_count": 11,
   "metadata": {
    "id": "nYFNBDolnjpK"
   },
   "outputs": [],
   "source": [
    "users['country'] = users['Location'].apply(lambda x : cut_loc(x))"
   ]
  },
  {
   "cell_type": "code",
   "execution_count": 12,
   "metadata": {
    "colab": {
     "base_uri": "https://localhost:8080/",
     "height": 419
    },
    "id": "LFzcJJ0uoZHU",
    "outputId": "5bb1b37b-8ce9-4106-86a4-ab0d5d43d210"
   },
   "outputs": [
    {
     "data": {
      "text/html": [
       "<div>\n",
       "<style scoped>\n",
       "    .dataframe tbody tr th:only-of-type {\n",
       "        vertical-align: middle;\n",
       "    }\n",
       "\n",
       "    .dataframe tbody tr th {\n",
       "        vertical-align: top;\n",
       "    }\n",
       "\n",
       "    .dataframe thead th {\n",
       "        text-align: right;\n",
       "    }\n",
       "</style>\n",
       "<table border=\"1\" class=\"dataframe\">\n",
       "  <thead>\n",
       "    <tr style=\"text-align: right;\">\n",
       "      <th></th>\n",
       "      <th>User-ID</th>\n",
       "      <th>Location</th>\n",
       "      <th>Age</th>\n",
       "      <th>country</th>\n",
       "    </tr>\n",
       "  </thead>\n",
       "  <tbody>\n",
       "    <tr>\n",
       "      <th>0</th>\n",
       "      <td>1</td>\n",
       "      <td>nyc, new york, usa</td>\n",
       "      <td>NaN</td>\n",
       "      <td>usa</td>\n",
       "    </tr>\n",
       "    <tr>\n",
       "      <th>1</th>\n",
       "      <td>2</td>\n",
       "      <td>stockton, california, usa</td>\n",
       "      <td>18.0</td>\n",
       "      <td>usa</td>\n",
       "    </tr>\n",
       "    <tr>\n",
       "      <th>2</th>\n",
       "      <td>3</td>\n",
       "      <td>moscow, yukon territory, russia</td>\n",
       "      <td>NaN</td>\n",
       "      <td>russia</td>\n",
       "    </tr>\n",
       "    <tr>\n",
       "      <th>3</th>\n",
       "      <td>4</td>\n",
       "      <td>porto, v.n.gaia, portugal</td>\n",
       "      <td>17.0</td>\n",
       "      <td>portugal</td>\n",
       "    </tr>\n",
       "    <tr>\n",
       "      <th>4</th>\n",
       "      <td>5</td>\n",
       "      <td>farnborough, hants, united kingdom</td>\n",
       "      <td>NaN</td>\n",
       "      <td>united kingdom</td>\n",
       "    </tr>\n",
       "    <tr>\n",
       "      <th>...</th>\n",
       "      <td>...</td>\n",
       "      <td>...</td>\n",
       "      <td>...</td>\n",
       "      <td>...</td>\n",
       "    </tr>\n",
       "    <tr>\n",
       "      <th>278853</th>\n",
       "      <td>278854</td>\n",
       "      <td>portland, oregon, usa</td>\n",
       "      <td>NaN</td>\n",
       "      <td>usa</td>\n",
       "    </tr>\n",
       "    <tr>\n",
       "      <th>278854</th>\n",
       "      <td>278855</td>\n",
       "      <td>tacoma, washington, united kingdom</td>\n",
       "      <td>50.0</td>\n",
       "      <td>united kingdom</td>\n",
       "    </tr>\n",
       "    <tr>\n",
       "      <th>278855</th>\n",
       "      <td>278856</td>\n",
       "      <td>brampton, ontario, canada</td>\n",
       "      <td>NaN</td>\n",
       "      <td>canada</td>\n",
       "    </tr>\n",
       "    <tr>\n",
       "      <th>278856</th>\n",
       "      <td>278857</td>\n",
       "      <td>knoxville, tennessee, usa</td>\n",
       "      <td>NaN</td>\n",
       "      <td>usa</td>\n",
       "    </tr>\n",
       "    <tr>\n",
       "      <th>278857</th>\n",
       "      <td>278858</td>\n",
       "      <td>dublin, n/a, ireland</td>\n",
       "      <td>NaN</td>\n",
       "      <td>ireland</td>\n",
       "    </tr>\n",
       "  </tbody>\n",
       "</table>\n",
       "<p>278858 rows × 4 columns</p>\n",
       "</div>"
      ],
      "text/plain": [
       "        User-ID                            Location   Age         country\n",
       "0             1                  nyc, new york, usa   NaN             usa\n",
       "1             2           stockton, california, usa  18.0             usa\n",
       "2             3     moscow, yukon territory, russia   NaN          russia\n",
       "3             4           porto, v.n.gaia, portugal  17.0        portugal\n",
       "4             5  farnborough, hants, united kingdom   NaN  united kingdom\n",
       "...         ...                                 ...   ...             ...\n",
       "278853   278854               portland, oregon, usa   NaN             usa\n",
       "278854   278855  tacoma, washington, united kingdom  50.0  united kingdom\n",
       "278855   278856           brampton, ontario, canada   NaN          canada\n",
       "278856   278857           knoxville, tennessee, usa   NaN             usa\n",
       "278857   278858                dublin, n/a, ireland   NaN         ireland\n",
       "\n",
       "[278858 rows x 4 columns]"
      ]
     },
     "execution_count": 12,
     "metadata": {},
     "output_type": "execute_result"
    }
   ],
   "source": [
    "users"
   ]
  },
  {
   "cell_type": "code",
   "execution_count": 13,
   "metadata": {
    "id": "L-67fHY7oqOX"
   },
   "outputs": [],
   "source": [
    "users = users.drop('Location', axis = 1)\n",
    "users.columns = ['user_id', 'age', 'country']"
   ]
  },
  {
   "cell_type": "code",
   "execution_count": 14,
   "metadata": {
    "colab": {
     "base_uri": "https://localhost:8080/"
    },
    "id": "zqSjLdrZqL24",
    "outputId": "91b1b7cd-8d12-424f-b5ba-de193777ad11"
   },
   "outputs": [
    {
     "data": {
      "text/plain": [
       "user_id         0\n",
       "age        110762\n",
       "country         0\n",
       "dtype: int64"
      ]
     },
     "execution_count": 14,
     "metadata": {},
     "output_type": "execute_result"
    }
   ],
   "source": [
    "users.isna().sum()"
   ]
  },
  {
   "cell_type": "code",
   "execution_count": 15,
   "metadata": {
    "colab": {
     "base_uri": "https://localhost:8080/"
    },
    "id": "Nb1NkudcqbvC",
    "outputId": "eadea29e-e0cd-4677-f2de-6314ac13c4cf"
   },
   "outputs": [
    {
     "data": {
      "text/plain": [
       "user_id      int64\n",
       "age        float64\n",
       "country     object\n",
       "dtype: object"
      ]
     },
     "execution_count": 15,
     "metadata": {},
     "output_type": "execute_result"
    }
   ],
   "source": [
    "users.dtypes"
   ]
  },
  {
   "cell_type": "code",
   "execution_count": 16,
   "metadata": {
    "id": "owbEnn00rKcd"
   },
   "outputs": [],
   "source": [
    "def age_to_gen(age):\n",
    "    if age == 0:\n",
    "        age = 'unknown'\n",
    "    elif age < 10:\n",
    "        age = 'under_10'\n",
    "    elif age < 20:\n",
    "        age = '10s'\n",
    "    elif age < 30:\n",
    "        age = '20s'\n",
    "    elif age < 40:\n",
    "        age = '30s'\n",
    "    elif age < 50:\n",
    "        age = '40s'\n",
    "    elif age < 60:\n",
    "        age = '50s'\n",
    "    else:\n",
    "        age = 'over_60'\n",
    "  \n",
    "    return age"
   ]
  },
  {
   "cell_type": "code",
   "execution_count": 17,
   "metadata": {
    "id": "ZMDelCzqrwES"
   },
   "outputs": [],
   "source": [
    "users.age.fillna(0, inplace = True)\n",
    "users['gen'] = users['age'].apply(lambda x : age_to_gen(x))"
   ]
  },
  {
   "cell_type": "code",
   "execution_count": 18,
   "metadata": {
    "colab": {
     "base_uri": "https://localhost:8080/",
     "height": 419
    },
    "id": "fWSErlx3r5P3",
    "outputId": "401e5982-6024-4c7e-f6de-55d923b04290"
   },
   "outputs": [
    {
     "data": {
      "text/html": [
       "<div>\n",
       "<style scoped>\n",
       "    .dataframe tbody tr th:only-of-type {\n",
       "        vertical-align: middle;\n",
       "    }\n",
       "\n",
       "    .dataframe tbody tr th {\n",
       "        vertical-align: top;\n",
       "    }\n",
       "\n",
       "    .dataframe thead th {\n",
       "        text-align: right;\n",
       "    }\n",
       "</style>\n",
       "<table border=\"1\" class=\"dataframe\">\n",
       "  <thead>\n",
       "    <tr style=\"text-align: right;\">\n",
       "      <th></th>\n",
       "      <th>user_id</th>\n",
       "      <th>age</th>\n",
       "      <th>country</th>\n",
       "      <th>gen</th>\n",
       "    </tr>\n",
       "  </thead>\n",
       "  <tbody>\n",
       "    <tr>\n",
       "      <th>0</th>\n",
       "      <td>1</td>\n",
       "      <td>0.0</td>\n",
       "      <td>usa</td>\n",
       "      <td>unknown</td>\n",
       "    </tr>\n",
       "    <tr>\n",
       "      <th>1</th>\n",
       "      <td>2</td>\n",
       "      <td>18.0</td>\n",
       "      <td>usa</td>\n",
       "      <td>10s</td>\n",
       "    </tr>\n",
       "    <tr>\n",
       "      <th>2</th>\n",
       "      <td>3</td>\n",
       "      <td>0.0</td>\n",
       "      <td>russia</td>\n",
       "      <td>unknown</td>\n",
       "    </tr>\n",
       "    <tr>\n",
       "      <th>3</th>\n",
       "      <td>4</td>\n",
       "      <td>17.0</td>\n",
       "      <td>portugal</td>\n",
       "      <td>10s</td>\n",
       "    </tr>\n",
       "    <tr>\n",
       "      <th>4</th>\n",
       "      <td>5</td>\n",
       "      <td>0.0</td>\n",
       "      <td>united kingdom</td>\n",
       "      <td>unknown</td>\n",
       "    </tr>\n",
       "    <tr>\n",
       "      <th>...</th>\n",
       "      <td>...</td>\n",
       "      <td>...</td>\n",
       "      <td>...</td>\n",
       "      <td>...</td>\n",
       "    </tr>\n",
       "    <tr>\n",
       "      <th>278853</th>\n",
       "      <td>278854</td>\n",
       "      <td>0.0</td>\n",
       "      <td>usa</td>\n",
       "      <td>unknown</td>\n",
       "    </tr>\n",
       "    <tr>\n",
       "      <th>278854</th>\n",
       "      <td>278855</td>\n",
       "      <td>50.0</td>\n",
       "      <td>united kingdom</td>\n",
       "      <td>50s</td>\n",
       "    </tr>\n",
       "    <tr>\n",
       "      <th>278855</th>\n",
       "      <td>278856</td>\n",
       "      <td>0.0</td>\n",
       "      <td>canada</td>\n",
       "      <td>unknown</td>\n",
       "    </tr>\n",
       "    <tr>\n",
       "      <th>278856</th>\n",
       "      <td>278857</td>\n",
       "      <td>0.0</td>\n",
       "      <td>usa</td>\n",
       "      <td>unknown</td>\n",
       "    </tr>\n",
       "    <tr>\n",
       "      <th>278857</th>\n",
       "      <td>278858</td>\n",
       "      <td>0.0</td>\n",
       "      <td>ireland</td>\n",
       "      <td>unknown</td>\n",
       "    </tr>\n",
       "  </tbody>\n",
       "</table>\n",
       "<p>278858 rows × 4 columns</p>\n",
       "</div>"
      ],
      "text/plain": [
       "        user_id   age         country      gen\n",
       "0             1   0.0             usa  unknown\n",
       "1             2  18.0             usa      10s\n",
       "2             3   0.0          russia  unknown\n",
       "3             4  17.0        portugal      10s\n",
       "4             5   0.0  united kingdom  unknown\n",
       "...         ...   ...             ...      ...\n",
       "278853   278854   0.0             usa  unknown\n",
       "278854   278855  50.0  united kingdom      50s\n",
       "278855   278856   0.0          canada  unknown\n",
       "278856   278857   0.0             usa  unknown\n",
       "278857   278858   0.0         ireland  unknown\n",
       "\n",
       "[278858 rows x 4 columns]"
      ]
     },
     "execution_count": 18,
     "metadata": {},
     "output_type": "execute_result"
    }
   ],
   "source": [
    "users"
   ]
  },
  {
   "cell_type": "code",
   "execution_count": 19,
   "metadata": {
    "colab": {
     "base_uri": "https://localhost:8080/",
     "height": 419
    },
    "id": "ceRwGRj0sGNj",
    "outputId": "096d78c0-27bf-4b95-ce17-1881658f5f47"
   },
   "outputs": [
    {
     "data": {
      "text/html": [
       "<div>\n",
       "<style scoped>\n",
       "    .dataframe tbody tr th:only-of-type {\n",
       "        vertical-align: middle;\n",
       "    }\n",
       "\n",
       "    .dataframe tbody tr th {\n",
       "        vertical-align: top;\n",
       "    }\n",
       "\n",
       "    .dataframe thead th {\n",
       "        text-align: right;\n",
       "    }\n",
       "</style>\n",
       "<table border=\"1\" class=\"dataframe\">\n",
       "  <thead>\n",
       "    <tr style=\"text-align: right;\">\n",
       "      <th></th>\n",
       "      <th>User-ID</th>\n",
       "      <th>ISBN</th>\n",
       "      <th>Book-Rating</th>\n",
       "    </tr>\n",
       "  </thead>\n",
       "  <tbody>\n",
       "    <tr>\n",
       "      <th>0</th>\n",
       "      <td>276725</td>\n",
       "      <td>034545104X</td>\n",
       "      <td>0</td>\n",
       "    </tr>\n",
       "    <tr>\n",
       "      <th>1</th>\n",
       "      <td>276726</td>\n",
       "      <td>0155061224</td>\n",
       "      <td>5</td>\n",
       "    </tr>\n",
       "    <tr>\n",
       "      <th>2</th>\n",
       "      <td>276727</td>\n",
       "      <td>0446520802</td>\n",
       "      <td>0</td>\n",
       "    </tr>\n",
       "    <tr>\n",
       "      <th>3</th>\n",
       "      <td>276729</td>\n",
       "      <td>052165615X</td>\n",
       "      <td>3</td>\n",
       "    </tr>\n",
       "    <tr>\n",
       "      <th>4</th>\n",
       "      <td>276729</td>\n",
       "      <td>0521795028</td>\n",
       "      <td>6</td>\n",
       "    </tr>\n",
       "    <tr>\n",
       "      <th>...</th>\n",
       "      <td>...</td>\n",
       "      <td>...</td>\n",
       "      <td>...</td>\n",
       "    </tr>\n",
       "    <tr>\n",
       "      <th>1149775</th>\n",
       "      <td>276704</td>\n",
       "      <td>1563526298</td>\n",
       "      <td>9</td>\n",
       "    </tr>\n",
       "    <tr>\n",
       "      <th>1149776</th>\n",
       "      <td>276706</td>\n",
       "      <td>0679447156</td>\n",
       "      <td>0</td>\n",
       "    </tr>\n",
       "    <tr>\n",
       "      <th>1149777</th>\n",
       "      <td>276709</td>\n",
       "      <td>0515107662</td>\n",
       "      <td>10</td>\n",
       "    </tr>\n",
       "    <tr>\n",
       "      <th>1149778</th>\n",
       "      <td>276721</td>\n",
       "      <td>0590442449</td>\n",
       "      <td>10</td>\n",
       "    </tr>\n",
       "    <tr>\n",
       "      <th>1149779</th>\n",
       "      <td>276723</td>\n",
       "      <td>05162443314</td>\n",
       "      <td>8</td>\n",
       "    </tr>\n",
       "  </tbody>\n",
       "</table>\n",
       "<p>1149780 rows × 3 columns</p>\n",
       "</div>"
      ],
      "text/plain": [
       "         User-ID         ISBN  Book-Rating\n",
       "0         276725   034545104X            0\n",
       "1         276726   0155061224            5\n",
       "2         276727   0446520802            0\n",
       "3         276729   052165615X            3\n",
       "4         276729   0521795028            6\n",
       "...          ...          ...          ...\n",
       "1149775   276704   1563526298            9\n",
       "1149776   276706   0679447156            0\n",
       "1149777   276709   0515107662           10\n",
       "1149778   276721   0590442449           10\n",
       "1149779   276723  05162443314            8\n",
       "\n",
       "[1149780 rows x 3 columns]"
      ]
     },
     "execution_count": 19,
     "metadata": {},
     "output_type": "execute_result"
    }
   ],
   "source": [
    "ratings"
   ]
  },
  {
   "cell_type": "code",
   "execution_count": 20,
   "metadata": {
    "id": "nZXGSzLXsrCz"
   },
   "outputs": [],
   "source": [
    "ratings.columns = ['user_id', 'ISBN', 'score']"
   ]
  },
  {
   "cell_type": "code",
   "execution_count": 21,
   "metadata": {
    "id": "I1S4p_-1tjTU"
   },
   "outputs": [],
   "source": [
    "# Pandas의 오픈 issue로 인해 해당 내용은 진행 불가\n",
    "# rating_table = ratings.pivot_table(index = ['user_id'], columns = ['ISBN'], values = ['score']\n",
    "# https://github.com/pandas-dev/pandas/issues/10582"
   ]
  },
  {
   "cell_type": "code",
   "execution_count": 22,
   "metadata": {
    "id": "Ak3Nzog8typA"
   },
   "outputs": [
    {
     "data": {
      "text/html": [
       "<div>\n",
       "<style scoped>\n",
       "    .dataframe tbody tr th:only-of-type {\n",
       "        vertical-align: middle;\n",
       "    }\n",
       "\n",
       "    .dataframe tbody tr th {\n",
       "        vertical-align: top;\n",
       "    }\n",
       "\n",
       "    .dataframe thead th {\n",
       "        text-align: right;\n",
       "    }\n",
       "</style>\n",
       "<table border=\"1\" class=\"dataframe\">\n",
       "  <thead>\n",
       "    <tr style=\"text-align: right;\">\n",
       "      <th></th>\n",
       "      <th>user_id</th>\n",
       "      <th>ISBN</th>\n",
       "      <th>score</th>\n",
       "      <th>gen</th>\n",
       "    </tr>\n",
       "  </thead>\n",
       "  <tbody>\n",
       "    <tr>\n",
       "      <th>0</th>\n",
       "      <td>276725</td>\n",
       "      <td>034545104X</td>\n",
       "      <td>0</td>\n",
       "      <td>unknown</td>\n",
       "    </tr>\n",
       "    <tr>\n",
       "      <th>1</th>\n",
       "      <td>276726</td>\n",
       "      <td>0155061224</td>\n",
       "      <td>5</td>\n",
       "      <td>unknown</td>\n",
       "    </tr>\n",
       "    <tr>\n",
       "      <th>2</th>\n",
       "      <td>276727</td>\n",
       "      <td>0446520802</td>\n",
       "      <td>0</td>\n",
       "      <td>10s</td>\n",
       "    </tr>\n",
       "    <tr>\n",
       "      <th>3</th>\n",
       "      <td>276729</td>\n",
       "      <td>052165615X</td>\n",
       "      <td>3</td>\n",
       "      <td>10s</td>\n",
       "    </tr>\n",
       "    <tr>\n",
       "      <th>4</th>\n",
       "      <td>276729</td>\n",
       "      <td>0521795028</td>\n",
       "      <td>6</td>\n",
       "      <td>10s</td>\n",
       "    </tr>\n",
       "    <tr>\n",
       "      <th>...</th>\n",
       "      <td>...</td>\n",
       "      <td>...</td>\n",
       "      <td>...</td>\n",
       "      <td>...</td>\n",
       "    </tr>\n",
       "    <tr>\n",
       "      <th>1149775</th>\n",
       "      <td>276704</td>\n",
       "      <td>1563526298</td>\n",
       "      <td>9</td>\n",
       "      <td>unknown</td>\n",
       "    </tr>\n",
       "    <tr>\n",
       "      <th>1149776</th>\n",
       "      <td>276706</td>\n",
       "      <td>0679447156</td>\n",
       "      <td>0</td>\n",
       "      <td>10s</td>\n",
       "    </tr>\n",
       "    <tr>\n",
       "      <th>1149777</th>\n",
       "      <td>276709</td>\n",
       "      <td>0515107662</td>\n",
       "      <td>10</td>\n",
       "      <td>30s</td>\n",
       "    </tr>\n",
       "    <tr>\n",
       "      <th>1149778</th>\n",
       "      <td>276721</td>\n",
       "      <td>0590442449</td>\n",
       "      <td>10</td>\n",
       "      <td>10s</td>\n",
       "    </tr>\n",
       "    <tr>\n",
       "      <th>1149779</th>\n",
       "      <td>276723</td>\n",
       "      <td>05162443314</td>\n",
       "      <td>8</td>\n",
       "      <td>10s</td>\n",
       "    </tr>\n",
       "  </tbody>\n",
       "</table>\n",
       "<p>1149780 rows × 4 columns</p>\n",
       "</div>"
      ],
      "text/plain": [
       "         user_id         ISBN  score      gen\n",
       "0         276725   034545104X      0  unknown\n",
       "1         276726   0155061224      5  unknown\n",
       "2         276727   0446520802      0      10s\n",
       "3         276729   052165615X      3      10s\n",
       "4         276729   0521795028      6      10s\n",
       "...          ...          ...    ...      ...\n",
       "1149775   276704   1563526298      9  unknown\n",
       "1149776   276706   0679447156      0      10s\n",
       "1149777   276709   0515107662     10      30s\n",
       "1149778   276721   0590442449     10      10s\n",
       "1149779   276723  05162443314      8      10s\n",
       "\n",
       "[1149780 rows x 4 columns]"
      ]
     },
     "execution_count": 22,
     "metadata": {},
     "output_type": "execute_result"
    }
   ],
   "source": [
    "# 위의 문제 해결을 위해, ratings를 쪼개서 만들고자 한다.\n",
    "# 비슷한 유저군들끼리 묶기 위해 gen별로 table을 만들어 진행한다.\n",
    "ratings_with_gen = pd.merge(ratings, users[['user_id', 'gen']],\n",
    "                           left_on='user_id', right_on='user_id', how = 'left')\n",
    "ratings_with_gen"
   ]
  },
  {
   "cell_type": "markdown",
   "metadata": {},
   "source": [
    "연령대를 확인 후 연령대별 추천 도서를 만들어주고자 한다.\n",
    "따라서 연령별로 데이터를 나누자."
   ]
  },
  {
   "cell_type": "code",
   "execution_count": 23,
   "metadata": {},
   "outputs": [],
   "source": [
    "ratings_under_10= ratings_with_gen.loc[ratings_with_gen.gen == 'under_10',:].reset_index(drop = True)\n",
    "ratings_10s = ratings_with_gen.loc[ratings_with_gen.gen == '10s',:].reset_index(drop = True)\n",
    "ratings_20s = ratings_with_gen.loc[ratings_with_gen.gen == '20s',:].reset_index(drop = True)\n",
    "ratings_30s = ratings_with_gen.loc[ratings_with_gen.gen == '30s',:].reset_index(drop = True)\n",
    "ratings_40s = ratings_with_gen.loc[ratings_with_gen.gen == '40s',:].reset_index(drop = True)\n",
    "ratings_50s = ratings_with_gen.loc[ratings_with_gen.gen == '50s',:].reset_index(drop = True)\n",
    "ratings_over_60 = ratings_with_gen.loc[ratings_with_gen.gen == 'over_60',:].reset_index(drop = True)"
   ]
  },
  {
   "cell_type": "code",
   "execution_count": 24,
   "metadata": {},
   "outputs": [],
   "source": [
    "# rating_table_under_10 = ratings_under_10.pivot_table(index = ['user_id'], columns = ['ISBN'], values = ['score'])\n",
    "# rating_table_10s = ratings_10s.pivot_table(index = ['user_id'], columns = ['ISBN'], values = ['score'])\n",
    "# rating_table_20s = ratings_20s.pivot_table(index = ['user_id'], columns = ['ISBN'], values = ['score'])\n",
    "# rating_table_30s = ratings_30s.pivot_table(index = ['user_id'], columns = ['ISBN'], values = ['score'])\n",
    "# rating_table_40s = ratings_40s.pivot_table(index = ['user_id'], columns = ['ISBN'], values = ['score'])\n",
    "# rating_table_50s = ratings_50s.pivot_table(index = ['user_id'], columns = ['ISBN'], values = ['score'])\n",
    "# rating_table_over_60 = ratings_over_60.pivot_table(index = ['user_id'], columns = ['ISBN'], values = ['score'])"
   ]
  },
  {
   "cell_type": "markdown",
   "metadata": {},
   "source": [
    "## 모델 스케치(20대 기준)"
   ]
  },
  {
   "cell_type": "markdown",
   "metadata": {},
   "source": [
    "모델의 스케치를 위해 20대를 예로 방법을 간단하게 확인해보자."
   ]
  },
  {
   "cell_type": "code",
   "execution_count": 25,
   "metadata": {},
   "outputs": [],
   "source": [
    "rating_table_20s = pd.pivot_table(ratings_20s, index = 'user_id', columns = 'ISBN', values = 'score').fillna(0)"
   ]
  },
  {
   "cell_type": "code",
   "execution_count": 26,
   "metadata": {},
   "outputs": [
    {
     "data": {
      "text/html": [
       "<div>\n",
       "<style scoped>\n",
       "    .dataframe tbody tr th:only-of-type {\n",
       "        vertical-align: middle;\n",
       "    }\n",
       "\n",
       "    .dataframe tbody tr th {\n",
       "        vertical-align: top;\n",
       "    }\n",
       "\n",
       "    .dataframe thead th {\n",
       "        text-align: right;\n",
       "    }\n",
       "</style>\n",
       "<table border=\"1\" class=\"dataframe\">\n",
       "  <thead>\n",
       "    <tr style=\"text-align: right;\">\n",
       "      <th>ISBN</th>\n",
       "      <th>+0451197399</th>\n",
       "      <th>0 14 02.9640</th>\n",
       "      <th>0 907 062 008</th>\n",
       "      <th>0/330/25864/8</th>\n",
       "      <th>00000000</th>\n",
       "      <th>000000000</th>\n",
       "      <th>0000000000</th>\n",
       "      <th>00000000000</th>\n",
       "      <th>0000000000000</th>\n",
       "      <th>0000000010</th>\n",
       "      <th>...</th>\n",
       "      <th>Q552146269</th>\n",
       "      <th>ULLSTEINBUCHN</th>\n",
       "      <th>V16382000</th>\n",
       "      <th>VENAFRO001</th>\n",
       "      <th>VG3862004</th>\n",
       "      <th>X000000000</th>\n",
       "      <th>\\0432534220\\\"\"</th>\n",
       "      <th>\\0679751521\"</th>\n",
       "      <th>`3502103682</th>\n",
       "      <th>Ô½crosoft</th>\n",
       "    </tr>\n",
       "    <tr>\n",
       "      <th>user_id</th>\n",
       "      <th></th>\n",
       "      <th></th>\n",
       "      <th></th>\n",
       "      <th></th>\n",
       "      <th></th>\n",
       "      <th></th>\n",
       "      <th></th>\n",
       "      <th></th>\n",
       "      <th></th>\n",
       "      <th></th>\n",
       "      <th></th>\n",
       "      <th></th>\n",
       "      <th></th>\n",
       "      <th></th>\n",
       "      <th></th>\n",
       "      <th></th>\n",
       "      <th></th>\n",
       "      <th></th>\n",
       "      <th></th>\n",
       "      <th></th>\n",
       "      <th></th>\n",
       "    </tr>\n",
       "  </thead>\n",
       "  <tbody>\n",
       "    <tr>\n",
       "      <th>10</th>\n",
       "      <td>0.0</td>\n",
       "      <td>0.0</td>\n",
       "      <td>0.0</td>\n",
       "      <td>0.0</td>\n",
       "      <td>0.0</td>\n",
       "      <td>0.0</td>\n",
       "      <td>0.0</td>\n",
       "      <td>0.0</td>\n",
       "      <td>0.0</td>\n",
       "      <td>0.0</td>\n",
       "      <td>...</td>\n",
       "      <td>0.0</td>\n",
       "      <td>0.0</td>\n",
       "      <td>0.0</td>\n",
       "      <td>0.0</td>\n",
       "      <td>0.0</td>\n",
       "      <td>0.0</td>\n",
       "      <td>0.0</td>\n",
       "      <td>0.0</td>\n",
       "      <td>0.0</td>\n",
       "      <td>0.0</td>\n",
       "    </tr>\n",
       "    <tr>\n",
       "      <th>36</th>\n",
       "      <td>0.0</td>\n",
       "      <td>0.0</td>\n",
       "      <td>0.0</td>\n",
       "      <td>0.0</td>\n",
       "      <td>0.0</td>\n",
       "      <td>0.0</td>\n",
       "      <td>0.0</td>\n",
       "      <td>0.0</td>\n",
       "      <td>0.0</td>\n",
       "      <td>0.0</td>\n",
       "      <td>...</td>\n",
       "      <td>0.0</td>\n",
       "      <td>0.0</td>\n",
       "      <td>0.0</td>\n",
       "      <td>0.0</td>\n",
       "      <td>0.0</td>\n",
       "      <td>0.0</td>\n",
       "      <td>0.0</td>\n",
       "      <td>0.0</td>\n",
       "      <td>0.0</td>\n",
       "      <td>0.0</td>\n",
       "    </tr>\n",
       "    <tr>\n",
       "      <th>56</th>\n",
       "      <td>0.0</td>\n",
       "      <td>0.0</td>\n",
       "      <td>0.0</td>\n",
       "      <td>0.0</td>\n",
       "      <td>0.0</td>\n",
       "      <td>0.0</td>\n",
       "      <td>0.0</td>\n",
       "      <td>0.0</td>\n",
       "      <td>0.0</td>\n",
       "      <td>0.0</td>\n",
       "      <td>...</td>\n",
       "      <td>0.0</td>\n",
       "      <td>0.0</td>\n",
       "      <td>0.0</td>\n",
       "      <td>0.0</td>\n",
       "      <td>0.0</td>\n",
       "      <td>0.0</td>\n",
       "      <td>0.0</td>\n",
       "      <td>0.0</td>\n",
       "      <td>0.0</td>\n",
       "      <td>0.0</td>\n",
       "    </tr>\n",
       "    <tr>\n",
       "      <th>79</th>\n",
       "      <td>0.0</td>\n",
       "      <td>0.0</td>\n",
       "      <td>0.0</td>\n",
       "      <td>0.0</td>\n",
       "      <td>0.0</td>\n",
       "      <td>0.0</td>\n",
       "      <td>0.0</td>\n",
       "      <td>0.0</td>\n",
       "      <td>0.0</td>\n",
       "      <td>0.0</td>\n",
       "      <td>...</td>\n",
       "      <td>0.0</td>\n",
       "      <td>0.0</td>\n",
       "      <td>0.0</td>\n",
       "      <td>0.0</td>\n",
       "      <td>0.0</td>\n",
       "      <td>0.0</td>\n",
       "      <td>0.0</td>\n",
       "      <td>0.0</td>\n",
       "      <td>0.0</td>\n",
       "      <td>0.0</td>\n",
       "    </tr>\n",
       "    <tr>\n",
       "      <th>92</th>\n",
       "      <td>0.0</td>\n",
       "      <td>0.0</td>\n",
       "      <td>0.0</td>\n",
       "      <td>0.0</td>\n",
       "      <td>0.0</td>\n",
       "      <td>0.0</td>\n",
       "      <td>0.0</td>\n",
       "      <td>0.0</td>\n",
       "      <td>0.0</td>\n",
       "      <td>0.0</td>\n",
       "      <td>...</td>\n",
       "      <td>0.0</td>\n",
       "      <td>0.0</td>\n",
       "      <td>0.0</td>\n",
       "      <td>0.0</td>\n",
       "      <td>0.0</td>\n",
       "      <td>0.0</td>\n",
       "      <td>0.0</td>\n",
       "      <td>0.0</td>\n",
       "      <td>0.0</td>\n",
       "      <td>0.0</td>\n",
       "    </tr>\n",
       "    <tr>\n",
       "      <th>...</th>\n",
       "      <td>...</td>\n",
       "      <td>...</td>\n",
       "      <td>...</td>\n",
       "      <td>...</td>\n",
       "      <td>...</td>\n",
       "      <td>...</td>\n",
       "      <td>...</td>\n",
       "      <td>...</td>\n",
       "      <td>...</td>\n",
       "      <td>...</td>\n",
       "      <td>...</td>\n",
       "      <td>...</td>\n",
       "      <td>...</td>\n",
       "      <td>...</td>\n",
       "      <td>...</td>\n",
       "      <td>...</td>\n",
       "      <td>...</td>\n",
       "      <td>...</td>\n",
       "      <td>...</td>\n",
       "      <td>...</td>\n",
       "      <td>...</td>\n",
       "    </tr>\n",
       "    <tr>\n",
       "      <th>278747</th>\n",
       "      <td>0.0</td>\n",
       "      <td>0.0</td>\n",
       "      <td>0.0</td>\n",
       "      <td>0.0</td>\n",
       "      <td>0.0</td>\n",
       "      <td>0.0</td>\n",
       "      <td>0.0</td>\n",
       "      <td>0.0</td>\n",
       "      <td>0.0</td>\n",
       "      <td>0.0</td>\n",
       "      <td>...</td>\n",
       "      <td>0.0</td>\n",
       "      <td>0.0</td>\n",
       "      <td>0.0</td>\n",
       "      <td>0.0</td>\n",
       "      <td>0.0</td>\n",
       "      <td>0.0</td>\n",
       "      <td>0.0</td>\n",
       "      <td>0.0</td>\n",
       "      <td>0.0</td>\n",
       "      <td>0.0</td>\n",
       "    </tr>\n",
       "    <tr>\n",
       "      <th>278843</th>\n",
       "      <td>0.0</td>\n",
       "      <td>0.0</td>\n",
       "      <td>0.0</td>\n",
       "      <td>0.0</td>\n",
       "      <td>0.0</td>\n",
       "      <td>0.0</td>\n",
       "      <td>0.0</td>\n",
       "      <td>0.0</td>\n",
       "      <td>0.0</td>\n",
       "      <td>0.0</td>\n",
       "      <td>...</td>\n",
       "      <td>0.0</td>\n",
       "      <td>0.0</td>\n",
       "      <td>0.0</td>\n",
       "      <td>0.0</td>\n",
       "      <td>0.0</td>\n",
       "      <td>0.0</td>\n",
       "      <td>0.0</td>\n",
       "      <td>0.0</td>\n",
       "      <td>0.0</td>\n",
       "      <td>0.0</td>\n",
       "    </tr>\n",
       "    <tr>\n",
       "      <th>278844</th>\n",
       "      <td>0.0</td>\n",
       "      <td>0.0</td>\n",
       "      <td>0.0</td>\n",
       "      <td>0.0</td>\n",
       "      <td>0.0</td>\n",
       "      <td>0.0</td>\n",
       "      <td>0.0</td>\n",
       "      <td>0.0</td>\n",
       "      <td>0.0</td>\n",
       "      <td>0.0</td>\n",
       "      <td>...</td>\n",
       "      <td>0.0</td>\n",
       "      <td>0.0</td>\n",
       "      <td>0.0</td>\n",
       "      <td>0.0</td>\n",
       "      <td>0.0</td>\n",
       "      <td>0.0</td>\n",
       "      <td>0.0</td>\n",
       "      <td>0.0</td>\n",
       "      <td>0.0</td>\n",
       "      <td>0.0</td>\n",
       "    </tr>\n",
       "    <tr>\n",
       "      <th>278846</th>\n",
       "      <td>0.0</td>\n",
       "      <td>0.0</td>\n",
       "      <td>0.0</td>\n",
       "      <td>0.0</td>\n",
       "      <td>0.0</td>\n",
       "      <td>0.0</td>\n",
       "      <td>0.0</td>\n",
       "      <td>0.0</td>\n",
       "      <td>0.0</td>\n",
       "      <td>0.0</td>\n",
       "      <td>...</td>\n",
       "      <td>0.0</td>\n",
       "      <td>0.0</td>\n",
       "      <td>0.0</td>\n",
       "      <td>0.0</td>\n",
       "      <td>0.0</td>\n",
       "      <td>0.0</td>\n",
       "      <td>0.0</td>\n",
       "      <td>0.0</td>\n",
       "      <td>0.0</td>\n",
       "      <td>0.0</td>\n",
       "    </tr>\n",
       "    <tr>\n",
       "      <th>278849</th>\n",
       "      <td>0.0</td>\n",
       "      <td>0.0</td>\n",
       "      <td>0.0</td>\n",
       "      <td>0.0</td>\n",
       "      <td>0.0</td>\n",
       "      <td>0.0</td>\n",
       "      <td>0.0</td>\n",
       "      <td>0.0</td>\n",
       "      <td>0.0</td>\n",
       "      <td>0.0</td>\n",
       "      <td>...</td>\n",
       "      <td>0.0</td>\n",
       "      <td>0.0</td>\n",
       "      <td>0.0</td>\n",
       "      <td>0.0</td>\n",
       "      <td>0.0</td>\n",
       "      <td>0.0</td>\n",
       "      <td>0.0</td>\n",
       "      <td>0.0</td>\n",
       "      <td>0.0</td>\n",
       "      <td>0.0</td>\n",
       "    </tr>\n",
       "  </tbody>\n",
       "</table>\n",
       "<p>17611 rows × 109391 columns</p>\n",
       "</div>"
      ],
      "text/plain": [
       "ISBN     +0451197399  0 14 02.9640  0 907 062 008  0/330/25864/8  00000000  \\\n",
       "user_id                                                                      \n",
       "10               0.0           0.0            0.0            0.0       0.0   \n",
       "36               0.0           0.0            0.0            0.0       0.0   \n",
       "56               0.0           0.0            0.0            0.0       0.0   \n",
       "79               0.0           0.0            0.0            0.0       0.0   \n",
       "92               0.0           0.0            0.0            0.0       0.0   \n",
       "...              ...           ...            ...            ...       ...   \n",
       "278747           0.0           0.0            0.0            0.0       0.0   \n",
       "278843           0.0           0.0            0.0            0.0       0.0   \n",
       "278844           0.0           0.0            0.0            0.0       0.0   \n",
       "278846           0.0           0.0            0.0            0.0       0.0   \n",
       "278849           0.0           0.0            0.0            0.0       0.0   \n",
       "\n",
       "ISBN     000000000  0000000000  00000000000  0000000000000  0000000010  ...  \\\n",
       "user_id                                                                 ...   \n",
       "10             0.0         0.0          0.0            0.0         0.0  ...   \n",
       "36             0.0         0.0          0.0            0.0         0.0  ...   \n",
       "56             0.0         0.0          0.0            0.0         0.0  ...   \n",
       "79             0.0         0.0          0.0            0.0         0.0  ...   \n",
       "92             0.0         0.0          0.0            0.0         0.0  ...   \n",
       "...            ...         ...          ...            ...         ...  ...   \n",
       "278747         0.0         0.0          0.0            0.0         0.0  ...   \n",
       "278843         0.0         0.0          0.0            0.0         0.0  ...   \n",
       "278844         0.0         0.0          0.0            0.0         0.0  ...   \n",
       "278846         0.0         0.0          0.0            0.0         0.0  ...   \n",
       "278849         0.0         0.0          0.0            0.0         0.0  ...   \n",
       "\n",
       "ISBN     Q552146269  ULLSTEINBUCHN  V16382000  VENAFRO001  VG3862004  \\\n",
       "user_id                                                                \n",
       "10              0.0            0.0        0.0         0.0        0.0   \n",
       "36              0.0            0.0        0.0         0.0        0.0   \n",
       "56              0.0            0.0        0.0         0.0        0.0   \n",
       "79              0.0            0.0        0.0         0.0        0.0   \n",
       "92              0.0            0.0        0.0         0.0        0.0   \n",
       "...             ...            ...        ...         ...        ...   \n",
       "278747          0.0            0.0        0.0         0.0        0.0   \n",
       "278843          0.0            0.0        0.0         0.0        0.0   \n",
       "278844          0.0            0.0        0.0         0.0        0.0   \n",
       "278846          0.0            0.0        0.0         0.0        0.0   \n",
       "278849          0.0            0.0        0.0         0.0        0.0   \n",
       "\n",
       "ISBN     X000000000  \\0432534220\\\"\"  \\0679751521\"  `3502103682  Ô½crosoft  \n",
       "user_id                                                                    \n",
       "10              0.0             0.0           0.0          0.0        0.0  \n",
       "36              0.0             0.0           0.0          0.0        0.0  \n",
       "56              0.0             0.0           0.0          0.0        0.0  \n",
       "79              0.0             0.0           0.0          0.0        0.0  \n",
       "92              0.0             0.0           0.0          0.0        0.0  \n",
       "...             ...             ...           ...          ...        ...  \n",
       "278747          0.0             0.0           0.0          0.0        0.0  \n",
       "278843          0.0             0.0           0.0          0.0        0.0  \n",
       "278844          0.0             0.0           0.0          0.0        0.0  \n",
       "278846          0.0             0.0           0.0          0.0        0.0  \n",
       "278849          0.0             0.0           0.0          0.0        0.0  \n",
       "\n",
       "[17611 rows x 109391 columns]"
      ]
     },
     "execution_count": 26,
     "metadata": {},
     "output_type": "execute_result"
    }
   ],
   "source": [
    "rating_table_20s"
   ]
  },
  {
   "cell_type": "code",
   "execution_count": 27,
   "metadata": {
    "scrolled": false
   },
   "outputs": [],
   "source": [
    "# 평균 정렬\n",
    "import numpy as np\n",
    "matrix_20s = np.matrix(rating_table_20s)\n",
    "user_mean = np.mean(matrix_20s, axis = 1)\n",
    "matrix_20s_centered = matrix_20s - user_mean.reshape(-1, 1)"
   ]
  },
  {
   "cell_type": "code",
   "execution_count": 28,
   "metadata": {},
   "outputs": [
    {
     "data": {
      "text/plain": [
       "matrix([[-5.48491192e-05, -5.48491192e-05, -5.48491192e-05, ...,\n",
       "         -5.48491192e-05, -5.48491192e-05, -5.48491192e-05],\n",
       "        [ 0.00000000e+00,  0.00000000e+00,  0.00000000e+00, ...,\n",
       "          0.00000000e+00,  0.00000000e+00,  0.00000000e+00],\n",
       "        [-1.46264318e-04, -1.46264318e-04, -1.46264318e-04, ...,\n",
       "         -1.46264318e-04, -1.46264318e-04, -1.46264318e-04],\n",
       "        ...,\n",
       "        [-1.73688878e-04, -1.73688878e-04, -1.73688878e-04, ...,\n",
       "         -1.73688878e-04, -1.73688878e-04, -1.73688878e-04],\n",
       "        [-7.31321590e-05, -7.31321590e-05, -7.31321590e-05, ...,\n",
       "         -7.31321590e-05, -7.31321590e-05, -7.31321590e-05],\n",
       "        [-8.22736788e-05, -8.22736788e-05, -8.22736788e-05, ...,\n",
       "         -8.22736788e-05, -8.22736788e-05, -8.22736788e-05]])"
      ]
     },
     "execution_count": 28,
     "metadata": {},
     "output_type": "execute_result"
    }
   ],
   "source": [
    "matrix_20s_centered"
   ]
  },
  {
   "cell_type": "code",
   "execution_count": 29,
   "metadata": {},
   "outputs": [],
   "source": [
    "# SVD 적용\n",
    "from scipy.sparse.linalg import svds\n",
    "U, sigma, V = svds(matrix_20s_centered, k = 9)"
   ]
  },
  {
   "cell_type": "markdown",
   "metadata": {},
   "source": [
    "Latent Factor를 얻었다.\n",
    "User에 대해서 유사한 정보를 찾기 위해 U 행렬을 확인하고자 한다."
   ]
  },
  {
   "cell_type": "code",
   "execution_count": 30,
   "metadata": {},
   "outputs": [
    {
     "data": {
      "text/plain": [
       "17611"
      ]
     },
     "execution_count": 30,
     "metadata": {},
     "output_type": "execute_result"
    }
   ],
   "source": [
    "len(U)"
   ]
  },
  {
   "cell_type": "code",
   "execution_count": 31,
   "metadata": {},
   "outputs": [],
   "source": [
    "#  best-k 가장 유사한 유저 찾기\n",
    "def pearson_corr(v1, v2):\n",
    "    cov = np.cov(v1, v2)[0, 1] # 공분산 행렬로 나오지 않게 설정한다.\n",
    "    std1 = np.std(v1)\n",
    "    std2 = np.std(v2)\n",
    "    return cov / (std1 * std2)"
   ]
  },
  {
   "cell_type": "code",
   "execution_count": 32,
   "metadata": {},
   "outputs": [
    {
     "name": "stdout",
     "output_type": "stream",
     "text": [
      "355\n"
     ]
    }
   ],
   "source": [
    "max_corr = -99\n",
    "max_idx = -1\n",
    "for i in range(1, len(U)):\n",
    "    cur_corr = pearson_corr(U[0], U[i])\n",
    "    if max_corr < cur_corr:\n",
    "        max_corr = cur_corr\n",
    "        max_idx = i\n",
    "print(max_idx)"
   ]
  },
  {
   "cell_type": "code",
   "execution_count": 33,
   "metadata": {},
   "outputs": [
    {
     "data": {
      "text/plain": [
       "4875"
      ]
     },
     "execution_count": 33,
     "metadata": {},
     "output_type": "execute_result"
    }
   ],
   "source": [
    "# 355번째 유저를 확인하는 방법\n",
    "sorted(ratings_20s.user_id.unique())[355]"
   ]
  },
  {
   "cell_type": "code",
   "execution_count": 34,
   "metadata": {},
   "outputs": [],
   "source": [
    "#id = 10인 유저가 읽지 않았는데 id = 4875가 읽은 책을 확인하기.\n",
    "id_10_read = ratings_20s.loc[ratings_20s.user_id == 10,:].ISBN\n",
    "id_4875_read = ratings_20s.loc[ratings_20s.user_id == 4875,:].ISBN"
   ]
  },
  {
   "cell_type": "code",
   "execution_count": 35,
   "metadata": {},
   "outputs": [
    {
     "data": {
      "text/plain": [
       "5171    157586326X\n",
       "Name: ISBN, dtype: object"
      ]
     },
     "execution_count": 35,
     "metadata": {},
     "output_type": "execute_result"
    }
   ],
   "source": [
    "id_4875_read"
   ]
  },
  {
   "cell_type": "code",
   "execution_count": 36,
   "metadata": {},
   "outputs": [
    {
     "data": {
      "text/html": [
       "<div>\n",
       "<style scoped>\n",
       "    .dataframe tbody tr th:only-of-type {\n",
       "        vertical-align: middle;\n",
       "    }\n",
       "\n",
       "    .dataframe tbody tr th {\n",
       "        vertical-align: top;\n",
       "    }\n",
       "\n",
       "    .dataframe thead th {\n",
       "        text-align: right;\n",
       "    }\n",
       "</style>\n",
       "<table border=\"1\" class=\"dataframe\">\n",
       "  <thead>\n",
       "    <tr style=\"text-align: right;\">\n",
       "      <th></th>\n",
       "      <th>ISBN</th>\n",
       "      <th>title</th>\n",
       "      <th>author</th>\n",
       "      <th>pub_year</th>\n",
       "    </tr>\n",
       "  </thead>\n",
       "  <tbody>\n",
       "    <tr>\n",
       "      <th>5477</th>\n",
       "      <td>157586326X</td>\n",
       "      <td>Things a Computer Scientist Rarely Talks About</td>\n",
       "      <td>Donald E. Knuth</td>\n",
       "      <td>2003</td>\n",
       "    </tr>\n",
       "  </tbody>\n",
       "</table>\n",
       "</div>"
      ],
      "text/plain": [
       "            ISBN                                           title  \\\n",
       "5477  157586326X  Things a Computer Scientist Rarely Talks About   \n",
       "\n",
       "               author pub_year  \n",
       "5477  Donald E. Knuth     2003  "
      ]
     },
     "execution_count": 36,
     "metadata": {},
     "output_type": "execute_result"
    }
   ],
   "source": [
    "books.loc[books.ISBN=='157586326X',:]"
   ]
  },
  {
   "cell_type": "code",
   "execution_count": 37,
   "metadata": {},
   "outputs": [
    {
     "data": {
      "text/plain": [
       "747    1841721522\n",
       "748    8477024456\n",
       "Name: ISBN, dtype: object"
      ]
     },
     "execution_count": 37,
     "metadata": {},
     "output_type": "execute_result"
    }
   ],
   "source": [
    "id_10_read"
   ]
  },
  {
   "cell_type": "code",
   "execution_count": 38,
   "metadata": {},
   "outputs": [
    {
     "data": {
      "text/html": [
       "<div>\n",
       "<style scoped>\n",
       "    .dataframe tbody tr th:only-of-type {\n",
       "        vertical-align: middle;\n",
       "    }\n",
       "\n",
       "    .dataframe tbody tr th {\n",
       "        vertical-align: top;\n",
       "    }\n",
       "\n",
       "    .dataframe thead th {\n",
       "        text-align: right;\n",
       "    }\n",
       "</style>\n",
       "<table border=\"1\" class=\"dataframe\">\n",
       "  <thead>\n",
       "    <tr style=\"text-align: right;\">\n",
       "      <th></th>\n",
       "      <th>ISBN</th>\n",
       "      <th>title</th>\n",
       "      <th>author</th>\n",
       "      <th>pub_year</th>\n",
       "    </tr>\n",
       "  </thead>\n",
       "  <tbody>\n",
       "    <tr>\n",
       "      <th>21</th>\n",
       "      <td>1841721522</td>\n",
       "      <td>New Vegetarian: Bold and Beautiful Recipes for...</td>\n",
       "      <td>Celia Brooks Brown</td>\n",
       "      <td>2001</td>\n",
       "    </tr>\n",
       "  </tbody>\n",
       "</table>\n",
       "</div>"
      ],
      "text/plain": [
       "          ISBN                                              title  \\\n",
       "21  1841721522  New Vegetarian: Bold and Beautiful Recipes for...   \n",
       "\n",
       "                author pub_year  \n",
       "21  Celia Brooks Brown     2001  "
      ]
     },
     "execution_count": 38,
     "metadata": {},
     "output_type": "execute_result"
    }
   ],
   "source": [
    "books.loc[books.ISBN=='1841721522',:]"
   ]
  },
  {
   "cell_type": "code",
   "execution_count": 39,
   "metadata": {},
   "outputs": [],
   "source": [
    "# 10번이 읽은 책은 컴퓨터책인데, 4875번이 읽은 책은 음식과 관련된 책으로 거리가 멀어 보인다.\n",
    "# 이를 해결하기 위해, 유저 1명이 대해서가 아닌 가장 가까운 유저 10명이 읽은 책을 확인해보는 방법으로 진행한다.\n",
    "\n",
    "user_20s_id = sorted(ratings_20s.user_id.unique())\n",
    "user_20s_corr = []\n",
    "\n",
    "for i in range(1, len(U)):\n",
    "    if i == 0:\n",
    "        user_20s_corr.append(0)\n",
    "    else:\n",
    "        user_20s_corr.append(pearson_corr(U[0], U[i]))"
   ]
  },
  {
   "cell_type": "code",
   "execution_count": 40,
   "metadata": {},
   "outputs": [],
   "source": [
    "# user_20s_id와 user_20s_corr을 dict로 만든 후, corr값을 기준으로 내림차순 정렬을 한다.\n",
    "# 그 후 최대 5개를 뽑아 recom으로 만든다.\n",
    "\n",
    "# dict로 만들기 위해 zip를 활용한다.\n",
    "user_20s_dict = dict(zip(user_20s_id, user_20s_corr))\n",
    "user_20s_dict = sorted(user_20s_dict.items(), key = (lambda x : x[1]), reverse = True)"
   ]
  },
  {
   "cell_type": "code",
   "execution_count": 41,
   "metadata": {
    "scrolled": false
   },
   "outputs": [],
   "source": [
    "picked_id = [i[0] for i in user_20s_dict[0:10]]"
   ]
  },
  {
   "cell_type": "code",
   "execution_count": 42,
   "metadata": {},
   "outputs": [
    {
     "data": {
      "text/plain": [
       "[4849, 27917, 39745, 56302, 63006, 67513, 78951, 84655, 94865, 106453]"
      ]
     },
     "execution_count": 42,
     "metadata": {},
     "output_type": "execute_result"
    }
   ],
   "source": [
    "picked_id"
   ]
  },
  {
   "cell_type": "markdown",
   "metadata": {},
   "source": [
    "## Item-Based를 위한 준비/탐색"
   ]
  },
  {
   "cell_type": "code",
   "execution_count": 43,
   "metadata": {},
   "outputs": [
    {
     "data": {
      "text/html": [
       "<div>\n",
       "<style scoped>\n",
       "    .dataframe tbody tr th:only-of-type {\n",
       "        vertical-align: middle;\n",
       "    }\n",
       "\n",
       "    .dataframe tbody tr th {\n",
       "        vertical-align: top;\n",
       "    }\n",
       "\n",
       "    .dataframe thead th {\n",
       "        text-align: right;\n",
       "    }\n",
       "</style>\n",
       "<table border=\"1\" class=\"dataframe\">\n",
       "  <thead>\n",
       "    <tr style=\"text-align: right;\">\n",
       "      <th></th>\n",
       "      <th>ISBN</th>\n",
       "      <th>title</th>\n",
       "      <th>author</th>\n",
       "      <th>pub_year</th>\n",
       "    </tr>\n",
       "  </thead>\n",
       "  <tbody>\n",
       "    <tr>\n",
       "      <th>5477</th>\n",
       "      <td>157586326X</td>\n",
       "      <td>Things a Computer Scientist Rarely Talks About</td>\n",
       "      <td>Donald E. Knuth</td>\n",
       "      <td>2003</td>\n",
       "    </tr>\n",
       "    <tr>\n",
       "      <th>117947</th>\n",
       "      <td>020103803X</td>\n",
       "      <td>Art of Computer Programming/Sorting and Search...</td>\n",
       "      <td>Donald E. Knuth</td>\n",
       "      <td>1973</td>\n",
       "    </tr>\n",
       "    <tr>\n",
       "      <th>117949</th>\n",
       "      <td>0201038226</td>\n",
       "      <td>The Art of Computer Programming, Volume 2: Sem...</td>\n",
       "      <td>Donald E. Knuth</td>\n",
       "      <td>1981</td>\n",
       "    </tr>\n",
       "    <tr>\n",
       "      <th>129047</th>\n",
       "      <td>0201896834</td>\n",
       "      <td>Art of Computer Programming, Volume 1: Fundame...</td>\n",
       "      <td>Donald E. Knuth</td>\n",
       "      <td>1997</td>\n",
       "    </tr>\n",
       "    <tr>\n",
       "      <th>262305</th>\n",
       "      <td>0201896842</td>\n",
       "      <td>Art of Computer Programming, Volume 2: Seminum...</td>\n",
       "      <td>Donald E. Knuth</td>\n",
       "      <td>1997</td>\n",
       "    </tr>\n",
       "    <tr>\n",
       "      <th>262306</th>\n",
       "      <td>0201896850</td>\n",
       "      <td>Art of Computer Programming, Volume 3: Sorting...</td>\n",
       "      <td>Donald E. Knuth</td>\n",
       "      <td>1998</td>\n",
       "    </tr>\n",
       "  </tbody>\n",
       "</table>\n",
       "</div>"
      ],
      "text/plain": [
       "              ISBN                                              title  \\\n",
       "5477    157586326X     Things a Computer Scientist Rarely Talks About   \n",
       "117947  020103803X  Art of Computer Programming/Sorting and Search...   \n",
       "117949  0201038226  The Art of Computer Programming, Volume 2: Sem...   \n",
       "129047  0201896834  Art of Computer Programming, Volume 1: Fundame...   \n",
       "262305  0201896842  Art of Computer Programming, Volume 2: Seminum...   \n",
       "262306  0201896850  Art of Computer Programming, Volume 3: Sorting...   \n",
       "\n",
       "                 author pub_year  \n",
       "5477    Donald E. Knuth     2003  \n",
       "117947  Donald E. Knuth     1973  \n",
       "117949  Donald E. Knuth     1981  \n",
       "129047  Donald E. Knuth     1997  \n",
       "262305  Donald E. Knuth     1997  \n",
       "262306  Donald E. Knuth     1998  "
      ]
     },
     "execution_count": 43,
     "metadata": {},
     "output_type": "execute_result"
    }
   ],
   "source": [
    "# 우선 작가 하나를 기준으로 도서 리스트를 검색\n",
    "books.loc[books.author == 'Donald E. Knuth',:]"
   ]
  },
  {
   "cell_type": "code",
   "execution_count": 44,
   "metadata": {},
   "outputs": [
    {
     "data": {
      "text/plain": [
       "102024"
      ]
     },
     "execution_count": 44,
     "metadata": {},
     "output_type": "execute_result"
    }
   ],
   "source": [
    "# 작가별로, 유의미하게 동일한 컨셉의 책을 주는 것을 알 수 있다.\n",
    "# 작가의 수를 검색해보자\n",
    "len(books.author.unique())"
   ]
  },
  {
   "cell_type": "markdown",
   "metadata": {},
   "source": [
    "## 20대 기준 모델 설계"
   ]
  },
  {
   "cell_type": "markdown",
   "metadata": {},
   "source": [
    "### 모델 설계 계획  \n",
    "1. 가장 유사한 유저 10명을 추천 한다.  \n",
    "2. 10명이 읽은 책을 동일한 ISBN으로 묶어준다.\n",
    "3. 5권 + 유저가 읽은 책의 작가별로 가장 최신의 책(작가별 최대 5권?)을 선정한다.\n",
    "\n",
    "이 때, 신규 유저의 취향을 받기 위한 방법으로 신규 유저에게 질문을 받는 방법을 고민해보자."
   ]
  },
  {
   "cell_type": "markdown",
   "metadata": {},
   "source": [
    "### 사전 질문 형성 고려"
   ]
  },
  {
   "cell_type": "code",
   "execution_count": 45,
   "metadata": {},
   "outputs": [],
   "source": [
    "sorted_20s = ratings_20s.groupby(ratings_20s.ISBN).count().sort_values('user_id', ascending = False)\n",
    "sorted_20s_top10 = sorted_20s.iloc[0:10,:]"
   ]
  },
  {
   "cell_type": "code",
   "execution_count": 46,
   "metadata": {},
   "outputs": [
    {
     "data": {
      "text/html": [
       "<div>\n",
       "<style scoped>\n",
       "    .dataframe tbody tr th:only-of-type {\n",
       "        vertical-align: middle;\n",
       "    }\n",
       "\n",
       "    .dataframe tbody tr th {\n",
       "        vertical-align: top;\n",
       "    }\n",
       "\n",
       "    .dataframe thead th {\n",
       "        text-align: right;\n",
       "    }\n",
       "</style>\n",
       "<table border=\"1\" class=\"dataframe\">\n",
       "  <thead>\n",
       "    <tr style=\"text-align: right;\">\n",
       "      <th></th>\n",
       "      <th>user_id</th>\n",
       "      <th>score</th>\n",
       "      <th>gen</th>\n",
       "    </tr>\n",
       "    <tr>\n",
       "      <th>ISBN</th>\n",
       "      <th></th>\n",
       "      <th></th>\n",
       "      <th></th>\n",
       "    </tr>\n",
       "  </thead>\n",
       "  <tbody>\n",
       "    <tr>\n",
       "      <th>0971880107</th>\n",
       "      <td>711</td>\n",
       "      <td>711</td>\n",
       "      <td>711</td>\n",
       "    </tr>\n",
       "    <tr>\n",
       "      <th>0316666343</th>\n",
       "      <td>253</td>\n",
       "      <td>253</td>\n",
       "      <td>253</td>\n",
       "    </tr>\n",
       "    <tr>\n",
       "      <th>0385504209</th>\n",
       "      <td>187</td>\n",
       "      <td>187</td>\n",
       "      <td>187</td>\n",
       "    </tr>\n",
       "    <tr>\n",
       "      <th>0679781587</th>\n",
       "      <td>155</td>\n",
       "      <td>155</td>\n",
       "      <td>155</td>\n",
       "    </tr>\n",
       "    <tr>\n",
       "      <th>0060928336</th>\n",
       "      <td>151</td>\n",
       "      <td>151</td>\n",
       "      <td>151</td>\n",
       "    </tr>\n",
       "    <tr>\n",
       "      <th>0345337662</th>\n",
       "      <td>143</td>\n",
       "      <td>143</td>\n",
       "      <td>143</td>\n",
       "    </tr>\n",
       "    <tr>\n",
       "      <th>059035342X</th>\n",
       "      <td>142</td>\n",
       "      <td>142</td>\n",
       "      <td>142</td>\n",
       "    </tr>\n",
       "    <tr>\n",
       "      <th>0312195516</th>\n",
       "      <td>133</td>\n",
       "      <td>133</td>\n",
       "      <td>133</td>\n",
       "    </tr>\n",
       "    <tr>\n",
       "      <th>0804106304</th>\n",
       "      <td>127</td>\n",
       "      <td>127</td>\n",
       "      <td>127</td>\n",
       "    </tr>\n",
       "    <tr>\n",
       "      <th>0316769487</th>\n",
       "      <td>122</td>\n",
       "      <td>122</td>\n",
       "      <td>122</td>\n",
       "    </tr>\n",
       "  </tbody>\n",
       "</table>\n",
       "</div>"
      ],
      "text/plain": [
       "            user_id  score  gen\n",
       "ISBN                           \n",
       "0971880107      711    711  711\n",
       "0316666343      253    253  253\n",
       "0385504209      187    187  187\n",
       "0679781587      155    155  155\n",
       "0060928336      151    151  151\n",
       "0345337662      143    143  143\n",
       "059035342X      142    142  142\n",
       "0312195516      133    133  133\n",
       "0804106304      127    127  127\n",
       "0316769487      122    122  122"
      ]
     },
     "execution_count": 46,
     "metadata": {},
     "output_type": "execute_result"
    }
   ],
   "source": [
    "# 가장 많이 읽은 10권의 책에 대해 점수를 받고자 한다.\n",
    "sorted_20s_top10"
   ]
  },
  {
   "cell_type": "code",
   "execution_count": 47,
   "metadata": {},
   "outputs": [],
   "source": [
    "book_top10_title = []\n",
    "for i in range(0, 10):\n",
    "    cur_ISBN = sorted_20s_top10.index[i]\n",
    "    book_top10_title.append(books.loc[books.ISBN == cur_ISBN].title)"
   ]
  },
  {
   "cell_type": "code",
   "execution_count": 48,
   "metadata": {},
   "outputs": [
    {
     "data": {
      "text/plain": [
       "[26    Wild Animus\n",
       " Name: title, dtype: object,\n",
       " 408    The Lovely Bones: A Novel\n",
       " Name: title, dtype: object,\n",
       " 748    The Da Vinci Code\n",
       " Name: title, dtype: object,\n",
       " Series([], Name: title, dtype: object),\n",
       " 1105    Divine Secrets of the Ya-Ya Sisterhood: A Novel\n",
       " Name: title, dtype: object,\n",
       " 2526    Interview with the Vampire\n",
       " Name: title, dtype: object,\n",
       " 2143    Harry Potter and the Sorcerer's Stone (Harry P...\n",
       " Name: title, dtype: object,\n",
       " 522    The Red Tent (Bestselling Backlist)\n",
       " Name: title, dtype: object,\n",
       " 67    The Joy Luck Club\n",
       " Name: title, dtype: object,\n",
       " 90    The Catcher in the Rye\n",
       " Name: title, dtype: object]"
      ]
     },
     "execution_count": 48,
     "metadata": {},
     "output_type": "execute_result"
    }
   ],
   "source": [
    "book_top10_title"
   ]
  },
  {
   "cell_type": "markdown",
   "metadata": {},
   "source": [
    "해당 10권을 바탕으로 평점을 먹으려고 했더니 모두 문학작품만 나왔는데  \n",
    "기타 분야의 도서에 대해서는 고려하기는 어려워보인다.\n",
    "따라서 연령대별 가장 많이 평가가 이루어진 도서 10개를 선정해서 점수를 질문하는 방식의 모델은 적절하지 않다."
   ]
  },
  {
   "cell_type": "markdown",
   "metadata": {},
   "source": [
    "### 상위 10명의 유저 활용"
   ]
  },
  {
   "cell_type": "markdown",
   "metadata": {},
   "source": [
    "상위 유저가 한명이 아니라 여러명이라면 의미가 있을지를 고민해보자."
   ]
  },
  {
   "cell_type": "code",
   "execution_count": 49,
   "metadata": {},
   "outputs": [],
   "source": [
    "# 0번 유저와 유사한 유저 10명\n",
    "# 위에서 만든 picked_id 활용\n",
    "# extend를 활용하면 리스트를 그냥 붙여버릴수있다.\n",
    "# append와는 다르다!\n",
    "isbn_top10user= []\n",
    "for i in range(0, 10):\n",
    "    cur_id = picked_id[i]\n",
    "    isbn_top10user.extend(ratings_20s.loc[ratings_20s.user_id == cur_id].ISBN)"
   ]
  },
  {
   "cell_type": "code",
   "execution_count": 52,
   "metadata": {},
   "outputs": [
    {
     "name": "stdout",
     "output_type": "stream",
     "text": [
      "5469    Manhattan fliegt.\n",
      "Name: title, dtype: object\n",
      "5853    Dark Horse\n",
      "Name: title, dtype: object\n",
      "Series([], Name: title, dtype: object)\n",
      "Series([], Name: title, dtype: object)\n",
      "79892    Nackt.\n",
      "Name: title, dtype: object\n",
      "79890    Die Kindheit eines Chefs. ErzÃ?Â¤hlungen.\n",
      "Name: title, dtype: object\n",
      "79889    Anatomie der menschlichen DestruktivitÃ?Â¤t\n",
      "Name: title, dtype: object\n",
      "17115    The Diary of an American Au Pair: A Novel\n",
      "Name: title, dtype: object\n",
      "556    The Cove\n",
      "Name: title, dtype: object\n",
      "34682    Malataverne\n",
      "Name: title, dtype: object\n",
      "150894    El Dragon Y LA Princesa\n",
      "Name: title, dtype: object\n",
      "150899    Narraciones Extraordinarias - 1: Seleccion\n",
      "Name: title, dtype: object\n",
      "Series([], Name: title, dtype: object)\n",
      "1106    She's Come Undone (Oprah's Book Club (Paperback))\n",
      "Name: title, dtype: object\n",
      "25303    On Having No Head: Zen and the Re-Discovery of...\n",
      "Name: title, dtype: object\n",
      "178822    \\Banjo\\\" Paterson's high country\"\n",
      "Name: title, dtype: object\n",
      "18670    The Chocolate War (Laurel Leaf Books)\n",
      "Name: title, dtype: object\n",
      "58752    Simple Justice: A Benjamin Justice Mystery (Be...\n",
      "Name: title, dtype: object\n",
      "43847    The Physician\n",
      "Name: title, dtype: object\n",
      "26    Wild Animus\n",
      "Name: title, dtype: object\n",
      "Series([], Name: title, dtype: object)\n",
      "25306    El Greco Malt Den Grossinquisi\n",
      "Name: title, dtype: object\n",
      "174829    Das liebe Geld.\n",
      "Name: title, dtype: object\n",
      "178713    Die Insel des vollkommenen GlÃ?Â¼cks.\n",
      "Name: title, dtype: object\n",
      "104085    Ibiza - Liebe inbegriffen.\n",
      "Name: title, dtype: object\n",
      "120379    Die Erfindung des Abschieds.\n",
      "Name: title, dtype: object\n",
      "44684    Niemand sieht dich, wenn du weinst.\n",
      "Name: title, dtype: object\n",
      "Series([], Name: title, dtype: object)\n",
      "143092    Die Umarmung des Todes.\n",
      "Name: title, dtype: object\n",
      "104089    Lebenslang ist nicht genug.\n",
      "Name: title, dtype: object\n",
      "45992    Der Campus.\n",
      "Name: title, dtype: object\n",
      "178781    Popcorn.\n",
      "Name: title, dtype: object\n",
      "104090    Die SchnÃ?Â¤ppchenjÃ?Â¤gerin.\n",
      "Name: title, dtype: object\n",
      "120378    Amandas Hochzeit.\n",
      "Name: title, dtype: object\n",
      "119841    Ich schlieÃ?Â?e mich selbst ein.\n",
      "Name: title, dtype: object\n",
      "78013    Ring.\n",
      "Name: title, dtype: object\n",
      "178825    HomosexualitÃ¤t des Mannes: Eine tiefenpsychol...\n",
      "Name: title, dtype: object\n",
      "55371    Maus 1. Mein Vater kotzt Geschichte aus. Die G...\n",
      "Name: title, dtype: object\n",
      "55369    Maus 2. Und hier begann mein UnglÃ?Â¼ck. Die G...\n",
      "Name: title, dtype: object\n",
      "178784    Mondscheintarif. Das Buch zum Film\n",
      "Name: title, dtype: object\n",
      "178790    Die Kalten Fusse Der Frauen\n",
      "Name: title, dtype: object\n",
      "178757    Ã?Â?ber das Fernsehen.\n",
      "Name: title, dtype: object\n",
      "Series([], Name: title, dtype: object)\n",
      "120380    Der Familienschandfleck.\n",
      "Name: title, dtype: object\n",
      "120376    Ein Hausfreund kommt selten allein.\n",
      "Name: title, dtype: object\n",
      "44669    Cassie.\n",
      "Name: title, dtype: object\n",
      "Series([], Name: title, dtype: object)\n",
      "Series([], Name: title, dtype: object)\n",
      "13389    Generation Golf: Eine Inspektion\n",
      "Name: title, dtype: object\n",
      "Series([], Name: title, dtype: object)\n",
      "Series([], Name: title, dtype: object)\n",
      "Series([], Name: title, dtype: object)\n",
      "4723    Disclosure\n",
      "Name: title, dtype: object\n",
      "65297    Are You the One for Me?: Knowing Who's Right a...\n",
      "Name: title, dtype: object\n",
      "56996    1001 Ways to Save Money ... and Still Have a D...\n",
      "Name: title, dtype: object\n"
     ]
    }
   ],
   "source": [
    "for i in range(len(isbn_top10user)):\n",
    "    cur_isbn = isbn_top10user[i]\n",
    "    print(books.loc[books.ISBN == cur_isbn].title)"
   ]
  },
  {
   "cell_type": "markdown",
   "metadata": {},
   "source": [
    "유저들간의 유사도만으로 비슷한 장르의 책을 추천해주지 않고 있음을 알 수 있다."
   ]
  },
  {
   "cell_type": "markdown",
   "metadata": {},
   "source": [
    "## 정리"
   ]
  },
  {
   "cell_type": "markdown",
   "metadata": {},
   "source": [
    "1. 데이터가 너무 커서 유저별로 연령대를 나누었다.  \n",
    "2. 유저들간의 유사도를 비교 후 가장 유사한 유저 10명을 추출하여, 그들이 읽은 책들을 몯 확인하였다.\n",
    "3. 그러나 책의 장르 등을 잘 반영하고 있지 않음을 알 수 있다.\n",
    "4. 따라서 책의 추천에 있어서 가장 좋은 방법은 유저가 평점을 매긴 책 중 평점이 높은 책의 저자가 쓴 다른 책을 추천해주는 것이다."
   ]
  },
  {
   "cell_type": "code",
   "execution_count": null,
   "metadata": {},
   "outputs": [],
   "source": []
  }
 ],
 "metadata": {
  "colab": {
   "collapsed_sections": [],
   "name": "Book_Recommendation.ipynb",
   "provenance": []
  },
  "kernelspec": {
   "display_name": "Python 3",
   "language": "python",
   "name": "python3"
  },
  "language_info": {
   "codemirror_mode": {
    "name": "ipython",
    "version": 3
   },
   "file_extension": ".py",
   "mimetype": "text/x-python",
   "name": "python",
   "nbconvert_exporter": "python",
   "pygments_lexer": "ipython3",
   "version": "3.8.8"
  }
 },
 "nbformat": 4,
 "nbformat_minor": 1
}
