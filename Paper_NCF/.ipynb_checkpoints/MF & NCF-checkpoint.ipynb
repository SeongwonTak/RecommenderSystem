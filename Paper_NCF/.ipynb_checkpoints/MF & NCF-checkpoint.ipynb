{
 "cells": [
  {
   "cell_type": "markdown",
   "id": "3440525b",
   "metadata": {},
   "source": [
    "# Neural Collaborative Filtering\n",
    "- Paper Review with Code\n",
    "- Comparision btw NCF and MF\n",
    "- 이를 토대로 실전 추천 프로젝트를 위한 코드 복습을 실시한다."
   ]
  },
  {
   "cell_type": "markdown",
   "id": "b18b78c6",
   "metadata": {},
   "source": [
    "## Matrix Factorization에 대한 복습"
   ]
  },
  {
   "cell_type": "markdown",
   "id": "098047b9",
   "metadata": {},
   "source": [
    "Latent Factor을 찾는 관점에 대해서도 바라볼 수 있으나, 여기서는 다음과 같이 진행하려고 한다."
   ]
  },
  {
   "cell_type": "markdown",
   "id": "fd4edcac",
   "metadata": {},
   "source": [
    "- Step 1 : Rating Matrix 를 입력 받은 후 전처리\n",
    "- Step 2 : SVD 알고리즘을 통한 행렬 분해, 절단 후 다시 재병합\n",
    "- Step 3 : 새롭게 생성된 행렬 pred-matrix와, 기존 rating matrix와의 error 계산"
   ]
  },
  {
   "cell_type": "markdown",
   "id": "a4356f88",
   "metadata": {},
   "source": [
    "물론, 단순히 k개의 ranking을 구하는 방법도 있겠지만 여기서는 전체에 대한 prediction을 실시하자."
   ]
  },
  {
   "cell_type": "markdown",
   "id": "4145a391",
   "metadata": {},
   "source": [
    "### 기존 Matrix Factorization의 한계점\n",
    "Matrix Factorization은 기본적으로 User와 item를 같은 latent space에 매핑하고, 이를 inner_product 를 활용하여 유사도를 구한다.\n",
    "이 때, 세로운 유저가 들어왔을때, user-item 에서의 유사도와 latent-space의 유사도가 역전될 수 있다.\n",
    "이의 역전 현상은 ranking-loss로 이어질 수 있다."
   ]
  },
  {
   "cell_type": "markdown",
   "id": "1a3dbb5b",
   "metadata": {},
   "source": [
    "### Review : SVD를 활용한 Matrix Factorizations"
   ]
  },
  {
   "cell_type": "code",
   "execution_count": 1,
   "id": "49724542",
   "metadata": {},
   "outputs": [],
   "source": [
    "import pandas as pd\n",
    "import numpy as np\n",
    "import scipy.sparse\n",
    "from sklearn.metrics import mean_squared_error"
   ]
  },
  {
   "cell_type": "code",
   "execution_count": 2,
   "id": "18a32293",
   "metadata": {},
   "outputs": [],
   "source": [
    "ratings = pd.read_csv('./ratings.csv')"
   ]
  },
  {
   "cell_type": "code",
   "execution_count": 3,
   "id": "bde403ef",
   "metadata": {},
   "outputs": [
    {
     "data": {
      "text/html": [
       "<div>\n",
       "<style scoped>\n",
       "    .dataframe tbody tr th:only-of-type {\n",
       "        vertical-align: middle;\n",
       "    }\n",
       "\n",
       "    .dataframe tbody tr th {\n",
       "        vertical-align: top;\n",
       "    }\n",
       "\n",
       "    .dataframe thead th {\n",
       "        text-align: right;\n",
       "    }\n",
       "</style>\n",
       "<table border=\"1\" class=\"dataframe\">\n",
       "  <thead>\n",
       "    <tr style=\"text-align: right;\">\n",
       "      <th></th>\n",
       "      <th>userId</th>\n",
       "      <th>movieId</th>\n",
       "      <th>rating</th>\n",
       "      <th>timestamp</th>\n",
       "    </tr>\n",
       "  </thead>\n",
       "  <tbody>\n",
       "    <tr>\n",
       "      <th>0</th>\n",
       "      <td>1</td>\n",
       "      <td>1</td>\n",
       "      <td>4.0</td>\n",
       "      <td>964982703</td>\n",
       "    </tr>\n",
       "    <tr>\n",
       "      <th>1</th>\n",
       "      <td>1</td>\n",
       "      <td>3</td>\n",
       "      <td>4.0</td>\n",
       "      <td>964981247</td>\n",
       "    </tr>\n",
       "    <tr>\n",
       "      <th>2</th>\n",
       "      <td>1</td>\n",
       "      <td>6</td>\n",
       "      <td>4.0</td>\n",
       "      <td>964982224</td>\n",
       "    </tr>\n",
       "    <tr>\n",
       "      <th>3</th>\n",
       "      <td>1</td>\n",
       "      <td>47</td>\n",
       "      <td>5.0</td>\n",
       "      <td>964983815</td>\n",
       "    </tr>\n",
       "    <tr>\n",
       "      <th>4</th>\n",
       "      <td>1</td>\n",
       "      <td>50</td>\n",
       "      <td>5.0</td>\n",
       "      <td>964982931</td>\n",
       "    </tr>\n",
       "    <tr>\n",
       "      <th>...</th>\n",
       "      <td>...</td>\n",
       "      <td>...</td>\n",
       "      <td>...</td>\n",
       "      <td>...</td>\n",
       "    </tr>\n",
       "    <tr>\n",
       "      <th>100831</th>\n",
       "      <td>610</td>\n",
       "      <td>166534</td>\n",
       "      <td>4.0</td>\n",
       "      <td>1493848402</td>\n",
       "    </tr>\n",
       "    <tr>\n",
       "      <th>100832</th>\n",
       "      <td>610</td>\n",
       "      <td>168248</td>\n",
       "      <td>5.0</td>\n",
       "      <td>1493850091</td>\n",
       "    </tr>\n",
       "    <tr>\n",
       "      <th>100833</th>\n",
       "      <td>610</td>\n",
       "      <td>168250</td>\n",
       "      <td>5.0</td>\n",
       "      <td>1494273047</td>\n",
       "    </tr>\n",
       "    <tr>\n",
       "      <th>100834</th>\n",
       "      <td>610</td>\n",
       "      <td>168252</td>\n",
       "      <td>5.0</td>\n",
       "      <td>1493846352</td>\n",
       "    </tr>\n",
       "    <tr>\n",
       "      <th>100835</th>\n",
       "      <td>610</td>\n",
       "      <td>170875</td>\n",
       "      <td>3.0</td>\n",
       "      <td>1493846415</td>\n",
       "    </tr>\n",
       "  </tbody>\n",
       "</table>\n",
       "<p>100836 rows × 4 columns</p>\n",
       "</div>"
      ],
      "text/plain": [
       "        userId  movieId  rating   timestamp\n",
       "0            1        1     4.0   964982703\n",
       "1            1        3     4.0   964981247\n",
       "2            1        6     4.0   964982224\n",
       "3            1       47     5.0   964983815\n",
       "4            1       50     5.0   964982931\n",
       "...        ...      ...     ...         ...\n",
       "100831     610   166534     4.0  1493848402\n",
       "100832     610   168248     5.0  1493850091\n",
       "100833     610   168250     5.0  1494273047\n",
       "100834     610   168252     5.0  1493846352\n",
       "100835     610   170875     3.0  1493846415\n",
       "\n",
       "[100836 rows x 4 columns]"
      ]
     },
     "execution_count": 3,
     "metadata": {},
     "output_type": "execute_result"
    }
   ],
   "source": [
    "ratings"
   ]
  },
  {
   "cell_type": "markdown",
   "id": "2d839878",
   "metadata": {},
   "source": [
    "여기서는 간략하게, svd를 바로 적용하려고 한다."
   ]
  },
  {
   "cell_type": "code",
   "execution_count": 4,
   "id": "695d4b68",
   "metadata": {},
   "outputs": [],
   "source": [
    "rating_mtx = pd.pivot_table(ratings,\n",
    "                            index = 'userId',\n",
    "                            columns = 'movieId',\n",
    "                            values = 'rating')"
   ]
  },
  {
   "cell_type": "code",
   "execution_count": 5,
   "id": "d268a6ee",
   "metadata": {},
   "outputs": [
    {
     "data": {
      "text/html": [
       "<div>\n",
       "<style scoped>\n",
       "    .dataframe tbody tr th:only-of-type {\n",
       "        vertical-align: middle;\n",
       "    }\n",
       "\n",
       "    .dataframe tbody tr th {\n",
       "        vertical-align: top;\n",
       "    }\n",
       "\n",
       "    .dataframe thead th {\n",
       "        text-align: right;\n",
       "    }\n",
       "</style>\n",
       "<table border=\"1\" class=\"dataframe\">\n",
       "  <thead>\n",
       "    <tr style=\"text-align: right;\">\n",
       "      <th>movieId</th>\n",
       "      <th>1</th>\n",
       "      <th>2</th>\n",
       "      <th>3</th>\n",
       "      <th>4</th>\n",
       "      <th>5</th>\n",
       "      <th>6</th>\n",
       "      <th>7</th>\n",
       "      <th>8</th>\n",
       "      <th>9</th>\n",
       "      <th>10</th>\n",
       "      <th>...</th>\n",
       "      <th>193565</th>\n",
       "      <th>193567</th>\n",
       "      <th>193571</th>\n",
       "      <th>193573</th>\n",
       "      <th>193579</th>\n",
       "      <th>193581</th>\n",
       "      <th>193583</th>\n",
       "      <th>193585</th>\n",
       "      <th>193587</th>\n",
       "      <th>193609</th>\n",
       "    </tr>\n",
       "    <tr>\n",
       "      <th>userId</th>\n",
       "      <th></th>\n",
       "      <th></th>\n",
       "      <th></th>\n",
       "      <th></th>\n",
       "      <th></th>\n",
       "      <th></th>\n",
       "      <th></th>\n",
       "      <th></th>\n",
       "      <th></th>\n",
       "      <th></th>\n",
       "      <th></th>\n",
       "      <th></th>\n",
       "      <th></th>\n",
       "      <th></th>\n",
       "      <th></th>\n",
       "      <th></th>\n",
       "      <th></th>\n",
       "      <th></th>\n",
       "      <th></th>\n",
       "      <th></th>\n",
       "      <th></th>\n",
       "    </tr>\n",
       "  </thead>\n",
       "  <tbody>\n",
       "    <tr>\n",
       "      <th>1</th>\n",
       "      <td>4.0</td>\n",
       "      <td>NaN</td>\n",
       "      <td>4.0</td>\n",
       "      <td>NaN</td>\n",
       "      <td>NaN</td>\n",
       "      <td>4.0</td>\n",
       "      <td>NaN</td>\n",
       "      <td>NaN</td>\n",
       "      <td>NaN</td>\n",
       "      <td>NaN</td>\n",
       "      <td>...</td>\n",
       "      <td>NaN</td>\n",
       "      <td>NaN</td>\n",
       "      <td>NaN</td>\n",
       "      <td>NaN</td>\n",
       "      <td>NaN</td>\n",
       "      <td>NaN</td>\n",
       "      <td>NaN</td>\n",
       "      <td>NaN</td>\n",
       "      <td>NaN</td>\n",
       "      <td>NaN</td>\n",
       "    </tr>\n",
       "    <tr>\n",
       "      <th>2</th>\n",
       "      <td>NaN</td>\n",
       "      <td>NaN</td>\n",
       "      <td>NaN</td>\n",
       "      <td>NaN</td>\n",
       "      <td>NaN</td>\n",
       "      <td>NaN</td>\n",
       "      <td>NaN</td>\n",
       "      <td>NaN</td>\n",
       "      <td>NaN</td>\n",
       "      <td>NaN</td>\n",
       "      <td>...</td>\n",
       "      <td>NaN</td>\n",
       "      <td>NaN</td>\n",
       "      <td>NaN</td>\n",
       "      <td>NaN</td>\n",
       "      <td>NaN</td>\n",
       "      <td>NaN</td>\n",
       "      <td>NaN</td>\n",
       "      <td>NaN</td>\n",
       "      <td>NaN</td>\n",
       "      <td>NaN</td>\n",
       "    </tr>\n",
       "    <tr>\n",
       "      <th>3</th>\n",
       "      <td>NaN</td>\n",
       "      <td>NaN</td>\n",
       "      <td>NaN</td>\n",
       "      <td>NaN</td>\n",
       "      <td>NaN</td>\n",
       "      <td>NaN</td>\n",
       "      <td>NaN</td>\n",
       "      <td>NaN</td>\n",
       "      <td>NaN</td>\n",
       "      <td>NaN</td>\n",
       "      <td>...</td>\n",
       "      <td>NaN</td>\n",
       "      <td>NaN</td>\n",
       "      <td>NaN</td>\n",
       "      <td>NaN</td>\n",
       "      <td>NaN</td>\n",
       "      <td>NaN</td>\n",
       "      <td>NaN</td>\n",
       "      <td>NaN</td>\n",
       "      <td>NaN</td>\n",
       "      <td>NaN</td>\n",
       "    </tr>\n",
       "    <tr>\n",
       "      <th>4</th>\n",
       "      <td>NaN</td>\n",
       "      <td>NaN</td>\n",
       "      <td>NaN</td>\n",
       "      <td>NaN</td>\n",
       "      <td>NaN</td>\n",
       "      <td>NaN</td>\n",
       "      <td>NaN</td>\n",
       "      <td>NaN</td>\n",
       "      <td>NaN</td>\n",
       "      <td>NaN</td>\n",
       "      <td>...</td>\n",
       "      <td>NaN</td>\n",
       "      <td>NaN</td>\n",
       "      <td>NaN</td>\n",
       "      <td>NaN</td>\n",
       "      <td>NaN</td>\n",
       "      <td>NaN</td>\n",
       "      <td>NaN</td>\n",
       "      <td>NaN</td>\n",
       "      <td>NaN</td>\n",
       "      <td>NaN</td>\n",
       "    </tr>\n",
       "    <tr>\n",
       "      <th>5</th>\n",
       "      <td>4.0</td>\n",
       "      <td>NaN</td>\n",
       "      <td>NaN</td>\n",
       "      <td>NaN</td>\n",
       "      <td>NaN</td>\n",
       "      <td>NaN</td>\n",
       "      <td>NaN</td>\n",
       "      <td>NaN</td>\n",
       "      <td>NaN</td>\n",
       "      <td>NaN</td>\n",
       "      <td>...</td>\n",
       "      <td>NaN</td>\n",
       "      <td>NaN</td>\n",
       "      <td>NaN</td>\n",
       "      <td>NaN</td>\n",
       "      <td>NaN</td>\n",
       "      <td>NaN</td>\n",
       "      <td>NaN</td>\n",
       "      <td>NaN</td>\n",
       "      <td>NaN</td>\n",
       "      <td>NaN</td>\n",
       "    </tr>\n",
       "    <tr>\n",
       "      <th>...</th>\n",
       "      <td>...</td>\n",
       "      <td>...</td>\n",
       "      <td>...</td>\n",
       "      <td>...</td>\n",
       "      <td>...</td>\n",
       "      <td>...</td>\n",
       "      <td>...</td>\n",
       "      <td>...</td>\n",
       "      <td>...</td>\n",
       "      <td>...</td>\n",
       "      <td>...</td>\n",
       "      <td>...</td>\n",
       "      <td>...</td>\n",
       "      <td>...</td>\n",
       "      <td>...</td>\n",
       "      <td>...</td>\n",
       "      <td>...</td>\n",
       "      <td>...</td>\n",
       "      <td>...</td>\n",
       "      <td>...</td>\n",
       "      <td>...</td>\n",
       "    </tr>\n",
       "    <tr>\n",
       "      <th>606</th>\n",
       "      <td>2.5</td>\n",
       "      <td>NaN</td>\n",
       "      <td>NaN</td>\n",
       "      <td>NaN</td>\n",
       "      <td>NaN</td>\n",
       "      <td>NaN</td>\n",
       "      <td>2.5</td>\n",
       "      <td>NaN</td>\n",
       "      <td>NaN</td>\n",
       "      <td>NaN</td>\n",
       "      <td>...</td>\n",
       "      <td>NaN</td>\n",
       "      <td>NaN</td>\n",
       "      <td>NaN</td>\n",
       "      <td>NaN</td>\n",
       "      <td>NaN</td>\n",
       "      <td>NaN</td>\n",
       "      <td>NaN</td>\n",
       "      <td>NaN</td>\n",
       "      <td>NaN</td>\n",
       "      <td>NaN</td>\n",
       "    </tr>\n",
       "    <tr>\n",
       "      <th>607</th>\n",
       "      <td>4.0</td>\n",
       "      <td>NaN</td>\n",
       "      <td>NaN</td>\n",
       "      <td>NaN</td>\n",
       "      <td>NaN</td>\n",
       "      <td>NaN</td>\n",
       "      <td>NaN</td>\n",
       "      <td>NaN</td>\n",
       "      <td>NaN</td>\n",
       "      <td>NaN</td>\n",
       "      <td>...</td>\n",
       "      <td>NaN</td>\n",
       "      <td>NaN</td>\n",
       "      <td>NaN</td>\n",
       "      <td>NaN</td>\n",
       "      <td>NaN</td>\n",
       "      <td>NaN</td>\n",
       "      <td>NaN</td>\n",
       "      <td>NaN</td>\n",
       "      <td>NaN</td>\n",
       "      <td>NaN</td>\n",
       "    </tr>\n",
       "    <tr>\n",
       "      <th>608</th>\n",
       "      <td>2.5</td>\n",
       "      <td>2.0</td>\n",
       "      <td>2.0</td>\n",
       "      <td>NaN</td>\n",
       "      <td>NaN</td>\n",
       "      <td>NaN</td>\n",
       "      <td>NaN</td>\n",
       "      <td>NaN</td>\n",
       "      <td>NaN</td>\n",
       "      <td>4.0</td>\n",
       "      <td>...</td>\n",
       "      <td>NaN</td>\n",
       "      <td>NaN</td>\n",
       "      <td>NaN</td>\n",
       "      <td>NaN</td>\n",
       "      <td>NaN</td>\n",
       "      <td>NaN</td>\n",
       "      <td>NaN</td>\n",
       "      <td>NaN</td>\n",
       "      <td>NaN</td>\n",
       "      <td>NaN</td>\n",
       "    </tr>\n",
       "    <tr>\n",
       "      <th>609</th>\n",
       "      <td>3.0</td>\n",
       "      <td>NaN</td>\n",
       "      <td>NaN</td>\n",
       "      <td>NaN</td>\n",
       "      <td>NaN</td>\n",
       "      <td>NaN</td>\n",
       "      <td>NaN</td>\n",
       "      <td>NaN</td>\n",
       "      <td>NaN</td>\n",
       "      <td>4.0</td>\n",
       "      <td>...</td>\n",
       "      <td>NaN</td>\n",
       "      <td>NaN</td>\n",
       "      <td>NaN</td>\n",
       "      <td>NaN</td>\n",
       "      <td>NaN</td>\n",
       "      <td>NaN</td>\n",
       "      <td>NaN</td>\n",
       "      <td>NaN</td>\n",
       "      <td>NaN</td>\n",
       "      <td>NaN</td>\n",
       "    </tr>\n",
       "    <tr>\n",
       "      <th>610</th>\n",
       "      <td>5.0</td>\n",
       "      <td>NaN</td>\n",
       "      <td>NaN</td>\n",
       "      <td>NaN</td>\n",
       "      <td>NaN</td>\n",
       "      <td>5.0</td>\n",
       "      <td>NaN</td>\n",
       "      <td>NaN</td>\n",
       "      <td>NaN</td>\n",
       "      <td>NaN</td>\n",
       "      <td>...</td>\n",
       "      <td>NaN</td>\n",
       "      <td>NaN</td>\n",
       "      <td>NaN</td>\n",
       "      <td>NaN</td>\n",
       "      <td>NaN</td>\n",
       "      <td>NaN</td>\n",
       "      <td>NaN</td>\n",
       "      <td>NaN</td>\n",
       "      <td>NaN</td>\n",
       "      <td>NaN</td>\n",
       "    </tr>\n",
       "  </tbody>\n",
       "</table>\n",
       "<p>610 rows × 9724 columns</p>\n",
       "</div>"
      ],
      "text/plain": [
       "movieId  1       2       3       4       5       6       7       8       \\\n",
       "userId                                                                    \n",
       "1           4.0     NaN     4.0     NaN     NaN     4.0     NaN     NaN   \n",
       "2           NaN     NaN     NaN     NaN     NaN     NaN     NaN     NaN   \n",
       "3           NaN     NaN     NaN     NaN     NaN     NaN     NaN     NaN   \n",
       "4           NaN     NaN     NaN     NaN     NaN     NaN     NaN     NaN   \n",
       "5           4.0     NaN     NaN     NaN     NaN     NaN     NaN     NaN   \n",
       "...         ...     ...     ...     ...     ...     ...     ...     ...   \n",
       "606         2.5     NaN     NaN     NaN     NaN     NaN     2.5     NaN   \n",
       "607         4.0     NaN     NaN     NaN     NaN     NaN     NaN     NaN   \n",
       "608         2.5     2.0     2.0     NaN     NaN     NaN     NaN     NaN   \n",
       "609         3.0     NaN     NaN     NaN     NaN     NaN     NaN     NaN   \n",
       "610         5.0     NaN     NaN     NaN     NaN     5.0     NaN     NaN   \n",
       "\n",
       "movieId  9       10      ...  193565  193567  193571  193573  193579  193581  \\\n",
       "userId                   ...                                                   \n",
       "1           NaN     NaN  ...     NaN     NaN     NaN     NaN     NaN     NaN   \n",
       "2           NaN     NaN  ...     NaN     NaN     NaN     NaN     NaN     NaN   \n",
       "3           NaN     NaN  ...     NaN     NaN     NaN     NaN     NaN     NaN   \n",
       "4           NaN     NaN  ...     NaN     NaN     NaN     NaN     NaN     NaN   \n",
       "5           NaN     NaN  ...     NaN     NaN     NaN     NaN     NaN     NaN   \n",
       "...         ...     ...  ...     ...     ...     ...     ...     ...     ...   \n",
       "606         NaN     NaN  ...     NaN     NaN     NaN     NaN     NaN     NaN   \n",
       "607         NaN     NaN  ...     NaN     NaN     NaN     NaN     NaN     NaN   \n",
       "608         NaN     4.0  ...     NaN     NaN     NaN     NaN     NaN     NaN   \n",
       "609         NaN     4.0  ...     NaN     NaN     NaN     NaN     NaN     NaN   \n",
       "610         NaN     NaN  ...     NaN     NaN     NaN     NaN     NaN     NaN   \n",
       "\n",
       "movieId  193583  193585  193587  193609  \n",
       "userId                                   \n",
       "1           NaN     NaN     NaN     NaN  \n",
       "2           NaN     NaN     NaN     NaN  \n",
       "3           NaN     NaN     NaN     NaN  \n",
       "4           NaN     NaN     NaN     NaN  \n",
       "5           NaN     NaN     NaN     NaN  \n",
       "...         ...     ...     ...     ...  \n",
       "606         NaN     NaN     NaN     NaN  \n",
       "607         NaN     NaN     NaN     NaN  \n",
       "608         NaN     NaN     NaN     NaN  \n",
       "609         NaN     NaN     NaN     NaN  \n",
       "610         NaN     NaN     NaN     NaN  \n",
       "\n",
       "[610 rows x 9724 columns]"
      ]
     },
     "execution_count": 5,
     "metadata": {},
     "output_type": "execute_result"
    }
   ],
   "source": [
    "rating_mtx"
   ]
  },
  {
   "cell_type": "markdown",
   "id": "914647fb",
   "metadata": {},
   "source": [
    "평점 기록이 없는 경우는 0점으로 채운다."
   ]
  },
  {
   "cell_type": "code",
   "execution_count": 6,
   "id": "f0f984e4",
   "metadata": {},
   "outputs": [],
   "source": [
    "rating_mtx_filled = rating_mtx.fillna(0).to_numpy()"
   ]
  },
  {
   "cell_type": "markdown",
   "id": "bc25acd0",
   "metadata": {},
   "source": [
    "scipy의 svds를 이용하자."
   ]
  },
  {
   "cell_type": "code",
   "execution_count": 7,
   "id": "10b2c318",
   "metadata": {},
   "outputs": [],
   "source": [
    "import scipy.sparse.linalg\n",
    "U, sigma, Vt = scipy.sparse.linalg.svds(rating_mtx_filled, k = 15)"
   ]
  },
  {
   "cell_type": "code",
   "execution_count": 8,
   "id": "47f5c860",
   "metadata": {},
   "outputs": [
    {
     "data": {
      "text/plain": [
       "(610, 15)"
      ]
     },
     "execution_count": 8,
     "metadata": {},
     "output_type": "execute_result"
    }
   ],
   "source": [
    "U.shape"
   ]
  },
  {
   "cell_type": "code",
   "execution_count": 9,
   "id": "3527e649",
   "metadata": {},
   "outputs": [
    {
     "data": {
      "text/plain": [
       "(15,)"
      ]
     },
     "execution_count": 9,
     "metadata": {},
     "output_type": "execute_result"
    }
   ],
   "source": [
    "sigma.shape"
   ]
  },
  {
   "cell_type": "code",
   "execution_count": 10,
   "id": "f702a94d",
   "metadata": {},
   "outputs": [
    {
     "data": {
      "text/plain": [
       "(15, 9724)"
      ]
     },
     "execution_count": 10,
     "metadata": {},
     "output_type": "execute_result"
    }
   ],
   "source": [
    "Vt.shape"
   ]
  },
  {
   "cell_type": "markdown",
   "id": "2a048c3f",
   "metadata": {},
   "source": [
    "여기서는, 전체 rating에 대한 예측을 확인하고자 한다.\n",
    "따라서, 이를 위해서 sigma를 15 * 15 형태의 대각 행렬로 변경하고 U.shape * sigma * Vt를 계산해야 한다."
   ]
  },
  {
   "cell_type": "code",
   "execution_count": 11,
   "id": "b71ce1a8",
   "metadata": {},
   "outputs": [],
   "source": [
    "sigma = np.diag(sigma)"
   ]
  },
  {
   "cell_type": "code",
   "execution_count": 12,
   "id": "810c3f11",
   "metadata": {},
   "outputs": [],
   "source": [
    "pred = U @ sigma @ Vt"
   ]
  },
  {
   "cell_type": "code",
   "execution_count": 13,
   "id": "6d3d9e9d",
   "metadata": {
    "scrolled": true
   },
   "outputs": [
    {
     "data": {
      "text/plain": [
       "array([[ 2.48313562e+00,  1.35885909e+00,  1.10637440e+00, ...,\n",
       "        -3.49319264e-03, -3.49319264e-03, -2.47602496e-02],\n",
       "       [ 4.22544294e-02,  1.03805400e-02,  3.20579362e-02, ...,\n",
       "         9.95659214e-03,  9.95659214e-03,  1.31613972e-02],\n",
       "       [ 1.38016774e-02,  2.86395855e-02,  3.19043736e-02, ...,\n",
       "         9.42462913e-04,  9.42462913e-04, -1.75137511e-03],\n",
       "       ...,\n",
       "       [ 2.17103278e+00,  1.92389820e+00,  1.71015130e+00, ...,\n",
       "        -5.55603096e-02, -5.55603096e-02, -9.01278061e-03],\n",
       "       [ 8.38486877e-01,  6.37344297e-01,  3.19950208e-01, ...,\n",
       "         4.27295325e-04,  4.27295325e-04,  1.65256080e-03],\n",
       "       [ 5.86830717e+00, -1.00804430e-01, -1.49624909e+00, ...,\n",
       "         2.66883644e-02,  2.66883644e-02,  8.02635842e-02]])"
      ]
     },
     "execution_count": 13,
     "metadata": {},
     "output_type": "execute_result"
    }
   ],
   "source": [
    "pred"
   ]
  },
  {
   "cell_type": "code",
   "execution_count": 14,
   "id": "1ed201b3",
   "metadata": {},
   "outputs": [
    {
     "data": {
      "text/plain": [
       "False"
      ]
     },
     "execution_count": 14,
     "metadata": {},
     "output_type": "execute_result"
    }
   ],
   "source": [
    "not np.isnan(rating_mtx.iloc[0, 1])"
   ]
  },
  {
   "cell_type": "code",
   "execution_count": 15,
   "id": "538244a2",
   "metadata": {},
   "outputs": [],
   "source": [
    "def get_error_with_nan(answer, pred):\n",
    "    error = 0\n",
    "    count = 0\n",
    "    for i in range(len(pred)):\n",
    "        for j in range(len(pred[0])):\n",
    "            if not np.isnan(answer.iloc[i, j]):\n",
    "                count += 1\n",
    "                error += (answer.iloc[i, j] - pred[i][j]) ** 2\n",
    "    return (error ** 0.5) / count"
   ]
  },
  {
   "cell_type": "code",
   "execution_count": 16,
   "id": "d4762d50",
   "metadata": {},
   "outputs": [
    {
     "data": {
      "text/plain": [
       "0.00770260978376579"
      ]
     },
     "execution_count": 16,
     "metadata": {},
     "output_type": "execute_result"
    }
   ],
   "source": [
    "get_error_with_nan(rating_mtx, pred)"
   ]
  },
  {
   "cell_type": "markdown",
   "id": "331d38b7",
   "metadata": {},
   "source": [
    "이제 해당 결과와, NCF의 결과를 비교하고자 한다."
   ]
  },
  {
   "cell_type": "markdown",
   "id": "66761c34",
   "metadata": {},
   "source": [
    "### Neural Collaborative Filtering의 기본 구조\n",
    "Neural Collaborative Filtering의 기본 구조는\n",
    "- GMF : (latent feature interaction)\n",
    "  - latent factor의 \n",
    "- MLP : (data에서 interaction을 배우기 위해 non-linear kernel 도입)\n",
    "  - latent factor들을 합쳐 multi-layer perceptron을 활용한다.a\n",
    "\n",
    "기본적으로는 이들을 별도로 embedding으로 학습 후, last hidden layer로 concating하는 구조를 취한다."
   ]
  },
  {
   "cell_type": "markdown",
   "id": "c179b3bf",
   "metadata": {},
   "source": [
    "다음의 내용을 바탕으로 실습하였습니다.  \n",
    "https://doheelab.github.io/recommender-system/ncf_mlp/  "
   ]
  },
  {
   "cell_type": "code",
   "execution_count": 17,
   "id": "cdab4c09",
   "metadata": {},
   "outputs": [],
   "source": [
    "import torch\n",
    "import torch.nn as nn\n",
    "import torch.optim as optim\n",
    "import torch.utils.data as data"
   ]
  },
  {
   "cell_type": "markdown",
   "id": "dbd9a297",
   "metadata": {},
   "source": [
    "우선, 전체적 학습과정을 만들기 전에 모델에 대한 이해를 하기 위해 GMF, NCF가 어떻게 구현되는지부터 알아보려고 한다."
   ]
  },
  {
   "cell_type": "markdown",
   "id": "56f441f1",
   "metadata": {},
   "source": [
    "### GMF 구조의 확인"
   ]
  },
  {
   "cell_type": "code",
   "execution_count": 18,
   "id": "cc778b79",
   "metadata": {},
   "outputs": [],
   "source": [
    "class GMF(nn.Module):\n",
    "    def __init__(self, user_num, item_num, factor_num, num_layers, dropout, model):\n",
    "        super(GMF, self).__init__()\n",
    "        self.dropout = dropout\n",
    "        self.model = model\n",
    "        \n",
    "        # embedding을 위한 저장공간 확보 (user 수, item 수 만큼)\n",
    "        self.embed_user_GMF = nn.Embedding(user_num, factor_num)\n",
    "        self.embed_item_GMF = nn.Embedding(item_num, factor_num)\n",
    "        predict_size = factor_num\n",
    "        \n",
    "        # 최종 예측 layer\n",
    "        self.predict_layer = nn.Linear(predict_size, 1)\n",
    "        self._init_weight_()\n",
    "        \n",
    "    # 가중치 초기화 함수\n",
    "    def _init_weight_(self):\n",
    "        # weight 초기화 (user emb, item emb, 최종 예측층에 대한 초기화)\n",
    "        nn.init.normal_(self.embed_user_GMF.weight, std=0.01)\n",
    "        nn.init.normal_(self.embed_item_GMF.weight, std=0.01)\n",
    "        nn.init.kaiming_uniform_(self.predict_layer.weight, a=1, nonlinearity=\"sigmoid\")\n",
    "\n",
    "        # bias 초기화\n",
    "        for m in self.modules():\n",
    "            if isinstance(m, nn.Linear) and m.bias is not None:\n",
    "                m.bias.data.zero_()\n",
    "                \n",
    "    # 실제 층을 쌓는 과정\n",
    "    def forward(self, user, item):\n",
    "        embed_user_GMF = self.embed_user_GMF(user)\n",
    "        embed_item_GMF = self.embed_user_GMF(item)\n",
    "        # GMF의 경우는 elementwise product\n",
    "        # 이 때, latent_factor 차원 만큼 가지게 된다.\n",
    "        output_GMF = embed_user_GMF * embed_item_GMF\n",
    "        concat = output_GMF\n",
    "        \n",
    "        prediction = self.predict_layer(concat)\n",
    "        return prediction "
   ]
  },
  {
   "cell_type": "markdown",
   "id": "21aead96",
   "metadata": {},
   "source": [
    "GMF의 가장 큰 특징은 user 정보와 item 정보를 latent vector로 만든 후에, 이를 elementwise하게 곱하는 것이 주가 된다."
   ]
  },
  {
   "cell_type": "markdown",
   "id": "e8ad42bd",
   "metadata": {},
   "source": [
    "### MLP 구조의 확인"
   ]
  },
  {
   "cell_type": "code",
   "execution_count": 20,
   "id": "53ed88e4",
   "metadata": {},
   "outputs": [],
   "source": [
    "class NCF(nn.Module):\n",
    "    def __init__(\n",
    "        self, user_num, item_num, factor_num, num_layers, dropout, model,\n",
    "    ):\n",
    "        super(NCF, self).__init__()\n",
    "        self.dropout = dropout\n",
    "        self.model = model\n",
    "\n",
    "        # 임베딩 저장공간 확보; num_embeddings, embedding_dim\n",
    "        self.embed_user_MLP = nn.Embedding(\n",
    "            user_num, factor_num * (2 ** (num_layers - 1))\n",
    "        )\n",
    "        self.embed_item_MLP = nn.Embedding(\n",
    "            item_num, factor_num * (2 ** (num_layers - 1))\n",
    "        )\n",
    "\n",
    "        MLP_modules = []\n",
    "        for i in range(num_layers):\n",
    "            input_size = factor_num * (2 ** (num_layers - i))\n",
    "            MLP_modules.append(nn.Dropout(p=self.dropout))\n",
    "            MLP_modules.append(nn.Linear(input_size, input_size // 2))\n",
    "            MLP_modules.append(nn.ReLU())\n",
    "        self.MLP_layers = nn.Sequential(*MLP_modules)\n",
    "        predict_size = factor_num\n",
    "        self.predict_layer = nn.Linear(predict_size, 1)\n",
    "        self._init_weight_()\n",
    "\n",
    "    def _init_weight_(self):\n",
    "        # weight 초기화\n",
    "        nn.init.normal_(self.embed_user_MLP.weight, std=0.01)\n",
    "        nn.init.normal_(self.embed_item_MLP.weight, std=0.01)\n",
    "        for m in self.MLP_layers:\n",
    "            if isinstance(m, nn.Linear):\n",
    "                nn.init.xavier_uniform_(m.weight)\n",
    "        nn.init.kaiming_uniform_(self.predict_layer.weight, a=1, nonlinearity=\"sigmoid\")\n",
    "\n",
    "        # bias 초기화\n",
    "        for m in self.modules():\n",
    "            if isinstance(m, nn.Linear) and m.bias is not None:\n",
    "                m.bias.data.zero_()\n",
    "\n",
    "    def forward(self, user, item):\n",
    "        embed_user_MLP = self.embed_user_MLP(user)\n",
    "        embed_item_MLP = self.embed_item_MLP(item)\n",
    "        interaction = torch.cat((embed_user_MLP, embed_item_MLP), -1)\n",
    "        output_MLP = self.MLP_layers(interaction)\n",
    "        concat = output_MLP\n",
    "\n",
    "        prediction = self.predict_layer(concat)\n",
    "        return prediction.view(-1)"
   ]
  },
  {
   "cell_type": "code",
   "execution_count": null,
   "id": "41f80d33",
   "metadata": {},
   "outputs": [],
   "source": []
  }
 ],
 "metadata": {
  "kernelspec": {
   "display_name": "Python 3",
   "language": "python",
   "name": "python3"
  },
  "language_info": {
   "codemirror_mode": {
    "name": "ipython",
    "version": 3
   },
   "file_extension": ".py",
   "mimetype": "text/x-python",
   "name": "python",
   "nbconvert_exporter": "python",
   "pygments_lexer": "ipython3",
   "version": "3.8.8"
  }
 },
 "nbformat": 4,
 "nbformat_minor": 5
}
