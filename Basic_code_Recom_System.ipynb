{
  "nbformat": 4,
  "nbformat_minor": 0,
  "metadata": {
    "colab": {
      "name": "Basic_code_Recom_System.ipynb",
      "provenance": [],
      "collapsed_sections": [],
      "toc_visible": true,
      "mount_file_id": "1IimSBmb_mnCoUlaNFMpNXGagNk9WA7uD",
      "authorship_tag": "ABX9TyM4TL/LBIJEwo8dk7RFMNKE",
      "include_colab_link": true
    },
    "kernelspec": {
      "name": "python3",
      "display_name": "Python 3"
    }
  },
  "cells": [
    {
      "cell_type": "markdown",
      "metadata": {
        "id": "view-in-github",
        "colab_type": "text"
      },
      "source": [
        "<a href=\"https://colab.research.google.com/github/SeongwonTak/RecommenderSystem/blob/main/Basic_code_Recom_System.ipynb\" target=\"_parent\"><img src=\"https://colab.research.google.com/assets/colab-badge.svg\" alt=\"Open In Colab\"/></a>"
      ]
    },
    {
      "cell_type": "markdown",
      "metadata": {
        "id": "UitOYzymY8qq"
      },
      "source": [
        "# Recommender System 기초 구현"
      ]
    },
    {
      "cell_type": "markdown",
      "metadata": {
        "id": "fhMuTmtKZBEK"
      },
      "source": [
        "## 기본 준비 및 전처리"
      ]
    },
    {
      "cell_type": "markdown",
      "metadata": {
        "id": "x6GOuQ2xC4tH"
      },
      "source": [
        "https://lsjsj92.tistory.com/565 를 따라하며 구현을 실습한다.\r\n",
        "\r\n",
        "물론, 거기에 직접 일부 부분 / 추가로 실험하고 싶은 부분은 추가 실험을 해 보기로 한다.\r\n",
        "\r\n",
        "예를 들어, neighborhood를 확인할 때, 다른 metric을 부여한다던가."
      ]
    },
    {
      "cell_type": "markdown",
      "metadata": {
        "id": "lym2O8GbItNE"
      },
      "source": [
        "사용하는 Dataset은 영화 관련 Dataset이다.\r\n",
        "https://www.kaggle.com/rounakbanik/the-movies-dataset"
      ]
    },
    {
      "cell_type": "code",
      "metadata": {
        "id": "N6iAPBeCJaZr"
      },
      "source": [
        "# 패키지를 먼저 import 한다. 추가로 필요한 패키지는 그때그때.\r\n",
        "import numpy as np\r\n",
        "import pandas as pd\r\n",
        "import sklearn as sk"
      ],
      "execution_count": 1,
      "outputs": []
    },
    {
      "cell_type": "code",
      "metadata": {
        "id": "SAVh-pTA8h2C",
        "colab": {
          "base_uri": "https://localhost:8080/"
        },
        "outputId": "684edb0d-3ebe-4b50-8b23-9d41e09ef06f"
      },
      "source": [
        "# Step 0. 데이터를 불러온다.\r\n",
        "movie_data = pd.read_csv('/content/drive/MyDrive/Colab Notebooks/RecoExample/movies_metadata.csv')"
      ],
      "execution_count": 57,
      "outputs": [
        {
          "output_type": "stream",
          "text": [
            "/usr/local/lib/python3.7/dist-packages/IPython/core/interactiveshell.py:2718: DtypeWarning: Columns (10) have mixed types.Specify dtype option on import or set low_memory=False.\n",
            "  interactivity=interactivity, compiler=compiler, result=result)\n"
          ],
          "name": "stderr"
        }
      ]
    },
    {
      "cell_type": "code",
      "metadata": {
        "colab": {
          "base_uri": "https://localhost:8080/",
          "height": 518
        },
        "id": "uLjAnR_2St1d",
        "outputId": "3bcf1126-85ef-4abd-8c3e-895611e258e1"
      },
      "source": [
        "movie_data.tail(5)"
      ],
      "execution_count": 58,
      "outputs": [
        {
          "output_type": "execute_result",
          "data": {
            "text/html": [
              "<div>\n",
              "<style scoped>\n",
              "    .dataframe tbody tr th:only-of-type {\n",
              "        vertical-align: middle;\n",
              "    }\n",
              "\n",
              "    .dataframe tbody tr th {\n",
              "        vertical-align: top;\n",
              "    }\n",
              "\n",
              "    .dataframe thead th {\n",
              "        text-align: right;\n",
              "    }\n",
              "</style>\n",
              "<table border=\"1\" class=\"dataframe\">\n",
              "  <thead>\n",
              "    <tr style=\"text-align: right;\">\n",
              "      <th></th>\n",
              "      <th>adult</th>\n",
              "      <th>belongs_to_collection</th>\n",
              "      <th>budget</th>\n",
              "      <th>genres</th>\n",
              "      <th>homepage</th>\n",
              "      <th>id</th>\n",
              "      <th>imdb_id</th>\n",
              "      <th>original_language</th>\n",
              "      <th>original_title</th>\n",
              "      <th>overview</th>\n",
              "      <th>popularity</th>\n",
              "      <th>poster_path</th>\n",
              "      <th>production_companies</th>\n",
              "      <th>production_countries</th>\n",
              "      <th>release_date</th>\n",
              "      <th>revenue</th>\n",
              "      <th>runtime</th>\n",
              "      <th>spoken_languages</th>\n",
              "      <th>status</th>\n",
              "      <th>tagline</th>\n",
              "      <th>title</th>\n",
              "      <th>video</th>\n",
              "      <th>vote_average</th>\n",
              "      <th>vote_count</th>\n",
              "    </tr>\n",
              "  </thead>\n",
              "  <tbody>\n",
              "    <tr>\n",
              "      <th>45461</th>\n",
              "      <td>False</td>\n",
              "      <td>NaN</td>\n",
              "      <td>0</td>\n",
              "      <td>[{'id': 18, 'name': 'Drama'}, {'id': 10751, 'n...</td>\n",
              "      <td>http://www.imdb.com/title/tt6209470/</td>\n",
              "      <td>439050</td>\n",
              "      <td>tt6209470</td>\n",
              "      <td>fa</td>\n",
              "      <td>رگ خواب</td>\n",
              "      <td>Rising and falling between a man and woman.</td>\n",
              "      <td>0.072051</td>\n",
              "      <td>/jldsYflnId4tTWPx8es3uzsB1I8.jpg</td>\n",
              "      <td>[]</td>\n",
              "      <td>[{'iso_3166_1': 'IR', 'name': 'Iran'}]</td>\n",
              "      <td>NaN</td>\n",
              "      <td>0.0</td>\n",
              "      <td>90.0</td>\n",
              "      <td>[{'iso_639_1': 'fa', 'name': 'فارسی'}]</td>\n",
              "      <td>Released</td>\n",
              "      <td>Rising and falling between a man and woman</td>\n",
              "      <td>Subdue</td>\n",
              "      <td>False</td>\n",
              "      <td>4.0</td>\n",
              "      <td>1.0</td>\n",
              "    </tr>\n",
              "    <tr>\n",
              "      <th>45462</th>\n",
              "      <td>False</td>\n",
              "      <td>NaN</td>\n",
              "      <td>0</td>\n",
              "      <td>[{'id': 18, 'name': 'Drama'}]</td>\n",
              "      <td>NaN</td>\n",
              "      <td>111109</td>\n",
              "      <td>tt2028550</td>\n",
              "      <td>tl</td>\n",
              "      <td>Siglo ng Pagluluwal</td>\n",
              "      <td>An artist struggles to finish his work while a...</td>\n",
              "      <td>0.178241</td>\n",
              "      <td>/xZkmxsNmYXJbKVsTRLLx3pqGHx7.jpg</td>\n",
              "      <td>[{'name': 'Sine Olivia', 'id': 19653}]</td>\n",
              "      <td>[{'iso_3166_1': 'PH', 'name': 'Philippines'}]</td>\n",
              "      <td>2011-11-17</td>\n",
              "      <td>0.0</td>\n",
              "      <td>360.0</td>\n",
              "      <td>[{'iso_639_1': 'tl', 'name': ''}]</td>\n",
              "      <td>Released</td>\n",
              "      <td>NaN</td>\n",
              "      <td>Century of Birthing</td>\n",
              "      <td>False</td>\n",
              "      <td>9.0</td>\n",
              "      <td>3.0</td>\n",
              "    </tr>\n",
              "    <tr>\n",
              "      <th>45463</th>\n",
              "      <td>False</td>\n",
              "      <td>NaN</td>\n",
              "      <td>0</td>\n",
              "      <td>[{'id': 28, 'name': 'Action'}, {'id': 18, 'nam...</td>\n",
              "      <td>NaN</td>\n",
              "      <td>67758</td>\n",
              "      <td>tt0303758</td>\n",
              "      <td>en</td>\n",
              "      <td>Betrayal</td>\n",
              "      <td>When one of her hits goes wrong, a professiona...</td>\n",
              "      <td>0.903007</td>\n",
              "      <td>/d5bX92nDsISNhu3ZT69uHwmfCGw.jpg</td>\n",
              "      <td>[{'name': 'American World Pictures', 'id': 6165}]</td>\n",
              "      <td>[{'iso_3166_1': 'US', 'name': 'United States o...</td>\n",
              "      <td>2003-08-01</td>\n",
              "      <td>0.0</td>\n",
              "      <td>90.0</td>\n",
              "      <td>[{'iso_639_1': 'en', 'name': 'English'}]</td>\n",
              "      <td>Released</td>\n",
              "      <td>A deadly game of wits.</td>\n",
              "      <td>Betrayal</td>\n",
              "      <td>False</td>\n",
              "      <td>3.8</td>\n",
              "      <td>6.0</td>\n",
              "    </tr>\n",
              "    <tr>\n",
              "      <th>45464</th>\n",
              "      <td>False</td>\n",
              "      <td>NaN</td>\n",
              "      <td>0</td>\n",
              "      <td>[]</td>\n",
              "      <td>NaN</td>\n",
              "      <td>227506</td>\n",
              "      <td>tt0008536</td>\n",
              "      <td>en</td>\n",
              "      <td>Satana likuyushchiy</td>\n",
              "      <td>In a small town live two brothers, one a minis...</td>\n",
              "      <td>0.003503</td>\n",
              "      <td>/aorBPO7ak8e8iJKT5OcqYxU3jlK.jpg</td>\n",
              "      <td>[{'name': 'Yermoliev', 'id': 88753}]</td>\n",
              "      <td>[{'iso_3166_1': 'RU', 'name': 'Russia'}]</td>\n",
              "      <td>1917-10-21</td>\n",
              "      <td>0.0</td>\n",
              "      <td>87.0</td>\n",
              "      <td>[]</td>\n",
              "      <td>Released</td>\n",
              "      <td>NaN</td>\n",
              "      <td>Satan Triumphant</td>\n",
              "      <td>False</td>\n",
              "      <td>0.0</td>\n",
              "      <td>0.0</td>\n",
              "    </tr>\n",
              "    <tr>\n",
              "      <th>45465</th>\n",
              "      <td>False</td>\n",
              "      <td>NaN</td>\n",
              "      <td>0</td>\n",
              "      <td>[]</td>\n",
              "      <td>NaN</td>\n",
              "      <td>461257</td>\n",
              "      <td>tt6980792</td>\n",
              "      <td>en</td>\n",
              "      <td>Queerama</td>\n",
              "      <td>50 years after decriminalisation of homosexual...</td>\n",
              "      <td>0.163015</td>\n",
              "      <td>/s5UkZt6NTsrS7ZF0Rh8nzupRlIU.jpg</td>\n",
              "      <td>[]</td>\n",
              "      <td>[{'iso_3166_1': 'GB', 'name': 'United Kingdom'}]</td>\n",
              "      <td>2017-06-09</td>\n",
              "      <td>0.0</td>\n",
              "      <td>75.0</td>\n",
              "      <td>[{'iso_639_1': 'en', 'name': 'English'}]</td>\n",
              "      <td>Released</td>\n",
              "      <td>NaN</td>\n",
              "      <td>Queerama</td>\n",
              "      <td>False</td>\n",
              "      <td>0.0</td>\n",
              "      <td>0.0</td>\n",
              "    </tr>\n",
              "  </tbody>\n",
              "</table>\n",
              "</div>"
            ],
            "text/plain": [
              "       adult belongs_to_collection budget  ...  video vote_average vote_count\n",
              "45461  False                   NaN      0  ...  False          4.0        1.0\n",
              "45462  False                   NaN      0  ...  False          9.0        3.0\n",
              "45463  False                   NaN      0  ...  False          3.8        6.0\n",
              "45464  False                   NaN      0  ...  False          0.0        0.0\n",
              "45465  False                   NaN      0  ...  False          0.0        0.0\n",
              "\n",
              "[5 rows x 24 columns]"
            ]
          },
          "metadata": {
            "tags": []
          },
          "execution_count": 58
        }
      ]
    },
    {
      "cell_type": "markdown",
      "metadata": {
        "id": "IUxcKUPIKj9J"
      },
      "source": [
        "우선은 영화의 Meta data들부터 분석하려고 한다.\r\n",
        "여러 변수들이 있는데, 사용할 변수를 추리기 위해 우선은 변수들을 정리한다.\r\n",
        "- id : 영화 번호\r\n",
        "- title : 영화 제목\r\n",
        "- genres : 영화 장르\r\n",
        "- popularity : 영화 인기도\r\n",
        "- vote_average : 평균 평점\r\n",
        "- vote_count : 평점 매긴 사람의 수\r\n",
        "- release_date : 영화 발매일\r\n",
        "- adult : 말 그대로, 성인영화인가?\r\n",
        "- overview : 개요\r\n",
        "\r\n",
        "이정도만 사용하려고 한다."
      ]
    },
    {
      "cell_type": "code",
      "metadata": {
        "id": "3G7_9W3TWjeM"
      },
      "source": [
        "movie_data = movie_data[['id','title', 'genres', 'popularity', 'vote_average', 'vote_count', 'release_date', 'adult', 'overview']]"
      ],
      "execution_count": 59,
      "outputs": []
    },
    {
      "cell_type": "markdown",
      "metadata": {
        "id": "CkwvFmDsY3EE"
      },
      "source": [
        "각 항목들에 대해서 전처리를 실시해야 한다."
      ]
    },
    {
      "cell_type": "code",
      "metadata": {
        "colab": {
          "base_uri": "https://localhost:8080/",
          "height": 195
        },
        "id": "1RviObBye3DP",
        "outputId": "2a2cae84-668f-469f-b209-6b7d9570c571"
      },
      "source": [
        "movie_data.tail(5)"
      ],
      "execution_count": 60,
      "outputs": [
        {
          "output_type": "execute_result",
          "data": {
            "text/html": [
              "<div>\n",
              "<style scoped>\n",
              "    .dataframe tbody tr th:only-of-type {\n",
              "        vertical-align: middle;\n",
              "    }\n",
              "\n",
              "    .dataframe tbody tr th {\n",
              "        vertical-align: top;\n",
              "    }\n",
              "\n",
              "    .dataframe thead th {\n",
              "        text-align: right;\n",
              "    }\n",
              "</style>\n",
              "<table border=\"1\" class=\"dataframe\">\n",
              "  <thead>\n",
              "    <tr style=\"text-align: right;\">\n",
              "      <th></th>\n",
              "      <th>id</th>\n",
              "      <th>title</th>\n",
              "      <th>genres</th>\n",
              "      <th>popularity</th>\n",
              "      <th>vote_average</th>\n",
              "      <th>vote_count</th>\n",
              "      <th>release_date</th>\n",
              "      <th>adult</th>\n",
              "      <th>overview</th>\n",
              "    </tr>\n",
              "  </thead>\n",
              "  <tbody>\n",
              "    <tr>\n",
              "      <th>45461</th>\n",
              "      <td>439050</td>\n",
              "      <td>Subdue</td>\n",
              "      <td>[{'id': 18, 'name': 'Drama'}, {'id': 10751, 'n...</td>\n",
              "      <td>0.072051</td>\n",
              "      <td>4.0</td>\n",
              "      <td>1.0</td>\n",
              "      <td>NaN</td>\n",
              "      <td>False</td>\n",
              "      <td>Rising and falling between a man and woman.</td>\n",
              "    </tr>\n",
              "    <tr>\n",
              "      <th>45462</th>\n",
              "      <td>111109</td>\n",
              "      <td>Century of Birthing</td>\n",
              "      <td>[{'id': 18, 'name': 'Drama'}]</td>\n",
              "      <td>0.178241</td>\n",
              "      <td>9.0</td>\n",
              "      <td>3.0</td>\n",
              "      <td>2011-11-17</td>\n",
              "      <td>False</td>\n",
              "      <td>An artist struggles to finish his work while a...</td>\n",
              "    </tr>\n",
              "    <tr>\n",
              "      <th>45463</th>\n",
              "      <td>67758</td>\n",
              "      <td>Betrayal</td>\n",
              "      <td>[{'id': 28, 'name': 'Action'}, {'id': 18, 'nam...</td>\n",
              "      <td>0.903007</td>\n",
              "      <td>3.8</td>\n",
              "      <td>6.0</td>\n",
              "      <td>2003-08-01</td>\n",
              "      <td>False</td>\n",
              "      <td>When one of her hits goes wrong, a professiona...</td>\n",
              "    </tr>\n",
              "    <tr>\n",
              "      <th>45464</th>\n",
              "      <td>227506</td>\n",
              "      <td>Satan Triumphant</td>\n",
              "      <td>[]</td>\n",
              "      <td>0.003503</td>\n",
              "      <td>0.0</td>\n",
              "      <td>0.0</td>\n",
              "      <td>1917-10-21</td>\n",
              "      <td>False</td>\n",
              "      <td>In a small town live two brothers, one a minis...</td>\n",
              "    </tr>\n",
              "    <tr>\n",
              "      <th>45465</th>\n",
              "      <td>461257</td>\n",
              "      <td>Queerama</td>\n",
              "      <td>[]</td>\n",
              "      <td>0.163015</td>\n",
              "      <td>0.0</td>\n",
              "      <td>0.0</td>\n",
              "      <td>2017-06-09</td>\n",
              "      <td>False</td>\n",
              "      <td>50 years after decriminalisation of homosexual...</td>\n",
              "    </tr>\n",
              "  </tbody>\n",
              "</table>\n",
              "</div>"
            ],
            "text/plain": [
              "           id  ...                                           overview\n",
              "45461  439050  ...        Rising and falling between a man and woman.\n",
              "45462  111109  ...  An artist struggles to finish his work while a...\n",
              "45463   67758  ...  When one of her hits goes wrong, a professiona...\n",
              "45464  227506  ...  In a small town live two brothers, one a minis...\n",
              "45465  461257  ...  50 years after decriminalisation of homosexual...\n",
              "\n",
              "[5 rows x 9 columns]"
            ]
          },
          "metadata": {
            "tags": []
          },
          "execution_count": 60
        }
      ]
    },
    {
      "cell_type": "markdown",
      "metadata": {
        "id": "-vlXZmuKfuJF"
      },
      "source": [
        "장르를 의미있게 활용하기 위해,keyword를 별도로 부른 후 keyword를 movie_data와 연결하려고 한다."
      ]
    },
    {
      "cell_type": "code",
      "metadata": {
        "id": "xS3RGmpHfsZl"
      },
      "source": [
        "keywords = pd.read_csv('/content/drive/MyDrive/Colab Notebooks/RecoExample/keywords.csv')"
      ],
      "execution_count": 61,
      "outputs": []
    },
    {
      "cell_type": "code",
      "metadata": {
        "colab": {
          "base_uri": "https://localhost:8080/",
          "height": 195
        },
        "id": "QUa9_Fv9UE69",
        "outputId": "d013db44-710d-4bd2-f0d2-0c90f2451649"
      },
      "source": [
        "keywords.tail()"
      ],
      "execution_count": 62,
      "outputs": [
        {
          "output_type": "execute_result",
          "data": {
            "text/html": [
              "<div>\n",
              "<style scoped>\n",
              "    .dataframe tbody tr th:only-of-type {\n",
              "        vertical-align: middle;\n",
              "    }\n",
              "\n",
              "    .dataframe tbody tr th {\n",
              "        vertical-align: top;\n",
              "    }\n",
              "\n",
              "    .dataframe thead th {\n",
              "        text-align: right;\n",
              "    }\n",
              "</style>\n",
              "<table border=\"1\" class=\"dataframe\">\n",
              "  <thead>\n",
              "    <tr style=\"text-align: right;\">\n",
              "      <th></th>\n",
              "      <th>id</th>\n",
              "      <th>keywords</th>\n",
              "    </tr>\n",
              "  </thead>\n",
              "  <tbody>\n",
              "    <tr>\n",
              "      <th>46414</th>\n",
              "      <td>439050</td>\n",
              "      <td>[{'id': 10703, 'name': 'tragic love'}]</td>\n",
              "    </tr>\n",
              "    <tr>\n",
              "      <th>46415</th>\n",
              "      <td>111109</td>\n",
              "      <td>[{'id': 2679, 'name': 'artist'}, {'id': 14531,...</td>\n",
              "    </tr>\n",
              "    <tr>\n",
              "      <th>46416</th>\n",
              "      <td>67758</td>\n",
              "      <td>[]</td>\n",
              "    </tr>\n",
              "    <tr>\n",
              "      <th>46417</th>\n",
              "      <td>227506</td>\n",
              "      <td>[]</td>\n",
              "    </tr>\n",
              "    <tr>\n",
              "      <th>46418</th>\n",
              "      <td>461257</td>\n",
              "      <td>[]</td>\n",
              "    </tr>\n",
              "  </tbody>\n",
              "</table>\n",
              "</div>"
            ],
            "text/plain": [
              "           id                                           keywords\n",
              "46414  439050             [{'id': 10703, 'name': 'tragic love'}]\n",
              "46415  111109  [{'id': 2679, 'name': 'artist'}, {'id': 14531,...\n",
              "46416   67758                                                 []\n",
              "46417  227506                                                 []\n",
              "46418  461257                                                 []"
            ]
          },
          "metadata": {
            "tags": []
          },
          "execution_count": 62
        }
      ]
    },
    {
      "cell_type": "code",
      "metadata": {
        "id": "f2jS_gwKYsGo"
      },
      "source": [
        "# 타입을 통일시켜서 붙일 것이다.\r\n",
        "# 후에 문자열 전처리 도구를 사용할것이기에, string 변경.\r\n",
        "movie_data.id = movie_data.id.astype(str)\r\n",
        "keywords.id = keywords.id.astype(str)\r\n",
        "movie_combined = pd.merge(movie_data, keywords)"
      ],
      "execution_count": 63,
      "outputs": []
    },
    {
      "cell_type": "code",
      "metadata": {
        "colab": {
          "base_uri": "https://localhost:8080/",
          "height": 279
        },
        "id": "fGYfCQgVZozP",
        "outputId": "ab4cfed4-72d1-4b53-aeb8-5e4f8f2a6ebd"
      },
      "source": [
        "movie_combined.tail()"
      ],
      "execution_count": 64,
      "outputs": [
        {
          "output_type": "execute_result",
          "data": {
            "text/html": [
              "<div>\n",
              "<style scoped>\n",
              "    .dataframe tbody tr th:only-of-type {\n",
              "        vertical-align: middle;\n",
              "    }\n",
              "\n",
              "    .dataframe tbody tr th {\n",
              "        vertical-align: top;\n",
              "    }\n",
              "\n",
              "    .dataframe thead th {\n",
              "        text-align: right;\n",
              "    }\n",
              "</style>\n",
              "<table border=\"1\" class=\"dataframe\">\n",
              "  <thead>\n",
              "    <tr style=\"text-align: right;\">\n",
              "      <th></th>\n",
              "      <th>id</th>\n",
              "      <th>title</th>\n",
              "      <th>genres</th>\n",
              "      <th>popularity</th>\n",
              "      <th>vote_average</th>\n",
              "      <th>vote_count</th>\n",
              "      <th>release_date</th>\n",
              "      <th>adult</th>\n",
              "      <th>overview</th>\n",
              "      <th>keywords</th>\n",
              "    </tr>\n",
              "  </thead>\n",
              "  <tbody>\n",
              "    <tr>\n",
              "      <th>46477</th>\n",
              "      <td>439050</td>\n",
              "      <td>Subdue</td>\n",
              "      <td>[{'id': 18, 'name': 'Drama'}, {'id': 10751, 'n...</td>\n",
              "      <td>0.072051</td>\n",
              "      <td>4.0</td>\n",
              "      <td>1.0</td>\n",
              "      <td>NaN</td>\n",
              "      <td>False</td>\n",
              "      <td>Rising and falling between a man and woman.</td>\n",
              "      <td>[{'id': 10703, 'name': 'tragic love'}]</td>\n",
              "    </tr>\n",
              "    <tr>\n",
              "      <th>46478</th>\n",
              "      <td>111109</td>\n",
              "      <td>Century of Birthing</td>\n",
              "      <td>[{'id': 18, 'name': 'Drama'}]</td>\n",
              "      <td>0.178241</td>\n",
              "      <td>9.0</td>\n",
              "      <td>3.0</td>\n",
              "      <td>2011-11-17</td>\n",
              "      <td>False</td>\n",
              "      <td>An artist struggles to finish his work while a...</td>\n",
              "      <td>[{'id': 2679, 'name': 'artist'}, {'id': 14531,...</td>\n",
              "    </tr>\n",
              "    <tr>\n",
              "      <th>46479</th>\n",
              "      <td>67758</td>\n",
              "      <td>Betrayal</td>\n",
              "      <td>[{'id': 28, 'name': 'Action'}, {'id': 18, 'nam...</td>\n",
              "      <td>0.903007</td>\n",
              "      <td>3.8</td>\n",
              "      <td>6.0</td>\n",
              "      <td>2003-08-01</td>\n",
              "      <td>False</td>\n",
              "      <td>When one of her hits goes wrong, a professiona...</td>\n",
              "      <td>[]</td>\n",
              "    </tr>\n",
              "    <tr>\n",
              "      <th>46480</th>\n",
              "      <td>227506</td>\n",
              "      <td>Satan Triumphant</td>\n",
              "      <td>[]</td>\n",
              "      <td>0.003503</td>\n",
              "      <td>0.0</td>\n",
              "      <td>0.0</td>\n",
              "      <td>1917-10-21</td>\n",
              "      <td>False</td>\n",
              "      <td>In a small town live two brothers, one a minis...</td>\n",
              "      <td>[]</td>\n",
              "    </tr>\n",
              "    <tr>\n",
              "      <th>46481</th>\n",
              "      <td>461257</td>\n",
              "      <td>Queerama</td>\n",
              "      <td>[]</td>\n",
              "      <td>0.163015</td>\n",
              "      <td>0.0</td>\n",
              "      <td>0.0</td>\n",
              "      <td>2017-06-09</td>\n",
              "      <td>False</td>\n",
              "      <td>50 years after decriminalisation of homosexual...</td>\n",
              "      <td>[]</td>\n",
              "    </tr>\n",
              "  </tbody>\n",
              "</table>\n",
              "</div>"
            ],
            "text/plain": [
              "           id  ...                                           keywords\n",
              "46477  439050  ...             [{'id': 10703, 'name': 'tragic love'}]\n",
              "46478  111109  ...  [{'id': 2679, 'name': 'artist'}, {'id': 14531,...\n",
              "46479   67758  ...                                                 []\n",
              "46480  227506  ...                                                 []\n",
              "46481  461257  ...                                                 []\n",
              "\n",
              "[5 rows x 10 columns]"
            ]
          },
          "metadata": {
            "tags": []
          },
          "execution_count": 64
        }
      ]
    },
    {
      "cell_type": "markdown",
      "metadata": {
        "id": "-kVR_yoqaEmb"
      },
      "source": [
        "우선 먼저 결측치부터 정리하려고 한다."
      ]
    },
    {
      "cell_type": "code",
      "metadata": {
        "colab": {
          "base_uri": "https://localhost:8080/"
        },
        "id": "OA_R3jDvk6Xb",
        "outputId": "55633322-ac5c-424a-f1f0-42584c7acc72"
      },
      "source": [
        "movie_combined.isnull().sum()"
      ],
      "execution_count": null,
      "outputs": [
        {
          "output_type": "execute_result",
          "data": {
            "text/plain": [
              "id                0\n",
              "genres            0\n",
              "popularity        4\n",
              "vote_average      4\n",
              "vote_count        4\n",
              "release_date     88\n",
              "adult             0\n",
              "overview        995\n",
              "keywords          0\n",
              "dtype: int64"
            ]
          },
          "metadata": {
            "tags": []
          },
          "execution_count": 8
        }
      ]
    },
    {
      "cell_type": "code",
      "metadata": {
        "id": "foJKGjVknSMb"
      },
      "source": [
        "movie_combined = movie_combined.dropna(axis=0, how='any')"
      ],
      "execution_count": 65,
      "outputs": []
    },
    {
      "cell_type": "code",
      "metadata": {
        "colab": {
          "base_uri": "https://localhost:8080/",
          "height": 518
        },
        "id": "zEu5i_c-n71z",
        "outputId": "6a5a9a1b-2127-4718-98de-36b6ad34f0ac"
      },
      "source": [
        "movie_combined.tail()"
      ],
      "execution_count": null,
      "outputs": [
        {
          "output_type": "execute_result",
          "data": {
            "text/html": [
              "<div>\n",
              "<style scoped>\n",
              "    .dataframe tbody tr th:only-of-type {\n",
              "        vertical-align: middle;\n",
              "    }\n",
              "\n",
              "    .dataframe tbody tr th {\n",
              "        vertical-align: top;\n",
              "    }\n",
              "\n",
              "    .dataframe thead th {\n",
              "        text-align: right;\n",
              "    }\n",
              "</style>\n",
              "<table border=\"1\" class=\"dataframe\">\n",
              "  <thead>\n",
              "    <tr style=\"text-align: right;\">\n",
              "      <th></th>\n",
              "      <th>id</th>\n",
              "      <th>genres</th>\n",
              "      <th>popularity</th>\n",
              "      <th>vote_average</th>\n",
              "      <th>vote_count</th>\n",
              "      <th>release_date</th>\n",
              "      <th>adult</th>\n",
              "      <th>overview</th>\n",
              "      <th>keywords</th>\n",
              "    </tr>\n",
              "  </thead>\n",
              "  <tbody>\n",
              "    <tr>\n",
              "      <th>46476</th>\n",
              "      <td>30840</td>\n",
              "      <td>[{'id': 18, 'name': 'Drama'}, {'id': 28, 'name...</td>\n",
              "      <td>5.683753</td>\n",
              "      <td>5.7</td>\n",
              "      <td>26.0</td>\n",
              "      <td>1991-05-13</td>\n",
              "      <td>False</td>\n",
              "      <td>Yet another version of the classic epic, with ...</td>\n",
              "      <td>[]</td>\n",
              "    </tr>\n",
              "    <tr>\n",
              "      <th>46478</th>\n",
              "      <td>111109</td>\n",
              "      <td>[{'id': 18, 'name': 'Drama'}]</td>\n",
              "      <td>0.178241</td>\n",
              "      <td>9.0</td>\n",
              "      <td>3.0</td>\n",
              "      <td>2011-11-17</td>\n",
              "      <td>False</td>\n",
              "      <td>An artist struggles to finish his work while a...</td>\n",
              "      <td>[{'id': 2679, 'name': 'artist'}, {'id': 14531,...</td>\n",
              "    </tr>\n",
              "    <tr>\n",
              "      <th>46479</th>\n",
              "      <td>67758</td>\n",
              "      <td>[{'id': 28, 'name': 'Action'}, {'id': 18, 'nam...</td>\n",
              "      <td>0.903007</td>\n",
              "      <td>3.8</td>\n",
              "      <td>6.0</td>\n",
              "      <td>2003-08-01</td>\n",
              "      <td>False</td>\n",
              "      <td>When one of her hits goes wrong, a professiona...</td>\n",
              "      <td>[]</td>\n",
              "    </tr>\n",
              "    <tr>\n",
              "      <th>46480</th>\n",
              "      <td>227506</td>\n",
              "      <td>[]</td>\n",
              "      <td>0.003503</td>\n",
              "      <td>0.0</td>\n",
              "      <td>0.0</td>\n",
              "      <td>1917-10-21</td>\n",
              "      <td>False</td>\n",
              "      <td>In a small town live two brothers, one a minis...</td>\n",
              "      <td>[]</td>\n",
              "    </tr>\n",
              "    <tr>\n",
              "      <th>46481</th>\n",
              "      <td>461257</td>\n",
              "      <td>[]</td>\n",
              "      <td>0.163015</td>\n",
              "      <td>0.0</td>\n",
              "      <td>0.0</td>\n",
              "      <td>2017-06-09</td>\n",
              "      <td>False</td>\n",
              "      <td>50 years after decriminalisation of homosexual...</td>\n",
              "      <td>[]</td>\n",
              "    </tr>\n",
              "  </tbody>\n",
              "</table>\n",
              "</div>"
            ],
            "text/plain": [
              "           id  ...                                           keywords\n",
              "46476   30840  ...                                                 []\n",
              "46478  111109  ...  [{'id': 2679, 'name': 'artist'}, {'id': 14531,...\n",
              "46479   67758  ...                                                 []\n",
              "46480  227506  ...                                                 []\n",
              "46481  461257  ...                                                 []\n",
              "\n",
              "[5 rows x 9 columns]"
            ]
          },
          "metadata": {
            "tags": []
          },
          "execution_count": 10
        }
      ]
    },
    {
      "cell_type": "markdown",
      "metadata": {
        "id": "0t0GShPn19it"
      },
      "source": [
        "Index가 꼬여 있으면 영 좋지 않다. index를 정리해주자."
      ]
    },
    {
      "cell_type": "code",
      "metadata": {
        "id": "JIAxvW5fosP6"
      },
      "source": [
        "movie_combined.reset_index(inplace = True, drop = True)"
      ],
      "execution_count": 66,
      "outputs": []
    },
    {
      "cell_type": "code",
      "metadata": {
        "colab": {
          "base_uri": "https://localhost:8080/",
          "height": 518
        },
        "id": "zyvVLY7Eo8aa",
        "outputId": "03bba9b3-0344-497f-93ce-92ea59c255a4"
      },
      "source": [
        "movie_combined.tail()"
      ],
      "execution_count": null,
      "outputs": [
        {
          "output_type": "execute_result",
          "data": {
            "text/html": [
              "<div>\n",
              "<style scoped>\n",
              "    .dataframe tbody tr th:only-of-type {\n",
              "        vertical-align: middle;\n",
              "    }\n",
              "\n",
              "    .dataframe tbody tr th {\n",
              "        vertical-align: top;\n",
              "    }\n",
              "\n",
              "    .dataframe thead th {\n",
              "        text-align: right;\n",
              "    }\n",
              "</style>\n",
              "<table border=\"1\" class=\"dataframe\">\n",
              "  <thead>\n",
              "    <tr style=\"text-align: right;\">\n",
              "      <th></th>\n",
              "      <th>id</th>\n",
              "      <th>genres</th>\n",
              "      <th>popularity</th>\n",
              "      <th>vote_average</th>\n",
              "      <th>vote_count</th>\n",
              "      <th>release_date</th>\n",
              "      <th>adult</th>\n",
              "      <th>overview</th>\n",
              "      <th>keywords</th>\n",
              "    </tr>\n",
              "  </thead>\n",
              "  <tbody>\n",
              "    <tr>\n",
              "      <th>45407</th>\n",
              "      <td>30840</td>\n",
              "      <td>[{'id': 18, 'name': 'Drama'}, {'id': 28, 'name...</td>\n",
              "      <td>5.683753</td>\n",
              "      <td>5.7</td>\n",
              "      <td>26.0</td>\n",
              "      <td>1991-05-13</td>\n",
              "      <td>False</td>\n",
              "      <td>Yet another version of the classic epic, with ...</td>\n",
              "      <td>[]</td>\n",
              "    </tr>\n",
              "    <tr>\n",
              "      <th>45408</th>\n",
              "      <td>111109</td>\n",
              "      <td>[{'id': 18, 'name': 'Drama'}]</td>\n",
              "      <td>0.178241</td>\n",
              "      <td>9.0</td>\n",
              "      <td>3.0</td>\n",
              "      <td>2011-11-17</td>\n",
              "      <td>False</td>\n",
              "      <td>An artist struggles to finish his work while a...</td>\n",
              "      <td>[{'id': 2679, 'name': 'artist'}, {'id': 14531,...</td>\n",
              "    </tr>\n",
              "    <tr>\n",
              "      <th>45409</th>\n",
              "      <td>67758</td>\n",
              "      <td>[{'id': 28, 'name': 'Action'}, {'id': 18, 'nam...</td>\n",
              "      <td>0.903007</td>\n",
              "      <td>3.8</td>\n",
              "      <td>6.0</td>\n",
              "      <td>2003-08-01</td>\n",
              "      <td>False</td>\n",
              "      <td>When one of her hits goes wrong, a professiona...</td>\n",
              "      <td>[]</td>\n",
              "    </tr>\n",
              "    <tr>\n",
              "      <th>45410</th>\n",
              "      <td>227506</td>\n",
              "      <td>[]</td>\n",
              "      <td>0.003503</td>\n",
              "      <td>0.0</td>\n",
              "      <td>0.0</td>\n",
              "      <td>1917-10-21</td>\n",
              "      <td>False</td>\n",
              "      <td>In a small town live two brothers, one a minis...</td>\n",
              "      <td>[]</td>\n",
              "    </tr>\n",
              "    <tr>\n",
              "      <th>45411</th>\n",
              "      <td>461257</td>\n",
              "      <td>[]</td>\n",
              "      <td>0.163015</td>\n",
              "      <td>0.0</td>\n",
              "      <td>0.0</td>\n",
              "      <td>2017-06-09</td>\n",
              "      <td>False</td>\n",
              "      <td>50 years after decriminalisation of homosexual...</td>\n",
              "      <td>[]</td>\n",
              "    </tr>\n",
              "  </tbody>\n",
              "</table>\n",
              "</div>"
            ],
            "text/plain": [
              "           id  ...                                           keywords\n",
              "45407   30840  ...                                                 []\n",
              "45408  111109  ...  [{'id': 2679, 'name': 'artist'}, {'id': 14531,...\n",
              "45409   67758  ...                                                 []\n",
              "45410  227506  ...                                                 []\n",
              "45411  461257  ...                                                 []\n",
              "\n",
              "[5 rows x 9 columns]"
            ]
          },
          "metadata": {
            "tags": []
          },
          "execution_count": 12
        }
      ]
    },
    {
      "cell_type": "markdown",
      "metadata": {
        "id": "j4-YF3VKn7Pz"
      },
      "source": [
        "또한 다음 데이터들도 버려야 할 것이다.\r\n",
        "- genres가 없는 데이터들\r\n",
        "- vote_count가 0인 것들(... 왜 있어?)\r\n",
        "- keywords가 없는 것들"
      ]
    },
    {
      "cell_type": "code",
      "metadata": {
        "id": "one58aPQ1xCL"
      },
      "source": [
        "# 사고대비\r\n",
        "movie_backup = movie_combined.copy()"
      ],
      "execution_count": 67,
      "outputs": []
    },
    {
      "cell_type": "code",
      "metadata": {
        "colab": {
          "base_uri": "https://localhost:8080/"
        },
        "id": "qRiF-zKX4eWU",
        "outputId": "1cdc5dd0-e2a8-4405-be18-0d088d9a3efc"
      },
      "source": [
        "movie_backup.dtypes"
      ],
      "execution_count": null,
      "outputs": [
        {
          "output_type": "execute_result",
          "data": {
            "text/plain": [
              "id               object\n",
              "genres           object\n",
              "popularity       object\n",
              "vote_average    float64\n",
              "vote_count      float64\n",
              "release_date     object\n",
              "adult            object\n",
              "overview         object\n",
              "keywords         object\n",
              "dtype: object"
            ]
          },
          "metadata": {
            "tags": []
          },
          "execution_count": 39
        }
      ]
    },
    {
      "cell_type": "code",
      "metadata": {
        "id": "Fk41uIS22Jbs"
      },
      "source": [
        "movie_backup = movie_backup.loc[movie_backup['vote_count']>0,:]"
      ],
      "execution_count": 68,
      "outputs": []
    },
    {
      "cell_type": "code",
      "metadata": {
        "id": "aATWmUbQ3BoZ"
      },
      "source": [
        "movie_backup = movie_backup.loc[movie_backup['keywords'] != '[]',:]\r\n",
        "movie_backup = movie_backup.loc[movie_backup['genres'] != '[]',:]"
      ],
      "execution_count": 69,
      "outputs": []
    },
    {
      "cell_type": "code",
      "metadata": {
        "colab": {
          "base_uri": "https://localhost:8080/",
          "height": 570
        },
        "id": "JMi4Wrk9Krim",
        "outputId": "a2a0ede7-5198-4153-cbad-df1317a2ae02"
      },
      "source": [
        "movie_backup"
      ],
      "execution_count": 11,
      "outputs": [
        {
          "output_type": "execute_result",
          "data": {
            "text/html": [
              "<div>\n",
              "<style scoped>\n",
              "    .dataframe tbody tr th:only-of-type {\n",
              "        vertical-align: middle;\n",
              "    }\n",
              "\n",
              "    .dataframe tbody tr th {\n",
              "        vertical-align: top;\n",
              "    }\n",
              "\n",
              "    .dataframe thead th {\n",
              "        text-align: right;\n",
              "    }\n",
              "</style>\n",
              "<table border=\"1\" class=\"dataframe\">\n",
              "  <thead>\n",
              "    <tr style=\"text-align: right;\">\n",
              "      <th></th>\n",
              "      <th>id</th>\n",
              "      <th>genres</th>\n",
              "      <th>popularity</th>\n",
              "      <th>vote_average</th>\n",
              "      <th>vote_count</th>\n",
              "      <th>release_date</th>\n",
              "      <th>adult</th>\n",
              "      <th>overview</th>\n",
              "      <th>keywords</th>\n",
              "    </tr>\n",
              "  </thead>\n",
              "  <tbody>\n",
              "    <tr>\n",
              "      <th>0</th>\n",
              "      <td>862</td>\n",
              "      <td>[{'id': 16, 'name': 'Animation'}, {'id': 35, '...</td>\n",
              "      <td>21.9469</td>\n",
              "      <td>7.7</td>\n",
              "      <td>5415.0</td>\n",
              "      <td>1995-10-30</td>\n",
              "      <td>False</td>\n",
              "      <td>Led by Woody, Andy's toys live happily in his ...</td>\n",
              "      <td>[{'id': 931, 'name': 'jealousy'}, {'id': 4290,...</td>\n",
              "    </tr>\n",
              "    <tr>\n",
              "      <th>1</th>\n",
              "      <td>8844</td>\n",
              "      <td>[{'id': 12, 'name': 'Adventure'}, {'id': 14, '...</td>\n",
              "      <td>17.0155</td>\n",
              "      <td>6.9</td>\n",
              "      <td>2413.0</td>\n",
              "      <td>1995-12-15</td>\n",
              "      <td>False</td>\n",
              "      <td>When siblings Judy and Peter discover an encha...</td>\n",
              "      <td>[{'id': 10090, 'name': 'board game'}, {'id': 1...</td>\n",
              "    </tr>\n",
              "    <tr>\n",
              "      <th>2</th>\n",
              "      <td>15602</td>\n",
              "      <td>[{'id': 10749, 'name': 'Romance'}, {'id': 35, ...</td>\n",
              "      <td>11.7129</td>\n",
              "      <td>6.5</td>\n",
              "      <td>92.0</td>\n",
              "      <td>1995-12-22</td>\n",
              "      <td>False</td>\n",
              "      <td>A family wedding reignites the ancient feud be...</td>\n",
              "      <td>[{'id': 1495, 'name': 'fishing'}, {'id': 12392...</td>\n",
              "    </tr>\n",
              "    <tr>\n",
              "      <th>3</th>\n",
              "      <td>31357</td>\n",
              "      <td>[{'id': 35, 'name': 'Comedy'}, {'id': 18, 'nam...</td>\n",
              "      <td>3.85949</td>\n",
              "      <td>6.1</td>\n",
              "      <td>34.0</td>\n",
              "      <td>1995-12-22</td>\n",
              "      <td>False</td>\n",
              "      <td>Cheated on, mistreated and stepped on, the wom...</td>\n",
              "      <td>[{'id': 818, 'name': 'based on novel'}, {'id':...</td>\n",
              "    </tr>\n",
              "    <tr>\n",
              "      <th>4</th>\n",
              "      <td>11862</td>\n",
              "      <td>[{'id': 35, 'name': 'Comedy'}]</td>\n",
              "      <td>8.38752</td>\n",
              "      <td>5.7</td>\n",
              "      <td>173.0</td>\n",
              "      <td>1995-02-10</td>\n",
              "      <td>False</td>\n",
              "      <td>Just when George Banks has recovered from his ...</td>\n",
              "      <td>[{'id': 1009, 'name': 'baby'}, {'id': 1599, 'n...</td>\n",
              "    </tr>\n",
              "    <tr>\n",
              "      <th>...</th>\n",
              "      <td>...</td>\n",
              "      <td>...</td>\n",
              "      <td>...</td>\n",
              "      <td>...</td>\n",
              "      <td>...</td>\n",
              "      <td>...</td>\n",
              "      <td>...</td>\n",
              "      <td>...</td>\n",
              "      <td>...</td>\n",
              "    </tr>\n",
              "    <tr>\n",
              "      <th>45400</th>\n",
              "      <td>404604</td>\n",
              "      <td>[{'id': 80, 'name': 'Crime'}, {'id': 18, 'name...</td>\n",
              "      <td>1.559596</td>\n",
              "      <td>6.6</td>\n",
              "      <td>14.0</td>\n",
              "      <td>2017-07-07</td>\n",
              "      <td>False</td>\n",
              "      <td>The bliss of a biology teacher’s family life i...</td>\n",
              "      <td>[{'id': 155794, 'name': 'physical abuse'}, {'i...</td>\n",
              "    </tr>\n",
              "    <tr>\n",
              "      <th>45403</th>\n",
              "      <td>84419</td>\n",
              "      <td>[{'id': 27, 'name': 'Horror'}, {'id': 9648, 'n...</td>\n",
              "      <td>0.222814</td>\n",
              "      <td>6.3</td>\n",
              "      <td>8.0</td>\n",
              "      <td>1946-03-29</td>\n",
              "      <td>False</td>\n",
              "      <td>An unsuccessful sculptor saves a madman named ...</td>\n",
              "      <td>[{'id': 9748, 'name': 'revenge'}, {'id': 9826,...</td>\n",
              "    </tr>\n",
              "    <tr>\n",
              "      <th>45404</th>\n",
              "      <td>390959</td>\n",
              "      <td>[{'id': 9648, 'name': 'Mystery'}, {'id': 27, '...</td>\n",
              "      <td>0.076061</td>\n",
              "      <td>7.0</td>\n",
              "      <td>2.0</td>\n",
              "      <td>2000-10-22</td>\n",
              "      <td>False</td>\n",
              "      <td>In this true-crime documentary, we delve into ...</td>\n",
              "      <td>[{'id': 224180, 'name': 'blair witch'}]</td>\n",
              "    </tr>\n",
              "    <tr>\n",
              "      <th>45405</th>\n",
              "      <td>289923</td>\n",
              "      <td>[{'id': 27, 'name': 'Horror'}]</td>\n",
              "      <td>0.38645</td>\n",
              "      <td>7.0</td>\n",
              "      <td>1.0</td>\n",
              "      <td>2000-10-03</td>\n",
              "      <td>False</td>\n",
              "      <td>A film archivist revisits the story of Rustin ...</td>\n",
              "      <td>[{'id': 616, 'name': 'witch'}, {'id': 2035, 'n...</td>\n",
              "    </tr>\n",
              "    <tr>\n",
              "      <th>45408</th>\n",
              "      <td>111109</td>\n",
              "      <td>[{'id': 18, 'name': 'Drama'}]</td>\n",
              "      <td>0.178241</td>\n",
              "      <td>9.0</td>\n",
              "      <td>3.0</td>\n",
              "      <td>2011-11-17</td>\n",
              "      <td>False</td>\n",
              "      <td>An artist struggles to finish his work while a...</td>\n",
              "      <td>[{'id': 2679, 'name': 'artist'}, {'id': 14531,...</td>\n",
              "    </tr>\n",
              "  </tbody>\n",
              "</table>\n",
              "<p>29902 rows × 9 columns</p>\n",
              "</div>"
            ],
            "text/plain": [
              "           id  ...                                           keywords\n",
              "0         862  ...  [{'id': 931, 'name': 'jealousy'}, {'id': 4290,...\n",
              "1        8844  ...  [{'id': 10090, 'name': 'board game'}, {'id': 1...\n",
              "2       15602  ...  [{'id': 1495, 'name': 'fishing'}, {'id': 12392...\n",
              "3       31357  ...  [{'id': 818, 'name': 'based on novel'}, {'id':...\n",
              "4       11862  ...  [{'id': 1009, 'name': 'baby'}, {'id': 1599, 'n...\n",
              "...       ...  ...                                                ...\n",
              "45400  404604  ...  [{'id': 155794, 'name': 'physical abuse'}, {'i...\n",
              "45403   84419  ...  [{'id': 9748, 'name': 'revenge'}, {'id': 9826,...\n",
              "45404  390959  ...            [{'id': 224180, 'name': 'blair witch'}]\n",
              "45405  289923  ...  [{'id': 616, 'name': 'witch'}, {'id': 2035, 'n...\n",
              "45408  111109  ...  [{'id': 2679, 'name': 'artist'}, {'id': 14531,...\n",
              "\n",
              "[29902 rows x 9 columns]"
            ]
          },
          "metadata": {
            "tags": []
          },
          "execution_count": 11
        }
      ]
    },
    {
      "cell_type": "code",
      "metadata": {
        "id": "PFGHcAP7Kmru"
      },
      "source": [
        "movie_combined = movie_backup\r\n",
        "movie_combined.reset_index(inplace = True, drop = True)"
      ],
      "execution_count": 70,
      "outputs": []
    },
    {
      "cell_type": "markdown",
      "metadata": {
        "id": "ASBTS5IX2qny"
      },
      "source": [
        "위의 과정에서 부딪힌 문제 상황은 다음과 같다\r\n",
        "- genres와 keywords를 list화 시켜야 한다.\r\n",
        "ast 패키지의 literal_eval을 활용할 수 있다."
      ]
    },
    {
      "cell_type": "code",
      "metadata": {
        "id": "IibX5keeYLKa"
      },
      "source": [
        "import ast\r\n",
        "movie_combined['genres'] = movie_combined['genres'].apply(ast.literal_eval)"
      ],
      "execution_count": 71,
      "outputs": []
    },
    {
      "cell_type": "code",
      "metadata": {
        "id": "sb4vYbcvYlHy"
      },
      "source": [
        "movie_combined['keywords'] = movie_combined['keywords'].apply(ast.literal_eval)"
      ],
      "execution_count": 72,
      "outputs": []
    },
    {
      "cell_type": "markdown",
      "metadata": {
        "id": "c3v5rma3YkwC"
      },
      "source": [
        "이제 구조를 자세히 보면, list내 각 dict의 name에 있는 것을 다시 list화 시켜야 함을 알 수 있다."
      ]
    },
    {
      "cell_type": "code",
      "metadata": {
        "id": "-pNAK4pidWjH"
      },
      "source": [
        "movie_combined['genres'] = movie_combined['genres'].apply(lambda x: [d['name'] for d in x]).apply(lambda x: \" \".join(x))"
      ],
      "execution_count": 73,
      "outputs": []
    },
    {
      "cell_type": "code",
      "metadata": {
        "id": "72nGVAIGevGj"
      },
      "source": [
        "movie_combined['keywords'] = movie_combined['keywords'].apply(lambda x: [d['name'] for d in x]).apply(lambda x: \" \".join(x))"
      ],
      "execution_count": 74,
      "outputs": []
    },
    {
      "cell_type": "code",
      "metadata": {
        "colab": {
          "base_uri": "https://localhost:8080/",
          "height": 502
        },
        "id": "rKTQKfzbe3QW",
        "outputId": "cc95599c-3e00-4616-c989-65446a19d963"
      },
      "source": [
        "movie_combined"
      ],
      "execution_count": 17,
      "outputs": [
        {
          "output_type": "execute_result",
          "data": {
            "text/html": [
              "<div>\n",
              "<style scoped>\n",
              "    .dataframe tbody tr th:only-of-type {\n",
              "        vertical-align: middle;\n",
              "    }\n",
              "\n",
              "    .dataframe tbody tr th {\n",
              "        vertical-align: top;\n",
              "    }\n",
              "\n",
              "    .dataframe thead th {\n",
              "        text-align: right;\n",
              "    }\n",
              "</style>\n",
              "<table border=\"1\" class=\"dataframe\">\n",
              "  <thead>\n",
              "    <tr style=\"text-align: right;\">\n",
              "      <th></th>\n",
              "      <th>id</th>\n",
              "      <th>genres</th>\n",
              "      <th>popularity</th>\n",
              "      <th>vote_average</th>\n",
              "      <th>vote_count</th>\n",
              "      <th>release_date</th>\n",
              "      <th>adult</th>\n",
              "      <th>overview</th>\n",
              "      <th>keywords</th>\n",
              "    </tr>\n",
              "  </thead>\n",
              "  <tbody>\n",
              "    <tr>\n",
              "      <th>0</th>\n",
              "      <td>862</td>\n",
              "      <td>Animation Comedy Family</td>\n",
              "      <td>21.9469</td>\n",
              "      <td>7.7</td>\n",
              "      <td>5415.0</td>\n",
              "      <td>1995-10-30</td>\n",
              "      <td>False</td>\n",
              "      <td>Led by Woody, Andy's toys live happily in his ...</td>\n",
              "      <td>jealousy toy boy friendship friends rivalry bo...</td>\n",
              "    </tr>\n",
              "    <tr>\n",
              "      <th>1</th>\n",
              "      <td>8844</td>\n",
              "      <td>Adventure Fantasy Family</td>\n",
              "      <td>17.0155</td>\n",
              "      <td>6.9</td>\n",
              "      <td>2413.0</td>\n",
              "      <td>1995-12-15</td>\n",
              "      <td>False</td>\n",
              "      <td>When siblings Judy and Peter discover an encha...</td>\n",
              "      <td>board game disappearance based on children's b...</td>\n",
              "    </tr>\n",
              "    <tr>\n",
              "      <th>2</th>\n",
              "      <td>15602</td>\n",
              "      <td>Romance Comedy</td>\n",
              "      <td>11.7129</td>\n",
              "      <td>6.5</td>\n",
              "      <td>92.0</td>\n",
              "      <td>1995-12-22</td>\n",
              "      <td>False</td>\n",
              "      <td>A family wedding reignites the ancient feud be...</td>\n",
              "      <td>fishing best friend duringcreditsstinger old men</td>\n",
              "    </tr>\n",
              "    <tr>\n",
              "      <th>3</th>\n",
              "      <td>31357</td>\n",
              "      <td>Comedy Drama Romance</td>\n",
              "      <td>3.85949</td>\n",
              "      <td>6.1</td>\n",
              "      <td>34.0</td>\n",
              "      <td>1995-12-22</td>\n",
              "      <td>False</td>\n",
              "      <td>Cheated on, mistreated and stepped on, the wom...</td>\n",
              "      <td>based on novel interracial relationship single...</td>\n",
              "    </tr>\n",
              "    <tr>\n",
              "      <th>4</th>\n",
              "      <td>11862</td>\n",
              "      <td>Comedy</td>\n",
              "      <td>8.38752</td>\n",
              "      <td>5.7</td>\n",
              "      <td>173.0</td>\n",
              "      <td>1995-02-10</td>\n",
              "      <td>False</td>\n",
              "      <td>Just when George Banks has recovered from his ...</td>\n",
              "      <td>baby midlife crisis confidence aging daughter ...</td>\n",
              "    </tr>\n",
              "    <tr>\n",
              "      <th>...</th>\n",
              "      <td>...</td>\n",
              "      <td>...</td>\n",
              "      <td>...</td>\n",
              "      <td>...</td>\n",
              "      <td>...</td>\n",
              "      <td>...</td>\n",
              "      <td>...</td>\n",
              "      <td>...</td>\n",
              "      <td>...</td>\n",
              "    </tr>\n",
              "    <tr>\n",
              "      <th>29897</th>\n",
              "      <td>404604</td>\n",
              "      <td>Crime Drama Thriller</td>\n",
              "      <td>1.559596</td>\n",
              "      <td>6.6</td>\n",
              "      <td>14.0</td>\n",
              "      <td>2017-07-07</td>\n",
              "      <td>False</td>\n",
              "      <td>The bliss of a biology teacher’s family life i...</td>\n",
              "      <td>physical abuse sexual assault</td>\n",
              "    </tr>\n",
              "    <tr>\n",
              "      <th>29898</th>\n",
              "      <td>84419</td>\n",
              "      <td>Horror Mystery Thriller</td>\n",
              "      <td>0.222814</td>\n",
              "      <td>6.3</td>\n",
              "      <td>8.0</td>\n",
              "      <td>1946-03-29</td>\n",
              "      <td>False</td>\n",
              "      <td>An unsuccessful sculptor saves a madman named ...</td>\n",
              "      <td>revenge murder serial killer new york city scu...</td>\n",
              "    </tr>\n",
              "    <tr>\n",
              "      <th>29899</th>\n",
              "      <td>390959</td>\n",
              "      <td>Mystery Horror</td>\n",
              "      <td>0.076061</td>\n",
              "      <td>7.0</td>\n",
              "      <td>2.0</td>\n",
              "      <td>2000-10-22</td>\n",
              "      <td>False</td>\n",
              "      <td>In this true-crime documentary, we delve into ...</td>\n",
              "      <td>blair witch</td>\n",
              "    </tr>\n",
              "    <tr>\n",
              "      <th>29900</th>\n",
              "      <td>289923</td>\n",
              "      <td>Horror</td>\n",
              "      <td>0.38645</td>\n",
              "      <td>7.0</td>\n",
              "      <td>1.0</td>\n",
              "      <td>2000-10-03</td>\n",
              "      <td>False</td>\n",
              "      <td>A film archivist revisits the story of Rustin ...</td>\n",
              "      <td>witch mythology legend serial killer mockumentary</td>\n",
              "    </tr>\n",
              "    <tr>\n",
              "      <th>29901</th>\n",
              "      <td>111109</td>\n",
              "      <td>Drama</td>\n",
              "      <td>0.178241</td>\n",
              "      <td>9.0</td>\n",
              "      <td>3.0</td>\n",
              "      <td>2011-11-17</td>\n",
              "      <td>False</td>\n",
              "      <td>An artist struggles to finish his work while a...</td>\n",
              "      <td>artist play pinoy</td>\n",
              "    </tr>\n",
              "  </tbody>\n",
              "</table>\n",
              "<p>29902 rows × 9 columns</p>\n",
              "</div>"
            ],
            "text/plain": [
              "           id  ...                                           keywords\n",
              "0         862  ...  jealousy toy boy friendship friends rivalry bo...\n",
              "1        8844  ...  board game disappearance based on children's b...\n",
              "2       15602  ...   fishing best friend duringcreditsstinger old men\n",
              "3       31357  ...  based on novel interracial relationship single...\n",
              "4       11862  ...  baby midlife crisis confidence aging daughter ...\n",
              "...       ...  ...                                                ...\n",
              "29897  404604  ...                      physical abuse sexual assault\n",
              "29898   84419  ...  revenge murder serial killer new york city scu...\n",
              "29899  390959  ...                                        blair witch\n",
              "29900  289923  ...  witch mythology legend serial killer mockumentary\n",
              "29901  111109  ...                                  artist play pinoy\n",
              "\n",
              "[29902 rows x 9 columns]"
            ]
          },
          "metadata": {
            "tags": []
          },
          "execution_count": 17
        }
      ]
    },
    {
      "cell_type": "markdown",
      "metadata": {
        "id": "cN1q57cP1waK"
      },
      "source": [
        "다음은 평점에 대해 전처리를 실시하려고 한다.\r\n",
        "평점에 대한 전처리를 하는 이유는 인원수에 대한 편차를 줄이기 위함이다.\r\n",
        "https://www.quora.com/How-does-IMDbs-rating-system-work\r\n",
        "\r\n",
        "를 기준으로 하여 평점을 변경해보자.\r\n",
        "\r\n",
        "- R : 특정 영화의 평균 평점\r\n",
        "- V : 특정 영화의 투표 수\r\n",
        "- C : 전체 영화의 평균 평점\r\n",
        "- M : 특정 등수(여기서는 약 상위 10%인 3000위정도로 하자.)에 들기 위한 최소 요구 투표수.\r\n",
        "\r\n",
        "산식은\r\n",
        "\r\n",
        "$$ \\frac{V}{V+M} \\times R + \\frac{M}{V+M} \\times C $$ 으로 주어진다.\r\n",
        "\r\n",
        "각 값들을 구해보자."
      ]
    },
    {
      "cell_type": "code",
      "metadata": {
        "colab": {
          "base_uri": "https://localhost:8080/"
        },
        "id": "-FiUGMRJ-u4F",
        "outputId": "0f2f19f2-7251-4456-d532-7ed352d86543"
      },
      "source": [
        "# C 구하기.\r\n",
        "C = movie_combined['vote_average'].mean()\r\n",
        "C"
      ],
      "execution_count": 75,
      "outputs": [
        {
          "output_type": "execute_result",
          "data": {
            "text/plain": [
              "6.052330947762581"
            ]
          },
          "metadata": {
            "tags": []
          },
          "execution_count": 75
        }
      ]
    },
    {
      "cell_type": "code",
      "metadata": {
        "colab": {
          "base_uri": "https://localhost:8080/"
        },
        "id": "w51xqdBS-_5Y",
        "outputId": "72d66355-8c67-4e8e-9752-eb12426aa7f8"
      },
      "source": [
        "# M 구하기\r\n",
        "# 0.9분위수로 충분하다\r\n",
        "M = movie_combined['vote_count'].quantile(0.9)\r\n",
        "M"
      ],
      "execution_count": 76,
      "outputs": [
        {
          "output_type": "execute_result",
          "data": {
            "text/plain": [
              "302.0"
            ]
          },
          "metadata": {
            "tags": []
          },
          "execution_count": 76
        }
      ]
    },
    {
      "cell_type": "code",
      "metadata": {
        "id": "zoKWHXNz_RW2"
      },
      "source": [
        "def weight_rate(x, m=M, c=C):\r\n",
        "  # 행별로 들어갈 함수\r\n",
        "  V = x['vote_count']\r\n",
        "  R = x['vote_average']\r\n",
        "\r\n",
        "  return (V / (V + m) * R) + (m / (m + V) * c)"
      ],
      "execution_count": 77,
      "outputs": []
    },
    {
      "cell_type": "code",
      "metadata": {
        "id": "0dbDCbXP_tAh"
      },
      "source": [
        "movie_combined['adj_score'] = movie_combined.apply(weight_rate, axis = 1)"
      ],
      "execution_count": 78,
      "outputs": []
    },
    {
      "cell_type": "code",
      "metadata": {
        "colab": {
          "base_uri": "https://localhost:8080/",
          "height": 780
        },
        "id": "-gfkx6Pd_1ma",
        "outputId": "807ff6da-9242-424a-f807-72aa98f570dd"
      },
      "source": [
        "movie_combined.head(10)"
      ],
      "execution_count": 98,
      "outputs": [
        {
          "output_type": "execute_result",
          "data": {
            "text/html": [
              "<div>\n",
              "<style scoped>\n",
              "    .dataframe tbody tr th:only-of-type {\n",
              "        vertical-align: middle;\n",
              "    }\n",
              "\n",
              "    .dataframe tbody tr th {\n",
              "        vertical-align: top;\n",
              "    }\n",
              "\n",
              "    .dataframe thead th {\n",
              "        text-align: right;\n",
              "    }\n",
              "</style>\n",
              "<table border=\"1\" class=\"dataframe\">\n",
              "  <thead>\n",
              "    <tr style=\"text-align: right;\">\n",
              "      <th></th>\n",
              "      <th>id</th>\n",
              "      <th>title</th>\n",
              "      <th>genres</th>\n",
              "      <th>popularity</th>\n",
              "      <th>vote_average</th>\n",
              "      <th>vote_count</th>\n",
              "      <th>release_date</th>\n",
              "      <th>adult</th>\n",
              "      <th>overview</th>\n",
              "      <th>keywords</th>\n",
              "      <th>adj_score</th>\n",
              "    </tr>\n",
              "  </thead>\n",
              "  <tbody>\n",
              "    <tr>\n",
              "      <th>0</th>\n",
              "      <td>862</td>\n",
              "      <td>Toy Story</td>\n",
              "      <td>Animation Comedy Family</td>\n",
              "      <td>21.9469</td>\n",
              "      <td>7.7</td>\n",
              "      <td>5415.0</td>\n",
              "      <td>1995-10-30</td>\n",
              "      <td>False</td>\n",
              "      <td>Led by Woody, Andy's toys live happily in his ...</td>\n",
              "      <td>jealousy toy boy friendship friends rivalry bo...</td>\n",
              "      <td>7.612962</td>\n",
              "    </tr>\n",
              "    <tr>\n",
              "      <th>1</th>\n",
              "      <td>8844</td>\n",
              "      <td>Jumanji</td>\n",
              "      <td>Adventure Fantasy Family</td>\n",
              "      <td>17.0155</td>\n",
              "      <td>6.9</td>\n",
              "      <td>2413.0</td>\n",
              "      <td>1995-12-15</td>\n",
              "      <td>False</td>\n",
              "      <td>When siblings Judy and Peter discover an encha...</td>\n",
              "      <td>board game disappearance based on children's b...</td>\n",
              "      <td>6.805710</td>\n",
              "    </tr>\n",
              "    <tr>\n",
              "      <th>2</th>\n",
              "      <td>15602</td>\n",
              "      <td>Grumpier Old Men</td>\n",
              "      <td>Romance Comedy</td>\n",
              "      <td>11.7129</td>\n",
              "      <td>6.5</td>\n",
              "      <td>92.0</td>\n",
              "      <td>1995-12-22</td>\n",
              "      <td>False</td>\n",
              "      <td>A family wedding reignites the ancient feud be...</td>\n",
              "      <td>fishing best friend duringcreditsstinger old men</td>\n",
              "      <td>6.156863</td>\n",
              "    </tr>\n",
              "    <tr>\n",
              "      <th>3</th>\n",
              "      <td>31357</td>\n",
              "      <td>Waiting to Exhale</td>\n",
              "      <td>Comedy Drama Romance</td>\n",
              "      <td>3.85949</td>\n",
              "      <td>6.1</td>\n",
              "      <td>34.0</td>\n",
              "      <td>1995-12-22</td>\n",
              "      <td>False</td>\n",
              "      <td>Cheated on, mistreated and stepped on, the wom...</td>\n",
              "      <td>based on novel interracial relationship single...</td>\n",
              "      <td>6.057155</td>\n",
              "    </tr>\n",
              "    <tr>\n",
              "      <th>4</th>\n",
              "      <td>11862</td>\n",
              "      <td>Father of the Bride Part II</td>\n",
              "      <td>Comedy</td>\n",
              "      <td>8.38752</td>\n",
              "      <td>5.7</td>\n",
              "      <td>173.0</td>\n",
              "      <td>1995-02-10</td>\n",
              "      <td>False</td>\n",
              "      <td>Just when George Banks has recovered from his ...</td>\n",
              "      <td>baby midlife crisis confidence aging daughter ...</td>\n",
              "      <td>5.924008</td>\n",
              "    </tr>\n",
              "    <tr>\n",
              "      <th>5</th>\n",
              "      <td>949</td>\n",
              "      <td>Heat</td>\n",
              "      <td>Action Crime Drama Thriller</td>\n",
              "      <td>17.9249</td>\n",
              "      <td>7.7</td>\n",
              "      <td>1886.0</td>\n",
              "      <td>1995-12-15</td>\n",
              "      <td>False</td>\n",
              "      <td>Obsessive master thief, Neil McCauley leads a ...</td>\n",
              "      <td>robbery detective bank obsession chase shootin...</td>\n",
              "      <td>7.472580</td>\n",
              "    </tr>\n",
              "    <tr>\n",
              "      <th>6</th>\n",
              "      <td>11860</td>\n",
              "      <td>Sabrina</td>\n",
              "      <td>Comedy Romance</td>\n",
              "      <td>6.67728</td>\n",
              "      <td>6.2</td>\n",
              "      <td>141.0</td>\n",
              "      <td>1995-12-15</td>\n",
              "      <td>False</td>\n",
              "      <td>An ugly duckling having undergone a remarkable...</td>\n",
              "      <td>paris brother brother relationship chauffeur l...</td>\n",
              "      <td>6.099332</td>\n",
              "    </tr>\n",
              "    <tr>\n",
              "      <th>7</th>\n",
              "      <td>9091</td>\n",
              "      <td>Sudden Death</td>\n",
              "      <td>Action Adventure Thriller</td>\n",
              "      <td>5.23158</td>\n",
              "      <td>5.5</td>\n",
              "      <td>174.0</td>\n",
              "      <td>1995-12-22</td>\n",
              "      <td>False</td>\n",
              "      <td>International action superstar Jean Claude Van...</td>\n",
              "      <td>terrorist hostage explosive vice president</td>\n",
              "      <td>5.850428</td>\n",
              "    </tr>\n",
              "    <tr>\n",
              "      <th>8</th>\n",
              "      <td>710</td>\n",
              "      <td>GoldenEye</td>\n",
              "      <td>Adventure Action Thriller</td>\n",
              "      <td>14.686</td>\n",
              "      <td>6.6</td>\n",
              "      <td>1194.0</td>\n",
              "      <td>1995-11-16</td>\n",
              "      <td>False</td>\n",
              "      <td>James Bond must unmask the mysterious head of ...</td>\n",
              "      <td>cuba falsely accused secret identity computer ...</td>\n",
              "      <td>6.489441</td>\n",
              "    </tr>\n",
              "    <tr>\n",
              "      <th>9</th>\n",
              "      <td>9087</td>\n",
              "      <td>The American President</td>\n",
              "      <td>Comedy Drama Romance</td>\n",
              "      <td>6.31844</td>\n",
              "      <td>6.5</td>\n",
              "      <td>199.0</td>\n",
              "      <td>1995-11-17</td>\n",
              "      <td>False</td>\n",
              "      <td>Widowed U.S. president Andrew Shepherd, one of...</td>\n",
              "      <td>white house usa president new love widower wil...</td>\n",
              "      <td>6.230148</td>\n",
              "    </tr>\n",
              "  </tbody>\n",
              "</table>\n",
              "</div>"
            ],
            "text/plain": [
              "      id  ... adj_score\n",
              "0    862  ...  7.612962\n",
              "1   8844  ...  6.805710\n",
              "2  15602  ...  6.156863\n",
              "3  31357  ...  6.057155\n",
              "4  11862  ...  5.924008\n",
              "5    949  ...  7.472580\n",
              "6  11860  ...  6.099332\n",
              "7   9091  ...  5.850428\n",
              "8    710  ...  6.489441\n",
              "9   9087  ...  6.230148\n",
              "\n",
              "[10 rows x 11 columns]"
            ]
          },
          "metadata": {
            "tags": []
          },
          "execution_count": 98
        }
      ]
    },
    {
      "cell_type": "markdown",
      "metadata": {
        "id": "WzXPIJX-Az_9"
      },
      "source": [
        "## Content-based Model의 구현\r\n",
        "\r\n",
        "가장 먼저 할 일은 Content-based Model에 대한 구현이다.\r\n",
        "장르 기준으로 추천 모델을 짜보려고 한다.\r\n",
        "- 유사도가 높을수록 먼저 추천\r\n",
        "- 동일한 유사도일 경우 Adj_score가 더 높은 아이템을 추천한다."
      ]
    },
    {
      "cell_type": "markdown",
      "metadata": {
        "id": "dbnl9_pn---i"
      },
      "source": [
        "먼저 장르가 현재 어떻게 생겨먹었나를 보자."
      ]
    },
    {
      "cell_type": "code",
      "metadata": {
        "colab": {
          "base_uri": "https://localhost:8080/"
        },
        "id": "_cjS7hcICc_e",
        "outputId": "836e4c09-85f3-441e-ff72-74aed9373136"
      },
      "source": [
        "movie_combined.genres.head(10)"
      ],
      "execution_count": 27,
      "outputs": [
        {
          "output_type": "execute_result",
          "data": {
            "text/plain": [
              "0        Animation Comedy Family\n",
              "1       Adventure Fantasy Family\n",
              "2                 Romance Comedy\n",
              "3           Comedy Drama Romance\n",
              "4                         Comedy\n",
              "5    Action Crime Drama Thriller\n",
              "6                 Comedy Romance\n",
              "7      Action Adventure Thriller\n",
              "8      Adventure Action Thriller\n",
              "9           Comedy Drama Romance\n",
              "Name: genres, dtype: object"
            ]
          },
          "metadata": {
            "tags": []
          },
          "execution_count": 27
        }
      ]
    },
    {
      "cell_type": "markdown",
      "metadata": {
        "id": "PTRvz8GWCb8h"
      },
      "source": [
        "우리가 원하는 짓은 여기 있는 단어들을 하나하나 열로 만들어서 vector화 시키고 싶은 것이다. \r\n",
        "\r\n",
        "문제중 하나는 저 많은 영화 데이터에 얼마나 많은 장르가 담겨있는지 알기가 어렵고, 길이도 제마다 달라 추출이 어렵다. 집합을 사용하여 하나하나 빼는 방법도 있겠으나, 다른 방법을 써보자."
      ]
    },
    {
      "cell_type": "markdown",
      "metadata": {
        "id": "8nJx0M2PEpl4"
      },
      "source": [
        "### CountVectorizer\r\n",
        "\r\n",
        "Scikit-learn에 있는 기능을 하나 가져와보자.\r\n",
        "하려는 행동은, 각 줄에 들어가있는 단어들이 몇 개인지 세는 것이다. \r\n",
        "\r\n",
        "즉, movie-genre matrix의 생성이다.\r\n",
        "**즉 어떤 영화가 특정 장르에 속하면 1, 아니면 0을 반환하는 행렬을 만들어주면 된다.**\r\n",
        "이를 CountVectorzier를 통해 생성해 줄 수 있다.\r\n"
      ]
    },
    {
      "cell_type": "code",
      "metadata": {
        "id": "4onXmaWnfYo_"
      },
      "source": [
        "from sklearn.feature_extraction.text import CountVectorizer\r\n",
        "count_vector = CountVectorizer()\r\n",
        "cnt_genres = count_vector.fit_transform(movie_combined['genres'])\r\n",
        "genres_matrix = cnt_genres.toarray()"
      ],
      "execution_count": 79,
      "outputs": []
    },
    {
      "cell_type": "code",
      "metadata": {
        "colab": {
          "base_uri": "https://localhost:8080/"
        },
        "id": "080TscdYg_cH",
        "outputId": "25bbc820-3a1d-4ecf-a46a-a8086174ad4d"
      },
      "source": [
        "print(genres_matrix)"
      ],
      "execution_count": 80,
      "outputs": [
        {
          "output_type": "stream",
          "text": [
            "[[0 0 1 ... 0 0 0]\n",
            " [0 1 0 ... 0 0 0]\n",
            " [0 0 0 ... 0 0 0]\n",
            " ...\n",
            " [0 0 0 ... 0 0 0]\n",
            " [0 0 0 ... 0 0 0]\n",
            " [0 0 0 ... 0 0 0]]\n"
          ],
          "name": "stdout"
        }
      ]
    },
    {
      "cell_type": "code",
      "metadata": {
        "colab": {
          "base_uri": "https://localhost:8080/"
        },
        "id": "1KtCLGRj5RiM",
        "outputId": "adaa09e6-907c-4146-f760-634010246479"
      },
      "source": [
        "#column별 의미 추출\r\n",
        "print(count_vector.vocabulary_)"
      ],
      "execution_count": 81,
      "outputs": [
        {
          "output_type": "stream",
          "text": [
            "{'animation': 2, 'comedy': 3, 'family': 7, 'adventure': 1, 'fantasy': 8, 'romance': 16, 'drama': 6, 'action': 0, 'crime': 4, 'thriller': 18, 'horror': 12, 'history': 11, 'science': 17, 'fiction': 9, 'mystery': 15, 'war': 20, 'foreign': 10, 'music': 14, 'documentary': 5, 'western': 21, 'tv': 19, 'movie': 13}\n"
          ],
          "name": "stdout"
        }
      ]
    },
    {
      "cell_type": "markdown",
      "metadata": {
        "id": "PFPCeDZihJBT"
      },
      "source": [
        "### Similarity\r\n",
        "이제 위의 결과물로 유사도를 활용하여 추천 모델을 만들어보자.\r\n",
        "\r\n"
      ]
    },
    {
      "cell_type": "markdown",
      "metadata": {
        "id": "fSZv4phojHpw"
      },
      "source": [
        "목표는 다음과 같다. \r\n",
        "\r\n",
        "1. 영화-영화간의 유사도를 구하자.\r\n",
        "2. 특정 영화 제목이 주어질 때, 유사도가 가장 높은 영화 10개를 선정한다."
      ]
    },
    {
      "cell_type": "markdown",
      "metadata": {
        "id": "3fBxXx3JKuSi"
      },
      "source": [
        "우리가 사용할 유사도는 다양한 것들 중 cosine similarity를 사용할려고 한다.\r\n",
        "말 그대로, cosine값을 주려고 한다."
      ]
    },
    {
      "cell_type": "code",
      "metadata": {
        "id": "OPLffKKPMUqP"
      },
      "source": [
        "def cosine_similarity(a, b):\r\n",
        "  norm_a = np.linalg.norm(a, ord = 2)\r\n",
        "  norm_b = np.linalg.norm(b, ord = 2)\r\n",
        "  return np.dot(a, b) / (norm_a * norm_b)\r\n",
        "# 사실은 scikit-learn에 패키지가 있으나, 직접 만들었다."
      ],
      "execution_count": 82,
      "outputs": []
    },
    {
      "cell_type": "code",
      "metadata": {
        "colab": {
          "base_uri": "https://localhost:8080/"
        },
        "id": "yZODiuzOM5Mg",
        "outputId": "777e2b23-437b-45c0-8fe3-1faa672fb982"
      },
      "source": [
        "genres_matrix.shape[0]"
      ],
      "execution_count": 83,
      "outputs": [
        {
          "output_type": "execute_result",
          "data": {
            "text/plain": [
              "29902"
            ]
          },
          "metadata": {
            "tags": []
          },
          "execution_count": 83
        }
      ]
    },
    {
      "cell_type": "markdown",
      "metadata": {
        "id": "Gf-aH00xSA_F"
      },
      "source": [
        "즉 29,902개의 영화 중 제목이 일치하는 것을 하나 잡은 후, 제목이 일치하는 인덱스를 뽑아야 한다."
      ]
    },
    {
      "cell_type": "code",
      "metadata": {
        "colab": {
          "base_uri": "https://localhost:8080/"
        },
        "id": "0MqXYb23RViF",
        "outputId": "85ef8784-572e-48fb-aef4-0126a2a77716"
      },
      "source": [
        "target_title = str(input())\r\n",
        "target_index = movie_combined[movie_combined['title'] == target_title].index.values[0]\r\n",
        "print(target_index)\r\n",
        "target_sim = [0 for _ in range(29902)]\r\n",
        "for i in range(29902):\r\n",
        "  if i == target_index:\r\n",
        "    target_sim[i] = 0\r\n",
        "  else:\r\n",
        "    target_sim[i] = cosine_similarity(genres_matrix[i], genres_matrix[target_index])\r\n",
        "\r\n",
        "result_sim_df = pd.DataFrame(data = target_sim, index = range(29902), columns=['sim'])\r\n",
        "result = pd.concat([movie_combined, result_sim_df], axis = 1)\r\n",
        "final_result = result.sort_values('sim', ascending=False)[:10]['title']\r\n",
        "print(final_result)"
      ],
      "execution_count": 99,
      "outputs": [
        {
          "output_type": "stream",
          "text": [
            "Jumanji\n",
            "1\n",
            "10535                       The Spiderwick Chronicles\n",
            "25714                      Kingdom of Crooked Mirrors\n",
            "1696                                     Return to Oz\n",
            "13280    Harry Potter and the Deathly Hallows: Part 1\n",
            "21104                                             Pan\n",
            "28242                                            Mama\n",
            "26786                                   Pete's Dragon\n",
            "22023         Fantastic Beasts and Where to Find Them\n",
            "12400                             Alice in Wonderland\n",
            "28158                     Adventures in Dinosaur City\n",
            "Name: title, dtype: object\n"
          ],
          "name": "stdout"
        }
      ]
    },
    {
      "cell_type": "markdown",
      "metadata": {
        "id": "wzu66-hyZgyA"
      },
      "source": [
        "다만, 이렇게 설계할 경우 아쉬운 점은 실제 영화의 평점 등은 전혀 반영되지 않았다는 점이다. 오로지 '장르의 유사성'에만 집중하여 영화의 추천이 일어났다.\r\n",
        "다만, 이번 구현에서는 가장 원론적인 구현 방법론에만 집중하려 한다."
      ]
    },
    {
      "cell_type": "markdown",
      "metadata": {
        "id": "MNQYG-M6ZywA"
      },
      "source": [
        "## Collaborative-Filtering의 구현\r\n",
        "\r\n",
        "Matrix Factorization 이전에, "
      ]
    }
  ]
}