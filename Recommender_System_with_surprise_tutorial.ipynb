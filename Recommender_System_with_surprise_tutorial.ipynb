{
  "nbformat": 4,
  "nbformat_minor": 0,
  "metadata": {
    "colab": {
      "name": "Recommender_System_with_surprise_tutorial.ipynb",
      "provenance": [],
      "authorship_tag": "ABX9TyM6bVOMiAzMH/QFphWzXsQy",
      "include_colab_link": true
    },
    "kernelspec": {
      "name": "python3",
      "display_name": "Python 3"
    },
    "language_info": {
      "name": "python"
    }
  },
  "cells": [
    {
      "cell_type": "markdown",
      "metadata": {
        "id": "view-in-github",
        "colab_type": "text"
      },
      "source": [
        "<a href=\"https://colab.research.google.com/github/SeongwonTak/RecommenderSystem/blob/main/Recommender_System_with_surprise_tutorial.ipynb\" target=\"_parent\"><img src=\"https://colab.research.google.com/assets/colab-badge.svg\" alt=\"Open In Colab\"/></a>"
      ]
    },
    {
      "cell_type": "markdown",
      "metadata": {
        "id": "_OVhRHSQVdRj"
      },
      "source": [
        "# Surprise_Tutorial\n",
        "참고 :   \n",
        "[1] https://techblog-history-younghunjo1.tistory.com/117  \n",
        "[2] https://datascienceschool.net/03%20machine%20learning/07.01%20%EC%B6%94%EC%B2%9C%20%EC%8B%9C%EC%8A%A4%ED%85%9C.html#surprise  \n",
        "[3] https://surprise.readthedocs.io/en/stable/getting_started.html#  \n"
      ]
    },
    {
      "cell_type": "markdown",
      "metadata": {
        "id": "IRx6XymgaCTx"
      },
      "source": [
        "## 일단은, Movie_lens로 svd 만들어보기"
      ]
    },
    {
      "cell_type": "code",
      "metadata": {
        "colab": {
          "base_uri": "https://localhost:8080/"
        },
        "id": "endyVz9VVKdY",
        "outputId": "cd5ed28b-c277-4bf0-a7ed-9d81c7487d1b"
      },
      "source": [
        "!pip install surprise\n",
        "import surprise"
      ],
      "execution_count": 1,
      "outputs": [
        {
          "output_type": "stream",
          "text": [
            "Collecting surprise\n",
            "  Downloading surprise-0.1-py2.py3-none-any.whl (1.8 kB)\n",
            "Collecting scikit-surprise\n",
            "  Downloading scikit-surprise-1.1.1.tar.gz (11.8 MB)\n",
            "\u001b[K     |████████████████████████████████| 11.8 MB 12.0 MB/s \n",
            "\u001b[?25hRequirement already satisfied: joblib>=0.11 in /usr/local/lib/python3.7/dist-packages (from scikit-surprise->surprise) (1.0.1)\n",
            "Requirement already satisfied: numpy>=1.11.2 in /usr/local/lib/python3.7/dist-packages (from scikit-surprise->surprise) (1.19.5)\n",
            "Requirement already satisfied: scipy>=1.0.0 in /usr/local/lib/python3.7/dist-packages (from scikit-surprise->surprise) (1.4.1)\n",
            "Requirement already satisfied: six>=1.10.0 in /usr/local/lib/python3.7/dist-packages (from scikit-surprise->surprise) (1.15.0)\n",
            "Building wheels for collected packages: scikit-surprise\n",
            "  Building wheel for scikit-surprise (setup.py) ... \u001b[?25l\u001b[?25hdone\n",
            "  Created wheel for scikit-surprise: filename=scikit_surprise-1.1.1-cp37-cp37m-linux_x86_64.whl size=1617777 sha256=319061ff9c5ae150e59e631f4d889986f6f26bd0d7d16fa163dfca38cfc5ec72\n",
            "  Stored in directory: /root/.cache/pip/wheels/76/44/74/b498c42be47b2406bd27994e16c5188e337c657025ab400c1c\n",
            "Successfully built scikit-surprise\n",
            "Installing collected packages: scikit-surprise, surprise\n",
            "Successfully installed scikit-surprise-1.1.1 surprise-0.1\n"
          ],
          "name": "stdout"
        }
      ]
    },
    {
      "cell_type": "code",
      "metadata": {
        "id": "BP-Ve6kQZTS3"
      },
      "source": [
        "from surprise import Dataset\n",
        "from surprise.model_selection import train_test_split"
      ],
      "execution_count": 2,
      "outputs": []
    },
    {
      "cell_type": "code",
      "metadata": {
        "colab": {
          "base_uri": "https://localhost:8080/"
        },
        "id": "UqnUMtvNZa9Y",
        "outputId": "bf297b63-3118-4eed-ce41-a37218960d88"
      },
      "source": [
        "data = Dataset.load_builtin('ml-100k')\n",
        "train, test = train_test_split(data, test_size = 0.2)"
      ],
      "execution_count": 3,
      "outputs": [
        {
          "output_type": "stream",
          "text": [
            "Dataset ml-100k could not be found. Do you want to download it? [Y/n] Y\n",
            "Trying to download dataset from http://files.grouplens.org/datasets/movielens/ml-100k.zip...\n",
            "Done! Dataset ml-100k has been saved to /root/.surprise_data/ml-100k\n"
          ],
          "name": "stdout"
        }
      ]
    },
    {
      "cell_type": "code",
      "metadata": {
        "colab": {
          "base_uri": "https://localhost:8080/"
        },
        "id": "nW5Oqf5LZoN7",
        "outputId": "9df8774f-9f30-4d68-b9bf-7e959a1c5d23"
      },
      "source": [
        "from surprise import SVD\n",
        "from surprise import Dataset\n",
        "from surprise import accuracy\n",
        "\n",
        "algo = SVD()\n",
        "algo.fit(train)"
      ],
      "execution_count": 4,
      "outputs": [
        {
          "output_type": "execute_result",
          "data": {
            "text/plain": [
              "<surprise.prediction_algorithms.matrix_factorization.SVD at 0x7fdffe1b67d0>"
            ]
          },
          "metadata": {
            "tags": []
          },
          "execution_count": 4
        }
      ]
    },
    {
      "cell_type": "code",
      "metadata": {
        "id": "e-gjJsdgZxgl"
      },
      "source": [
        "prediction = algo.test(test)"
      ],
      "execution_count": 5,
      "outputs": []
    },
    {
      "cell_type": "code",
      "metadata": {
        "colab": {
          "base_uri": "https://localhost:8080/"
        },
        "id": "kQGBKFjzZ300",
        "outputId": "948ecb8d-3412-4773-c876-5d436114e74f"
      },
      "source": [
        "# svd 결과 출력\n",
        "result = [(pred.uid, pred.iid, pred.est) for pred in prediction[:5]]\n",
        "print(result)"
      ],
      "execution_count": 6,
      "outputs": [
        {
          "output_type": "stream",
          "text": [
            "[('881', '419', 3.3183460970897767), ('291', '760', 3.214057599858289), ('292', '214', 3.9093246876842724), ('506', '196', 4.189342584443798), ('561', '319', 2.6264834725852646)]\n"
          ],
          "name": "stdout"
        }
      ]
    },
    {
      "cell_type": "code",
      "metadata": {
        "colab": {
          "base_uri": "https://localhost:8080/"
        },
        "id": "WjdX2BhxaAhA",
        "outputId": "778e7866-dd4e-4bd5-a561-11c948d75692"
      },
      "source": [
        "from surprise import accuracy\n",
        "# 평점 평가\n",
        "accuracy.rmse(prediction)"
      ],
      "execution_count": 7,
      "outputs": [
        {
          "output_type": "stream",
          "text": [
            "RMSE: 0.9289\n"
          ],
          "name": "stdout"
        },
        {
          "output_type": "execute_result",
          "data": {
            "text/plain": [
              "0.9289075430707359"
            ]
          },
          "metadata": {
            "tags": []
          },
          "execution_count": 7
        }
      ]
    },
    {
      "cell_type": "markdown",
      "metadata": {
        "id": "WqHfL3ntcWS2"
      },
      "source": [
        "## Cross-Validation"
      ]
    },
    {
      "cell_type": "markdown",
      "metadata": {
        "id": "iJ0RkBY9dc3G"
      },
      "source": [
        "공식문서의 튜토리얼을 정리해본다.\n",
        "우선, cross-validate를 자동으로 지원한다. 이에 따라, FOLD별로 measure값을 자동으로 얻게 된다."
      ]
    },
    {
      "cell_type": "code",
      "metadata": {
        "colab": {
          "base_uri": "https://localhost:8080/"
        },
        "id": "zZXDUA7MaafV",
        "outputId": "820536a5-8d60-444f-85b1-614f1313ec20"
      },
      "source": [
        "from surprise import SVD\n",
        "from surprise import Dataset\n",
        "from surprise.model_selection import cross_validate\n",
        "\n",
        "\n",
        "# Load the movielens-100k dataset (download it if needed),\n",
        "data = Dataset.load_builtin('ml-100k')\n",
        "\n",
        "# We'll use the famous SVD algorithm.\n",
        "algo = SVD()\n",
        "\n",
        "# Run 5-fold cross-validation and print results\n",
        "cross_validate(algo, data, measures=['RMSE', 'MAE'], cv=5, verbose=True)"
      ],
      "execution_count": 8,
      "outputs": [
        {
          "output_type": "stream",
          "text": [
            "Evaluating RMSE, MAE of algorithm SVD on 5 split(s).\n",
            "\n",
            "                  Fold 1  Fold 2  Fold 3  Fold 4  Fold 5  Mean    Std     \n",
            "RMSE (testset)    0.9345  0.9328  0.9426  0.9451  0.9325  0.9375  0.0053  \n",
            "MAE (testset)     0.7362  0.7352  0.7423  0.7463  0.7363  0.7392  0.0043  \n",
            "Fit time          4.68    4.70    4.74    4.66    4.72    4.70    0.03    \n",
            "Test time         0.18    0.27    0.18    0.35    0.17    0.23    0.07    \n"
          ],
          "name": "stdout"
        },
        {
          "output_type": "execute_result",
          "data": {
            "text/plain": [
              "{'fit_time': (4.682119131088257,\n",
              "  4.698548793792725,\n",
              "  4.73757004737854,\n",
              "  4.662883281707764,\n",
              "  4.719443321228027),\n",
              " 'test_mae': array([0.73624884, 0.73515996, 0.74225286, 0.74631212, 0.73627013]),\n",
              " 'test_rmse': array([0.93450102, 0.93284291, 0.9426279 , 0.94511345, 0.93254027]),\n",
              " 'test_time': (0.18024826049804688,\n",
              "  0.27120375633239746,\n",
              "  0.18095898628234863,\n",
              "  0.34670543670654297,\n",
              "  0.17378997802734375)}"
            ]
          },
          "metadata": {
            "tags": []
          },
          "execution_count": 8
        }
      ]
    },
    {
      "cell_type": "markdown",
      "metadata": {
        "id": "tB3pCKG-dxid"
      },
      "source": [
        "## Train a whole data set\n",
        "전체 데이터 셋을 훈련으로 쓸 수도 있다.\n",
        "여기서는 KNN-basic을 활용한다."
      ]
    },
    {
      "cell_type": "code",
      "metadata": {
        "colab": {
          "base_uri": "https://localhost:8080/"
        },
        "id": "xo1iYI9mdV-Y",
        "outputId": "add9ea29-c241-403d-d503-4c86c83558c8"
      },
      "source": [
        "from surprise import KNNBasic\n",
        "from surprise import Dataset\n",
        "\n",
        "# Load the movielens-100k dataset\n",
        "data = Dataset.load_builtin('ml-100k')\n",
        "\n",
        "# Retrieve the trainset.\n",
        "trainset = data.build_full_trainset()\n",
        "\n",
        "# Build an algorithm, and train it.\n",
        "algo = KNNBasic()\n",
        "algo.fit(trainset)"
      ],
      "execution_count": 9,
      "outputs": [
        {
          "output_type": "stream",
          "text": [
            "Computing the msd similarity matrix...\n",
            "Done computing similarity matrix.\n"
          ],
          "name": "stdout"
        },
        {
          "output_type": "execute_result",
          "data": {
            "text/plain": [
              "<surprise.prediction_algorithms.knns.KNNBasic at 0x7fdffa74ac90>"
            ]
          },
          "metadata": {
            "tags": []
          },
          "execution_count": 9
        }
      ]
    },
    {
      "cell_type": "code",
      "metadata": {
        "colab": {
          "base_uri": "https://localhost:8080/"
        },
        "id": "Z6J9wZtRd8n3",
        "outputId": "d40fe623-eb60-4515-957c-38814d340392"
      },
      "source": [
        "algo.predict(196, 302)"
      ],
      "execution_count": 11,
      "outputs": [
        {
          "output_type": "execute_result",
          "data": {
            "text/plain": [
              "Prediction(uid=196, iid=302, r_ui=None, est=3.52986, details={'was_impossible': True, 'reason': 'User and/or item is unknown.'})"
            ]
          },
          "metadata": {
            "tags": []
          },
          "execution_count": 11
        }
      ]
    },
    {
      "cell_type": "code",
      "metadata": {
        "id": "MWR1MNDKeDpA"
      },
      "source": [
        ""
      ],
      "execution_count": null,
      "outputs": []
    }
  ]
}